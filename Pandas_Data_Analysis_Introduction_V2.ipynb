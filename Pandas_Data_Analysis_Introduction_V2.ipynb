{
 "cells": [
  {
   "cell_type": "markdown",
   "metadata": {},
   "source": [
    "# Pandas and Data Analysis: An Introduction\n",
    "\n",
    "[**Pandas**](http://pandas.pydata.org) is an user-friendly data analysis tool for Python. \n",
    "\n",
    "In Jupyter Notebooks we can easily *load*, *clean* and *analyse* data with Pandas. \n",
    "\n",
    "For detailed information of Pandas, you can refer to [here](http://pandas.pydata.org/pandas-docs/stable/tutorials.html).\n",
    "\n",
    "-------------------------\n",
    "We may use packages such as Pandas, NumPy and Matplotlib as long as being imported once at the beginning of the notebook (we don't have to import them again within the notebook)."
   ]
  },
  {
   "cell_type": "code",
   "execution_count": 2,
   "metadata": {
    "collapsed": true
   },
   "outputs": [],
   "source": [
    "import pandas as pd\n",
    "import numpy as np\n",
    "import matplotlib.pyplot as plt"
   ]
  },
  {
   "cell_type": "markdown",
   "metadata": {},
   "source": [
    "\n",
    "## 1. Load Data <a id='Section 1'></a>\n",
    "\n",
    "The very first step in analysing data is to load the data. \n",
    "\n",
    "In this section, we introduce how to load local data stored on your device. \n"
   ]
  },
  {
   "cell_type": "markdown",
   "metadata": {},
   "source": [
    "### 1.1 Local Data\n",
    "\n",
    "Before loading local data, we have to check the file format by its file extension, for example, *csv* or *txt*. \n",
    "\n",
    "Pandas can load various types of data files into [*Data Frame*](http://pandas.pydata.org/pandas-docs/stable/generated/pandas.DataFrame.html)'s. \n",
    "\n",
    "The most common financial data files are [csv](https://en.wikipedia.org/wiki/Comma-separated_values) data file and [txt](https://en.wikipedia.org/wiki/Text_file) data file.\n",
    "\n",
    "Here we take *csv* file as an example by [read_table](https://pandas.pydata.org/pandas-docs/stable/generated/pandas.read_table.html). \n",
    "\n",
    "You may also have data stored in a file formatted by other software, such as *xlsx* from Excel, *sql* from MSSQL, *dta* from Stata, etc. \n",
    "\n",
    "There are many alternative ways to load data from other sources, such as [read_excel](http://pandas.pydata.org/pandas-docs/version/0.20/generated/pandas.read_excel.html) for *xlsx* file, [read_sql](https://pandas.pydata.org/pandas-docs/stable/generated/pandas.read_sql.html) for *sql* file, [read_stata](http://pandas.pydata.org/pandas-docs/version/0.20/generated/pandas.read_stata.html) for *dta* file, etc."
   ]
  },
  {
   "cell_type": "markdown",
   "metadata": {},
   "source": [
    "-----------------\n",
    "+ We need import library at the beginning of code to make use of functions in that library. \n",
    "\n",
    "    It is convenient to make alias of Pandas as pd.\n",
    "\n",
    "\n",
    "+ We use *AUD1MTD156N.csv*, which is 1-Month London Interbank Offered Rate (LIBOR) based on AUD, in the following example. You can download the data file from Ed. \n",
    "\n",
    "    [LIBOR](https://en.wikipedia.org/wiki/Libor) is fundamental interest rate in financial market.\n",
    "    \n",
    "    The data file used in Section 1.1 is downloaded from the website of [Federal Reserve Bank of St. Louis](https://fred.stlouisfed.org/categories/33003/downloaddata). \n",
    "    \n",
    "    If you could not download the data file from Ed, you may also download the zipfile from the website. \n",
    "    \n",
    "\n",
    "+    We have to tell the computer what the separator, or [delimiter](https://en.wikipedia.org/wiki/Delimiter), is in our data file. \n",
    "\n",
    "    The separator in *csv* file is comma and we specify it in `sep`. \n",
    "    \n"
   ]
  },
  {
   "cell_type": "code",
   "execution_count": 3,
   "metadata": {},
   "outputs": [],
   "source": [
    "df = pd.read_table('AUD1MTD156N.csv', sep = ',')"
   ]
  },
  {
   "cell_type": "markdown",
   "metadata": {},
   "source": [
    "You may wonder whether you have successfully loaded the data and what the data looks like. \n",
    "\n",
    "To check the first few lines of data, you can try:"
   ]
  },
  {
   "cell_type": "code",
   "execution_count": 4,
   "metadata": {},
   "outputs": [
    {
     "data": {
      "text/html": [
       "<div>\n",
       "<style>\n",
       "    .dataframe thead tr:only-child th {\n",
       "        text-align: right;\n",
       "    }\n",
       "\n",
       "    .dataframe thead th {\n",
       "        text-align: left;\n",
       "    }\n",
       "\n",
       "    .dataframe tbody tr th {\n",
       "        vertical-align: top;\n",
       "    }\n",
       "</style>\n",
       "<table border=\"1\" class=\"dataframe\">\n",
       "  <thead>\n",
       "    <tr style=\"text-align: right;\">\n",
       "      <th></th>\n",
       "      <th>DATE</th>\n",
       "      <th>VALUE</th>\n",
       "    </tr>\n",
       "  </thead>\n",
       "  <tbody>\n",
       "    <tr>\n",
       "      <th>0</th>\n",
       "      <td>1989-01-03</td>\n",
       "      <td>14.62500</td>\n",
       "    </tr>\n",
       "    <tr>\n",
       "      <th>1</th>\n",
       "      <td>1989-01-04</td>\n",
       "      <td>14.59375</td>\n",
       "    </tr>\n",
       "    <tr>\n",
       "      <th>2</th>\n",
       "      <td>1989-01-05</td>\n",
       "      <td>14.57813</td>\n",
       "    </tr>\n",
       "    <tr>\n",
       "      <th>3</th>\n",
       "      <td>1989-01-06</td>\n",
       "      <td>14.67188</td>\n",
       "    </tr>\n",
       "    <tr>\n",
       "      <th>4</th>\n",
       "      <td>1989-01-09</td>\n",
       "      <td>14.75000</td>\n",
       "    </tr>\n",
       "  </tbody>\n",
       "</table>\n",
       "</div>"
      ],
      "text/plain": [
       "         DATE     VALUE\n",
       "0  1989-01-03  14.62500\n",
       "1  1989-01-04  14.59375\n",
       "2  1989-01-05  14.57813\n",
       "3  1989-01-06  14.67188\n",
       "4  1989-01-09  14.75000"
      ]
     },
     "execution_count": 4,
     "metadata": {},
     "output_type": "execute_result"
    }
   ],
   "source": [
    "df.head()"
   ]
  },
  {
   "cell_type": "markdown",
   "metadata": {},
   "source": [
    "We will discuss more about data preview in [Section 2.1](#Section2.1).\n",
    "\n",
    "You may also try some simple plots."
   ]
  },
  {
   "cell_type": "code",
   "execution_count": 7,
   "metadata": {},
   "outputs": [
    {
     "data": {
      "image/png": "[encoded data removed]",
      "text/plain": [
       "<matplotlib.figure.Figure at 0x7faf985f3e80>"
      ]
     },
     "metadata": {},
     "output_type": "display_data"
    }
   ],
   "source": [
    "df1 = pd.to_numeric(df.VALUE, errors='coerce') #this is manipulating the data in the VALUE column and assigning to df1\n",
    "df1.plot()\n",
    "plt.show()"
   ]
  },
  {
   "cell_type": "markdown",
   "metadata": {},
   "source": [
    "We will introduce how to make the plot more informative (to add legends, labels, plot types, etc.) in the future."
   ]
  },
  {
   "cell_type": "markdown",
   "metadata": {},
   "source": [
    "----------------------------\n",
    "We can also load a *txt* file by `read_table`. \n",
    "\n",
    "Note that *csv* file is comma-separated. While the separator of *txt* file can be different. \n",
    "\n",
    "In *AUD1MTD156N.txt*, the separator is space."
   ]
  },
  {
   "cell_type": "markdown",
   "metadata": {},
   "source": [
    "<div class=\"alert alert-block alert-info\"><b> Exercise:<br>\n",
    "Try to load the txt file by changing the file name and separator. <br>\n",
    "What do you find?</b>"
   ]
  },
  {
   "cell_type": "code",
   "execution_count": 5,
   "metadata": {
    "collapsed": true
   },
   "outputs": [],
   "source": [
    "df_txt = pd.read_table('AUD1MTD156N.txt', sep=' ')"
   ]
  },
  {
   "cell_type": "code",
   "execution_count": 6,
   "metadata": {},
   "outputs": [
    {
     "data": {
      "text/html": [
       "<div>\n",
       "<style>\n",
       "    .dataframe thead tr:only-child th {\n",
       "        text-align: right;\n",
       "    }\n",
       "\n",
       "    .dataframe thead th {\n",
       "        text-align: left;\n",
       "    }\n",
       "\n",
       "    .dataframe tbody tr th {\n",
       "        vertical-align: top;\n",
       "    }\n",
       "</style>\n",
       "<table border=\"1\" class=\"dataframe\">\n",
       "  <thead>\n",
       "    <tr style=\"text-align: right;\">\n",
       "      <th></th>\n",
       "      <th>DATE</th>\n",
       "      <th>Unnamed: 1</th>\n",
       "      <th>Unnamed: 2</th>\n",
       "      <th>Unnamed: 3</th>\n",
       "      <th>Unnamed: 4</th>\n",
       "      <th>Unnamed: 5</th>\n",
       "      <th>Unnamed: 6</th>\n",
       "      <th>Unnamed: 7</th>\n",
       "      <th>Unnamed: 8</th>\n",
       "      <th>Unnamed: 9</th>\n",
       "      <th>Unnamed: 10</th>\n",
       "      <th>VALUE</th>\n",
       "    </tr>\n",
       "  </thead>\n",
       "  <tbody>\n",
       "    <tr>\n",
       "      <th>0</th>\n",
       "      <td>1989-01-03</td>\n",
       "      <td>NaN</td>\n",
       "      <td>14.62500</td>\n",
       "      <td>NaN</td>\n",
       "      <td>NaN</td>\n",
       "      <td>NaN</td>\n",
       "      <td>NaN</td>\n",
       "      <td>NaN</td>\n",
       "      <td>NaN</td>\n",
       "      <td>NaN</td>\n",
       "      <td>NaN</td>\n",
       "      <td>NaN</td>\n",
       "    </tr>\n",
       "    <tr>\n",
       "      <th>1</th>\n",
       "      <td>1989-01-04</td>\n",
       "      <td>NaN</td>\n",
       "      <td>14.59375</td>\n",
       "      <td>NaN</td>\n",
       "      <td>NaN</td>\n",
       "      <td>NaN</td>\n",
       "      <td>NaN</td>\n",
       "      <td>NaN</td>\n",
       "      <td>NaN</td>\n",
       "      <td>NaN</td>\n",
       "      <td>NaN</td>\n",
       "      <td>NaN</td>\n",
       "    </tr>\n",
       "    <tr>\n",
       "      <th>2</th>\n",
       "      <td>1989-01-05</td>\n",
       "      <td>NaN</td>\n",
       "      <td>14.57813</td>\n",
       "      <td>NaN</td>\n",
       "      <td>NaN</td>\n",
       "      <td>NaN</td>\n",
       "      <td>NaN</td>\n",
       "      <td>NaN</td>\n",
       "      <td>NaN</td>\n",
       "      <td>NaN</td>\n",
       "      <td>NaN</td>\n",
       "      <td>NaN</td>\n",
       "    </tr>\n",
       "    <tr>\n",
       "      <th>3</th>\n",
       "      <td>1989-01-06</td>\n",
       "      <td>NaN</td>\n",
       "      <td>14.67188</td>\n",
       "      <td>NaN</td>\n",
       "      <td>NaN</td>\n",
       "      <td>NaN</td>\n",
       "      <td>NaN</td>\n",
       "      <td>NaN</td>\n",
       "      <td>NaN</td>\n",
       "      <td>NaN</td>\n",
       "      <td>NaN</td>\n",
       "      <td>NaN</td>\n",
       "    </tr>\n",
       "    <tr>\n",
       "      <th>4</th>\n",
       "      <td>1989-01-09</td>\n",
       "      <td>NaN</td>\n",
       "      <td>14.75000</td>\n",
       "      <td>NaN</td>\n",
       "      <td>NaN</td>\n",
       "      <td>NaN</td>\n",
       "      <td>NaN</td>\n",
       "      <td>NaN</td>\n",
       "      <td>NaN</td>\n",
       "      <td>NaN</td>\n",
       "      <td>NaN</td>\n",
       "      <td>NaN</td>\n",
       "    </tr>\n",
       "  </tbody>\n",
       "</table>\n",
       "</div>"
      ],
      "text/plain": [
       "         DATE  Unnamed: 1  Unnamed: 2  Unnamed: 3  Unnamed: 4  Unnamed: 5  \\\n",
       "0  1989-01-03         NaN    14.62500         NaN         NaN         NaN   \n",
       "1  1989-01-04         NaN    14.59375         NaN         NaN         NaN   \n",
       "2  1989-01-05         NaN    14.57813         NaN         NaN         NaN   \n",
       "3  1989-01-06         NaN    14.67188         NaN         NaN         NaN   \n",
       "4  1989-01-09         NaN    14.75000         NaN         NaN         NaN   \n",
       "\n",
       "   Unnamed: 6  Unnamed: 7  Unnamed: 8 Unnamed: 9  Unnamed: 10  VALUE  \n",
       "0         NaN         NaN         NaN        NaN          NaN    NaN  \n",
       "1         NaN         NaN         NaN        NaN          NaN    NaN  \n",
       "2         NaN         NaN         NaN        NaN          NaN    NaN  \n",
       "3         NaN         NaN         NaN        NaN          NaN    NaN  \n",
       "4         NaN         NaN         NaN        NaN          NaN    NaN  "
      ]
     },
     "execution_count": 6,
     "metadata": {},
     "output_type": "execute_result"
    }
   ],
   "source": [
    "df_txt.head()"
   ]
  },
  {
   "cell_type": "markdown",
   "metadata": {},
   "source": [
    "Sometimes people import libraries in each cell for convenience of testing."
   ]
  },
  {
   "cell_type": "markdown",
   "metadata": {},
   "source": [
    "From the exercise above, you may find redundant columns. \n",
    "\n",
    "We can delete those columns by simply adding one option, `skipinitialspace` , as follows."
   ]
  },
  {
   "cell_type": "code",
   "execution_count": 7,
   "metadata": {
    "collapsed": true
   },
   "outputs": [],
   "source": [
    "df_txt = pd.read_table('AUD1MTD156N.txt', sep=' ', skipinitialspace=True)"
   ]
  },
  {
   "cell_type": "code",
   "execution_count": 8,
   "metadata": {},
   "outputs": [
    {
     "data": {
      "text/html": [
       "<div>\n",
       "<style>\n",
       "    .dataframe thead tr:only-child th {\n",
       "        text-align: right;\n",
       "    }\n",
       "\n",
       "    .dataframe thead th {\n",
       "        text-align: left;\n",
       "    }\n",
       "\n",
       "    .dataframe tbody tr th {\n",
       "        vertical-align: top;\n",
       "    }\n",
       "</style>\n",
       "<table border=\"1\" class=\"dataframe\">\n",
       "  <thead>\n",
       "    <tr style=\"text-align: right;\">\n",
       "      <th></th>\n",
       "      <th>DATE</th>\n",
       "      <th>VALUE</th>\n",
       "    </tr>\n",
       "  </thead>\n",
       "  <tbody>\n",
       "    <tr>\n",
       "      <th>0</th>\n",
       "      <td>1989-01-03</td>\n",
       "      <td>14.62500</td>\n",
       "    </tr>\n",
       "    <tr>\n",
       "      <th>1</th>\n",
       "      <td>1989-01-04</td>\n",
       "      <td>14.59375</td>\n",
       "    </tr>\n",
       "    <tr>\n",
       "      <th>2</th>\n",
       "      <td>1989-01-05</td>\n",
       "      <td>14.57813</td>\n",
       "    </tr>\n",
       "    <tr>\n",
       "      <th>3</th>\n",
       "      <td>1989-01-06</td>\n",
       "      <td>14.67188</td>\n",
       "    </tr>\n",
       "    <tr>\n",
       "      <th>4</th>\n",
       "      <td>1989-01-09</td>\n",
       "      <td>14.75000</td>\n",
       "    </tr>\n",
       "  </tbody>\n",
       "</table>\n",
       "</div>"
      ],
      "text/plain": [
       "         DATE     VALUE\n",
       "0  1989-01-03  14.62500\n",
       "1  1989-01-04  14.59375\n",
       "2  1989-01-05  14.57813\n",
       "3  1989-01-06  14.67188\n",
       "4  1989-01-09  14.75000"
      ]
     },
     "execution_count": 8,
     "metadata": {},
     "output_type": "execute_result"
    }
   ],
   "source": [
    "df_txt.head()"
   ]
  },
  {
   "cell_type": "markdown",
   "metadata": {},
   "source": [
    "-----------------------\n",
    "You can explore more options by yourself as:"
   ]
  },
  {
   "cell_type": "code",
   "execution_count": 9,
   "metadata": {
    "collapsed": true
   },
   "outputs": [],
   "source": [
    "pd.read_table?"
   ]
  },
  {
   "cell_type": "markdown",
   "metadata": {},
   "source": [
    "To get data from a SQL database, you can refer to [here](http://nbviewer.jupyter.org/urls/bitbucket.org/hrojas/learn-pandas/raw/master/lessons/08%20-%20Lesson.ipynb)."
   ]
  },
  {
   "cell_type": "markdown",
   "metadata": {},
   "source": [
    "-------------------\n",
    "Stock price is another example of financial data. \n",
    "\n",
    "We can load *Googl.csv* after downloading it from Ed."
   ]
  },
  {
   "cell_type": "code",
   "execution_count": 8,
   "metadata": {
    "collapsed": true
   },
   "outputs": [],
   "source": [
    "Googl = pd.read_table('Googl.csv', sep = ',')"
   ]
  },
  {
   "cell_type": "markdown",
   "metadata": {},
   "source": [
    "If you are interested in download S&P 500 tickers and data, you may also try [here](http://www.thealgoengineer.com/2014/download_sp500_data/)."
   ]
  },
  {
   "cell_type": "markdown",
   "metadata": {},
   "source": [
    "## 2. Clean and Analyse Data\n",
    "Congratulations! You have already got your own data from [Section 1](#Section 1). \n",
    "\n",
    "But wait... We cannot go to data analysis directly! \n",
    "\n",
    "Keep calm and let's get the preparation done! "
   ]
  },
  {
   "cell_type": "markdown",
   "metadata": {},
   "source": [
    "### 2.1 Preview <a id='Section2.1'></a>\n",
    "\n",
    "Previewing data is a good way to get to know your data.\n",
    "\n",
    "By simply typing the name and running the cell, we can preview the data. \n",
    "\n",
    "------------------------\n",
    "\n",
    "Try `Googl` and run the cell. What do you find?"
   ]
  },
  {
   "cell_type": "code",
   "execution_count": 9,
   "metadata": {
    "scrolled": true
   },
   "outputs": [
    {
     "data": {
      "text/html": [
       "<div>\n",
       "<style>\n",
       "    .dataframe thead tr:only-child th {\n",
       "        text-align: right;\n",
       "    }\n",
       "\n",
       "    .dataframe thead th {\n",
       "        text-align: left;\n",
       "    }\n",
       "\n",
       "    .dataframe tbody tr th {\n",
       "        vertical-align: top;\n",
       "    }\n",
       "</style>\n",
       "<table border=\"1\" class=\"dataframe\">\n",
       "  <thead>\n",
       "    <tr style=\"text-align: right;\">\n",
       "      <th></th>\n",
       "      <th>Date</th>\n",
       "      <th>Open</th>\n",
       "      <th>High</th>\n",
       "      <th>Low</th>\n",
       "      <th>Close</th>\n",
       "      <th>Adj Close</th>\n",
       "      <th>Volume</th>\n",
       "    </tr>\n",
       "  </thead>\n",
       "  <tbody>\n",
       "    <tr>\n",
       "      <th>0</th>\n",
       "      <td>2015-12-31</td>\n",
       "      <td>787.820007</td>\n",
       "      <td>788.330017</td>\n",
       "      <td>777.320007</td>\n",
       "      <td>778.010010</td>\n",
       "      <td>778.010010</td>\n",
       "      <td>1637600</td>\n",
       "    </tr>\n",
       "    <tr>\n",
       "      <th>1</th>\n",
       "      <td>2016-01-04</td>\n",
       "      <td>762.200012</td>\n",
       "      <td>762.200012</td>\n",
       "      <td>747.539978</td>\n",
       "      <td>759.440002</td>\n",
       "      <td>759.440002</td>\n",
       "      <td>3369100</td>\n",
       "    </tr>\n",
       "    <tr>\n",
       "      <th>2</th>\n",
       "      <td>2016-01-05</td>\n",
       "      <td>764.099976</td>\n",
       "      <td>769.200012</td>\n",
       "      <td>755.650024</td>\n",
       "      <td>761.530029</td>\n",
       "      <td>761.530029</td>\n",
       "      <td>2260800</td>\n",
       "    </tr>\n",
       "    <tr>\n",
       "      <th>3</th>\n",
       "      <td>2016-01-06</td>\n",
       "      <td>750.369995</td>\n",
       "      <td>765.729980</td>\n",
       "      <td>748.000000</td>\n",
       "      <td>759.330017</td>\n",
       "      <td>759.330017</td>\n",
       "      <td>2410300</td>\n",
       "    </tr>\n",
       "    <tr>\n",
       "      <th>4</th>\n",
       "      <td>2016-01-07</td>\n",
       "      <td>746.489990</td>\n",
       "      <td>755.309998</td>\n",
       "      <td>735.280029</td>\n",
       "      <td>741.000000</td>\n",
       "      <td>741.000000</td>\n",
       "      <td>3156600</td>\n",
       "    </tr>\n",
       "    <tr>\n",
       "      <th>5</th>\n",
       "      <td>2016-01-08</td>\n",
       "      <td>747.799988</td>\n",
       "      <td>750.119995</td>\n",
       "      <td>728.919983</td>\n",
       "      <td>730.909973</td>\n",
       "      <td>730.909973</td>\n",
       "      <td>2375300</td>\n",
       "    </tr>\n",
       "    <tr>\n",
       "      <th>6</th>\n",
       "      <td>2016-01-11</td>\n",
       "      <td>731.950012</td>\n",
       "      <td>735.080017</td>\n",
       "      <td>719.559998</td>\n",
       "      <td>733.070007</td>\n",
       "      <td>733.070007</td>\n",
       "      <td>2537900</td>\n",
       "    </tr>\n",
       "    <tr>\n",
       "      <th>7</th>\n",
       "      <td>2016-01-12</td>\n",
       "      <td>740.750000</td>\n",
       "      <td>748.340027</td>\n",
       "      <td>736.429993</td>\n",
       "      <td>745.340027</td>\n",
       "      <td>745.340027</td>\n",
       "      <td>2340800</td>\n",
       "    </tr>\n",
       "    <tr>\n",
       "      <th>8</th>\n",
       "      <td>2016-01-13</td>\n",
       "      <td>749.340027</td>\n",
       "      <td>753.000000</td>\n",
       "      <td>716.780029</td>\n",
       "      <td>719.570007</td>\n",
       "      <td>719.570007</td>\n",
       "      <td>2586400</td>\n",
       "    </tr>\n",
       "    <tr>\n",
       "      <th>9</th>\n",
       "      <td>2016-01-14</td>\n",
       "      <td>724.440002</td>\n",
       "      <td>739.890015</td>\n",
       "      <td>705.000000</td>\n",
       "      <td>731.390015</td>\n",
       "      <td>731.390015</td>\n",
       "      <td>2777900</td>\n",
       "    </tr>\n",
       "    <tr>\n",
       "      <th>10</th>\n",
       "      <td>2016-01-15</td>\n",
       "      <td>709.989990</td>\n",
       "      <td>724.159973</td>\n",
       "      <td>701.510010</td>\n",
       "      <td>710.489990</td>\n",
       "      <td>710.489990</td>\n",
       "      <td>3833800</td>\n",
       "    </tr>\n",
       "    <tr>\n",
       "      <th>11</th>\n",
       "      <td>2016-01-19</td>\n",
       "      <td>720.150024</td>\n",
       "      <td>725.349976</td>\n",
       "      <td>709.849976</td>\n",
       "      <td>719.080017</td>\n",
       "      <td>719.080017</td>\n",
       "      <td>2436200</td>\n",
       "    </tr>\n",
       "    <tr>\n",
       "      <th>12</th>\n",
       "      <td>2016-01-20</td>\n",
       "      <td>705.900024</td>\n",
       "      <td>726.950012</td>\n",
       "      <td>687.780029</td>\n",
       "      <td>718.559998</td>\n",
       "      <td>718.559998</td>\n",
       "      <td>4122000</td>\n",
       "    </tr>\n",
       "    <tr>\n",
       "      <th>13</th>\n",
       "      <td>2016-01-21</td>\n",
       "      <td>720.169983</td>\n",
       "      <td>737.669983</td>\n",
       "      <td>711.109985</td>\n",
       "      <td>726.669983</td>\n",
       "      <td>726.669983</td>\n",
       "      <td>2596900</td>\n",
       "    </tr>\n",
       "    <tr>\n",
       "      <th>14</th>\n",
       "      <td>2016-01-22</td>\n",
       "      <td>742.000000</td>\n",
       "      <td>748.559998</td>\n",
       "      <td>740.500000</td>\n",
       "      <td>745.460022</td>\n",
       "      <td>745.460022</td>\n",
       "      <td>2357300</td>\n",
       "    </tr>\n",
       "    <tr>\n",
       "      <th>15</th>\n",
       "      <td>2016-01-25</td>\n",
       "      <td>743.840027</td>\n",
       "      <td>752.460022</td>\n",
       "      <td>732.500000</td>\n",
       "      <td>733.619995</td>\n",
       "      <td>733.619995</td>\n",
       "      <td>2267000</td>\n",
       "    </tr>\n",
       "    <tr>\n",
       "      <th>16</th>\n",
       "      <td>2016-01-26</td>\n",
       "      <td>735.210022</td>\n",
       "      <td>739.460022</td>\n",
       "      <td>726.969971</td>\n",
       "      <td>733.789978</td>\n",
       "      <td>733.789978</td>\n",
       "      <td>1543100</td>\n",
       "    </tr>\n",
       "    <tr>\n",
       "      <th>17</th>\n",
       "      <td>2016-01-27</td>\n",
       "      <td>735.890015</td>\n",
       "      <td>735.890015</td>\n",
       "      <td>713.450012</td>\n",
       "      <td>717.580017</td>\n",
       "      <td>717.580017</td>\n",
       "      <td>2121400</td>\n",
       "    </tr>\n",
       "    <tr>\n",
       "      <th>18</th>\n",
       "      <td>2016-01-28</td>\n",
       "      <td>738.190002</td>\n",
       "      <td>751.159973</td>\n",
       "      <td>730.599976</td>\n",
       "      <td>748.299988</td>\n",
       "      <td>748.299988</td>\n",
       "      <td>3105200</td>\n",
       "    </tr>\n",
       "    <tr>\n",
       "      <th>19</th>\n",
       "      <td>2016-01-29</td>\n",
       "      <td>748.960022</td>\n",
       "      <td>765.109985</td>\n",
       "      <td>744.200012</td>\n",
       "      <td>761.349976</td>\n",
       "      <td>761.349976</td>\n",
       "      <td>3790400</td>\n",
       "    </tr>\n",
       "    <tr>\n",
       "      <th>20</th>\n",
       "      <td>2016-02-01</td>\n",
       "      <td>771.260010</td>\n",
       "      <td>777.590027</td>\n",
       "      <td>761.380005</td>\n",
       "      <td>770.770020</td>\n",
       "      <td>770.770020</td>\n",
       "      <td>5576100</td>\n",
       "    </tr>\n",
       "    <tr>\n",
       "      <th>21</th>\n",
       "      <td>2016-02-02</td>\n",
       "      <td>800.500000</td>\n",
       "      <td>810.349976</td>\n",
       "      <td>780.599976</td>\n",
       "      <td>780.909973</td>\n",
       "      <td>780.909973</td>\n",
       "      <td>6792300</td>\n",
       "    </tr>\n",
       "    <tr>\n",
       "      <th>22</th>\n",
       "      <td>2016-02-03</td>\n",
       "      <td>786.280029</td>\n",
       "      <td>791.429993</td>\n",
       "      <td>736.260010</td>\n",
       "      <td>749.380005</td>\n",
       "      <td>749.380005</td>\n",
       "      <td>6555700</td>\n",
       "    </tr>\n",
       "    <tr>\n",
       "      <th>23</th>\n",
       "      <td>2016-02-04</td>\n",
       "      <td>744.590027</td>\n",
       "      <td>745.239990</td>\n",
       "      <td>722.599976</td>\n",
       "      <td>730.030029</td>\n",
       "      <td>730.030029</td>\n",
       "      <td>5214800</td>\n",
       "    </tr>\n",
       "    <tr>\n",
       "      <th>24</th>\n",
       "      <td>2016-02-05</td>\n",
       "      <td>725.500000</td>\n",
       "      <td>726.719971</td>\n",
       "      <td>700.140015</td>\n",
       "      <td>703.760010</td>\n",
       "      <td>703.760010</td>\n",
       "      <td>5477800</td>\n",
       "    </tr>\n",
       "    <tr>\n",
       "      <th>25</th>\n",
       "      <td>2016-02-08</td>\n",
       "      <td>687.679993</td>\n",
       "      <td>704.520020</td>\n",
       "      <td>682.010010</td>\n",
       "      <td>704.159973</td>\n",
       "      <td>704.159973</td>\n",
       "      <td>4470500</td>\n",
       "    </tr>\n",
       "    <tr>\n",
       "      <th>26</th>\n",
       "      <td>2016-02-09</td>\n",
       "      <td>692.950012</td>\n",
       "      <td>720.960022</td>\n",
       "      <td>688.500000</td>\n",
       "      <td>701.020020</td>\n",
       "      <td>701.020020</td>\n",
       "      <td>4197900</td>\n",
       "    </tr>\n",
       "    <tr>\n",
       "      <th>27</th>\n",
       "      <td>2016-02-10</td>\n",
       "      <td>711.789978</td>\n",
       "      <td>723.219971</td>\n",
       "      <td>705.390015</td>\n",
       "      <td>706.849976</td>\n",
       "      <td>706.849976</td>\n",
       "      <td>3015700</td>\n",
       "    </tr>\n",
       "    <tr>\n",
       "      <th>28</th>\n",
       "      <td>2016-02-11</td>\n",
       "      <td>696.340027</td>\n",
       "      <td>712.320007</td>\n",
       "      <td>691.190002</td>\n",
       "      <td>706.359985</td>\n",
       "      <td>706.359985</td>\n",
       "      <td>3250200</td>\n",
       "    </tr>\n",
       "    <tr>\n",
       "      <th>29</th>\n",
       "      <td>2016-02-12</td>\n",
       "      <td>712.210022</td>\n",
       "      <td>716.000000</td>\n",
       "      <td>701.580017</td>\n",
       "      <td>706.890015</td>\n",
       "      <td>706.890015</td>\n",
       "      <td>2326900</td>\n",
       "    </tr>\n",
       "    <tr>\n",
       "      <th>...</th>\n",
       "      <td>...</td>\n",
       "      <td>...</td>\n",
       "      <td>...</td>\n",
       "      <td>...</td>\n",
       "      <td>...</td>\n",
       "      <td>...</td>\n",
       "      <td>...</td>\n",
       "    </tr>\n",
       "    <tr>\n",
       "      <th>223</th>\n",
       "      <td>2016-11-17</td>\n",
       "      <td>782.500000</td>\n",
       "      <td>788.900024</td>\n",
       "      <td>779.849976</td>\n",
       "      <td>786.159973</td>\n",
       "      <td>786.159973</td>\n",
       "      <td>1533700</td>\n",
       "    </tr>\n",
       "    <tr>\n",
       "      <th>224</th>\n",
       "      <td>2016-11-18</td>\n",
       "      <td>787.169983</td>\n",
       "      <td>791.289978</td>\n",
       "      <td>775.349976</td>\n",
       "      <td>775.969971</td>\n",
       "      <td>775.969971</td>\n",
       "      <td>1806300</td>\n",
       "    </tr>\n",
       "    <tr>\n",
       "      <th>225</th>\n",
       "      <td>2016-11-21</td>\n",
       "      <td>778.099976</td>\n",
       "      <td>786.549988</td>\n",
       "      <td>776.299988</td>\n",
       "      <td>784.799988</td>\n",
       "      <td>784.799988</td>\n",
       "      <td>1630800</td>\n",
       "    </tr>\n",
       "    <tr>\n",
       "      <th>226</th>\n",
       "      <td>2016-11-22</td>\n",
       "      <td>788.989990</td>\n",
       "      <td>793.770020</td>\n",
       "      <td>783.739990</td>\n",
       "      <td>785.000000</td>\n",
       "      <td>785.000000</td>\n",
       "      <td>1394200</td>\n",
       "    </tr>\n",
       "    <tr>\n",
       "      <th>227</th>\n",
       "      <td>2016-11-23</td>\n",
       "      <td>789.520020</td>\n",
       "      <td>789.520020</td>\n",
       "      <td>772.650024</td>\n",
       "      <td>779.000000</td>\n",
       "      <td>779.000000</td>\n",
       "      <td>1310500</td>\n",
       "    </tr>\n",
       "    <tr>\n",
       "      <th>228</th>\n",
       "      <td>2016-11-25</td>\n",
       "      <td>782.609985</td>\n",
       "      <td>782.900024</td>\n",
       "      <td>778.190002</td>\n",
       "      <td>780.229980</td>\n",
       "      <td>780.229980</td>\n",
       "      <td>613500</td>\n",
       "    </tr>\n",
       "    <tr>\n",
       "      <th>229</th>\n",
       "      <td>2016-11-28</td>\n",
       "      <td>778.349976</td>\n",
       "      <td>799.739990</td>\n",
       "      <td>778.099976</td>\n",
       "      <td>785.789978</td>\n",
       "      <td>785.789978</td>\n",
       "      <td>2575400</td>\n",
       "    </tr>\n",
       "    <tr>\n",
       "      <th>230</th>\n",
       "      <td>2016-11-29</td>\n",
       "      <td>788.380005</td>\n",
       "      <td>796.440002</td>\n",
       "      <td>785.340027</td>\n",
       "      <td>789.440002</td>\n",
       "      <td>789.440002</td>\n",
       "      <td>1562000</td>\n",
       "    </tr>\n",
       "    <tr>\n",
       "      <th>231</th>\n",
       "      <td>2016-11-30</td>\n",
       "      <td>789.099976</td>\n",
       "      <td>791.510010</td>\n",
       "      <td>773.150024</td>\n",
       "      <td>775.880005</td>\n",
       "      <td>775.880005</td>\n",
       "      <td>2279100</td>\n",
       "    </tr>\n",
       "    <tr>\n",
       "      <th>232</th>\n",
       "      <td>2016-12-01</td>\n",
       "      <td>778.549988</td>\n",
       "      <td>778.599976</td>\n",
       "      <td>753.359985</td>\n",
       "      <td>764.330017</td>\n",
       "      <td>764.330017</td>\n",
       "      <td>2867100</td>\n",
       "    </tr>\n",
       "    <tr>\n",
       "      <th>233</th>\n",
       "      <td>2016-12-02</td>\n",
       "      <td>761.900024</td>\n",
       "      <td>770.500000</td>\n",
       "      <td>759.000000</td>\n",
       "      <td>764.460022</td>\n",
       "      <td>764.460022</td>\n",
       "      <td>1718800</td>\n",
       "    </tr>\n",
       "    <tr>\n",
       "      <th>234</th>\n",
       "      <td>2016-12-05</td>\n",
       "      <td>770.000000</td>\n",
       "      <td>780.000000</td>\n",
       "      <td>766.969971</td>\n",
       "      <td>778.219971</td>\n",
       "      <td>778.219971</td>\n",
       "      <td>1688500</td>\n",
       "    </tr>\n",
       "    <tr>\n",
       "      <th>235</th>\n",
       "      <td>2016-12-06</td>\n",
       "      <td>780.190002</td>\n",
       "      <td>785.280029</td>\n",
       "      <td>773.320007</td>\n",
       "      <td>776.179993</td>\n",
       "      <td>776.179993</td>\n",
       "      <td>1734100</td>\n",
       "    </tr>\n",
       "    <tr>\n",
       "      <th>236</th>\n",
       "      <td>2016-12-07</td>\n",
       "      <td>779.950012</td>\n",
       "      <td>792.000000</td>\n",
       "      <td>773.530029</td>\n",
       "      <td>791.469971</td>\n",
       "      <td>791.469971</td>\n",
       "      <td>2029400</td>\n",
       "    </tr>\n",
       "    <tr>\n",
       "      <th>237</th>\n",
       "      <td>2016-12-08</td>\n",
       "      <td>792.950012</td>\n",
       "      <td>799.000000</td>\n",
       "      <td>787.909973</td>\n",
       "      <td>795.169983</td>\n",
       "      <td>795.169983</td>\n",
       "      <td>1612500</td>\n",
       "    </tr>\n",
       "    <tr>\n",
       "      <th>238</th>\n",
       "      <td>2016-12-09</td>\n",
       "      <td>799.299988</td>\n",
       "      <td>809.950012</td>\n",
       "      <td>798.049988</td>\n",
       "      <td>809.450012</td>\n",
       "      <td>809.450012</td>\n",
       "      <td>1904500</td>\n",
       "    </tr>\n",
       "    <tr>\n",
       "      <th>239</th>\n",
       "      <td>2016-12-12</td>\n",
       "      <td>804.820007</td>\n",
       "      <td>811.349976</td>\n",
       "      <td>804.530029</td>\n",
       "      <td>807.900024</td>\n",
       "      <td>807.900024</td>\n",
       "      <td>1628600</td>\n",
       "    </tr>\n",
       "    <tr>\n",
       "      <th>240</th>\n",
       "      <td>2016-12-13</td>\n",
       "      <td>812.390015</td>\n",
       "      <td>824.299988</td>\n",
       "      <td>811.940002</td>\n",
       "      <td>815.340027</td>\n",
       "      <td>815.340027</td>\n",
       "      <td>2128200</td>\n",
       "    </tr>\n",
       "    <tr>\n",
       "      <th>241</th>\n",
       "      <td>2016-12-14</td>\n",
       "      <td>815.919983</td>\n",
       "      <td>824.260010</td>\n",
       "      <td>812.780029</td>\n",
       "      <td>817.890015</td>\n",
       "      <td>817.890015</td>\n",
       "      <td>1799700</td>\n",
       "    </tr>\n",
       "    <tr>\n",
       "      <th>242</th>\n",
       "      <td>2016-12-15</td>\n",
       "      <td>817.359985</td>\n",
       "      <td>823.000000</td>\n",
       "      <td>812.000000</td>\n",
       "      <td>815.650024</td>\n",
       "      <td>815.650024</td>\n",
       "      <td>1769700</td>\n",
       "    </tr>\n",
       "    <tr>\n",
       "      <th>243</th>\n",
       "      <td>2016-12-16</td>\n",
       "      <td>818.309998</td>\n",
       "      <td>819.200012</td>\n",
       "      <td>808.119995</td>\n",
       "      <td>809.840027</td>\n",
       "      <td>809.840027</td>\n",
       "      <td>2589100</td>\n",
       "    </tr>\n",
       "    <tr>\n",
       "      <th>244</th>\n",
       "      <td>2016-12-19</td>\n",
       "      <td>809.280029</td>\n",
       "      <td>816.219971</td>\n",
       "      <td>804.500000</td>\n",
       "      <td>812.500000</td>\n",
       "      <td>812.500000</td>\n",
       "      <td>1263600</td>\n",
       "    </tr>\n",
       "    <tr>\n",
       "      <th>245</th>\n",
       "      <td>2016-12-20</td>\n",
       "      <td>813.369995</td>\n",
       "      <td>816.489990</td>\n",
       "      <td>811.000000</td>\n",
       "      <td>815.200012</td>\n",
       "      <td>815.200012</td>\n",
       "      <td>1271900</td>\n",
       "    </tr>\n",
       "    <tr>\n",
       "      <th>246</th>\n",
       "      <td>2016-12-21</td>\n",
       "      <td>815.719971</td>\n",
       "      <td>815.719971</td>\n",
       "      <td>805.099976</td>\n",
       "      <td>812.200012</td>\n",
       "      <td>812.200012</td>\n",
       "      <td>1459600</td>\n",
       "    </tr>\n",
       "    <tr>\n",
       "      <th>247</th>\n",
       "      <td>2016-12-22</td>\n",
       "      <td>809.099976</td>\n",
       "      <td>811.070007</td>\n",
       "      <td>806.030029</td>\n",
       "      <td>809.679993</td>\n",
       "      <td>809.679993</td>\n",
       "      <td>1131600</td>\n",
       "    </tr>\n",
       "    <tr>\n",
       "      <th>248</th>\n",
       "      <td>2016-12-23</td>\n",
       "      <td>808.010010</td>\n",
       "      <td>810.969971</td>\n",
       "      <td>805.109985</td>\n",
       "      <td>807.799988</td>\n",
       "      <td>807.799988</td>\n",
       "      <td>764100</td>\n",
       "    </tr>\n",
       "    <tr>\n",
       "      <th>249</th>\n",
       "      <td>2016-12-27</td>\n",
       "      <td>808.679993</td>\n",
       "      <td>816.000000</td>\n",
       "      <td>805.799988</td>\n",
       "      <td>809.929993</td>\n",
       "      <td>809.929993</td>\n",
       "      <td>976000</td>\n",
       "    </tr>\n",
       "    <tr>\n",
       "      <th>250</th>\n",
       "      <td>2016-12-28</td>\n",
       "      <td>813.330017</td>\n",
       "      <td>813.330017</td>\n",
       "      <td>802.440002</td>\n",
       "      <td>804.570007</td>\n",
       "      <td>804.570007</td>\n",
       "      <td>1214800</td>\n",
       "    </tr>\n",
       "    <tr>\n",
       "      <th>251</th>\n",
       "      <td>2016-12-29</td>\n",
       "      <td>802.330017</td>\n",
       "      <td>805.750000</td>\n",
       "      <td>798.140015</td>\n",
       "      <td>802.880005</td>\n",
       "      <td>802.880005</td>\n",
       "      <td>1056500</td>\n",
       "    </tr>\n",
       "    <tr>\n",
       "      <th>252</th>\n",
       "      <td>2016-12-30</td>\n",
       "      <td>803.210022</td>\n",
       "      <td>803.289978</td>\n",
       "      <td>789.619995</td>\n",
       "      <td>792.450012</td>\n",
       "      <td>792.450012</td>\n",
       "      <td>1735900</td>\n",
       "    </tr>\n",
       "  </tbody>\n",
       "</table>\n",
       "<p>253 rows × 7 columns</p>\n",
       "</div>"
      ],
      "text/plain": [
       "           Date        Open        High         Low       Close   Adj Close  \\\n",
       "0    2015-12-31  787.820007  788.330017  777.320007  778.010010  778.010010   \n",
       "1    2016-01-04  762.200012  762.200012  747.539978  759.440002  759.440002   \n",
       "2    2016-01-05  764.099976  769.200012  755.650024  761.530029  761.530029   \n",
       "3    2016-01-06  750.369995  765.729980  748.000000  759.330017  759.330017   \n",
       "4    2016-01-07  746.489990  755.309998  735.280029  741.000000  741.000000   \n",
       "5    2016-01-08  747.799988  750.119995  728.919983  730.909973  730.909973   \n",
       "6    2016-01-11  731.950012  735.080017  719.559998  733.070007  733.070007   \n",
       "7    2016-01-12  740.750000  748.340027  736.429993  745.340027  745.340027   \n",
       "8    2016-01-13  749.340027  753.000000  716.780029  719.570007  719.570007   \n",
       "9    2016-01-14  724.440002  739.890015  705.000000  731.390015  731.390015   \n",
       "10   2016-01-15  709.989990  724.159973  701.510010  710.489990  710.489990   \n",
       "11   2016-01-19  720.150024  725.349976  709.849976  719.080017  719.080017   \n",
       "12   2016-01-20  705.900024  726.950012  687.780029  718.559998  718.559998   \n",
       "13   2016-01-21  720.169983  737.669983  711.109985  726.669983  726.669983   \n",
       "14   2016-01-22  742.000000  748.559998  740.500000  745.460022  745.460022   \n",
       "15   2016-01-25  743.840027  752.460022  732.500000  733.619995  733.619995   \n",
       "16   2016-01-26  735.210022  739.460022  726.969971  733.789978  733.789978   \n",
       "17   2016-01-27  735.890015  735.890015  713.450012  717.580017  717.580017   \n",
       "18   2016-01-28  738.190002  751.159973  730.599976  748.299988  748.299988   \n",
       "19   2016-01-29  748.960022  765.109985  744.200012  761.349976  761.349976   \n",
       "20   2016-02-01  771.260010  777.590027  761.380005  770.770020  770.770020   \n",
       "21   2016-02-02  800.500000  810.349976  780.599976  780.909973  780.909973   \n",
       "22   2016-02-03  786.280029  791.429993  736.260010  749.380005  749.380005   \n",
       "23   2016-02-04  744.590027  745.239990  722.599976  730.030029  730.030029   \n",
       "24   2016-02-05  725.500000  726.719971  700.140015  703.760010  703.760010   \n",
       "25   2016-02-08  687.679993  704.520020  682.010010  704.159973  704.159973   \n",
       "26   2016-02-09  692.950012  720.960022  688.500000  701.020020  701.020020   \n",
       "27   2016-02-10  711.789978  723.219971  705.390015  706.849976  706.849976   \n",
       "28   2016-02-11  696.340027  712.320007  691.190002  706.359985  706.359985   \n",
       "29   2016-02-12  712.210022  716.000000  701.580017  706.890015  706.890015   \n",
       "..          ...         ...         ...         ...         ...         ...   \n",
       "223  2016-11-17  782.500000  788.900024  779.849976  786.159973  786.159973   \n",
       "224  2016-11-18  787.169983  791.289978  775.349976  775.969971  775.969971   \n",
       "225  2016-11-21  778.099976  786.549988  776.299988  784.799988  784.799988   \n",
       "226  2016-11-22  788.989990  793.770020  783.739990  785.000000  785.000000   \n",
       "227  2016-11-23  789.520020  789.520020  772.650024  779.000000  779.000000   \n",
       "228  2016-11-25  782.609985  782.900024  778.190002  780.229980  780.229980   \n",
       "229  2016-11-28  778.349976  799.739990  778.099976  785.789978  785.789978   \n",
       "230  2016-11-29  788.380005  796.440002  785.340027  789.440002  789.440002   \n",
       "231  2016-11-30  789.099976  791.510010  773.150024  775.880005  775.880005   \n",
       "232  2016-12-01  778.549988  778.599976  753.359985  764.330017  764.330017   \n",
       "233  2016-12-02  761.900024  770.500000  759.000000  764.460022  764.460022   \n",
       "234  2016-12-05  770.000000  780.000000  766.969971  778.219971  778.219971   \n",
       "235  2016-12-06  780.190002  785.280029  773.320007  776.179993  776.179993   \n",
       "236  2016-12-07  779.950012  792.000000  773.530029  791.469971  791.469971   \n",
       "237  2016-12-08  792.950012  799.000000  787.909973  795.169983  795.169983   \n",
       "238  2016-12-09  799.299988  809.950012  798.049988  809.450012  809.450012   \n",
       "239  2016-12-12  804.820007  811.349976  804.530029  807.900024  807.900024   \n",
       "240  2016-12-13  812.390015  824.299988  811.940002  815.340027  815.340027   \n",
       "241  2016-12-14  815.919983  824.260010  812.780029  817.890015  817.890015   \n",
       "242  2016-12-15  817.359985  823.000000  812.000000  815.650024  815.650024   \n",
       "243  2016-12-16  818.309998  819.200012  808.119995  809.840027  809.840027   \n",
       "244  2016-12-19  809.280029  816.219971  804.500000  812.500000  812.500000   \n",
       "245  2016-12-20  813.369995  816.489990  811.000000  815.200012  815.200012   \n",
       "246  2016-12-21  815.719971  815.719971  805.099976  812.200012  812.200012   \n",
       "247  2016-12-22  809.099976  811.070007  806.030029  809.679993  809.679993   \n",
       "248  2016-12-23  808.010010  810.969971  805.109985  807.799988  807.799988   \n",
       "249  2016-12-27  808.679993  816.000000  805.799988  809.929993  809.929993   \n",
       "250  2016-12-28  813.330017  813.330017  802.440002  804.570007  804.570007   \n",
       "251  2016-12-29  802.330017  805.750000  798.140015  802.880005  802.880005   \n",
       "252  2016-12-30  803.210022  803.289978  789.619995  792.450012  792.450012   \n",
       "\n",
       "      Volume  \n",
       "0    1637600  \n",
       "1    3369100  \n",
       "2    2260800  \n",
       "3    2410300  \n",
       "4    3156600  \n",
       "5    2375300  \n",
       "6    2537900  \n",
       "7    2340800  \n",
       "8    2586400  \n",
       "9    2777900  \n",
       "10   3833800  \n",
       "11   2436200  \n",
       "12   4122000  \n",
       "13   2596900  \n",
       "14   2357300  \n",
       "15   2267000  \n",
       "16   1543100  \n",
       "17   2121400  \n",
       "18   3105200  \n",
       "19   3790400  \n",
       "20   5576100  \n",
       "21   6792300  \n",
       "22   6555700  \n",
       "23   5214800  \n",
       "24   5477800  \n",
       "25   4470500  \n",
       "26   4197900  \n",
       "27   3015700  \n",
       "28   3250200  \n",
       "29   2326900  \n",
       "..       ...  \n",
       "223  1533700  \n",
       "224  1806300  \n",
       "225  1630800  \n",
       "226  1394200  \n",
       "227  1310500  \n",
       "228   613500  \n",
       "229  2575400  \n",
       "230  1562000  \n",
       "231  2279100  \n",
       "232  2867100  \n",
       "233  1718800  \n",
       "234  1688500  \n",
       "235  1734100  \n",
       "236  2029400  \n",
       "237  1612500  \n",
       "238  1904500  \n",
       "239  1628600  \n",
       "240  2128200  \n",
       "241  1799700  \n",
       "242  1769700  \n",
       "243  2589100  \n",
       "244  1263600  \n",
       "245  1271900  \n",
       "246  1459600  \n",
       "247  1131600  \n",
       "248   764100  \n",
       "249   976000  \n",
       "250  1214800  \n",
       "251  1056500  \n",
       "252  1735900  \n",
       "\n",
       "[253 rows x 7 columns]"
      ]
     },
     "execution_count": 9,
     "metadata": {},
     "output_type": "execute_result"
    }
   ],
   "source": [
    "Googl"
   ]
  },
  {
   "cell_type": "markdown",
   "metadata": {},
   "source": [
    "Jupyter Notebook automatically ignore several lines to save space. \n",
    "\n",
    "When the dataset is large, we don't want to check all entries in the data frame. \n",
    "\n",
    "We have already tried `df.head()`. Let's explore other possibilities."
   ]
  },
  {
   "cell_type": "code",
   "execution_count": 12,
   "metadata": {},
   "outputs": [
    {
     "data": {
      "text/html": [
       "<div>\n",
       "<style>\n",
       "    .dataframe thead tr:only-child th {\n",
       "        text-align: right;\n",
       "    }\n",
       "\n",
       "    .dataframe thead th {\n",
       "        text-align: left;\n",
       "    }\n",
       "\n",
       "    .dataframe tbody tr th {\n",
       "        vertical-align: top;\n",
       "    }\n",
       "</style>\n",
       "<table border=\"1\" class=\"dataframe\">\n",
       "  <thead>\n",
       "    <tr style=\"text-align: right;\">\n",
       "      <th></th>\n",
       "      <th>Date</th>\n",
       "      <th>Open</th>\n",
       "      <th>High</th>\n",
       "      <th>Low</th>\n",
       "      <th>Close</th>\n",
       "      <th>Adj Close</th>\n",
       "      <th>Volume</th>\n",
       "    </tr>\n",
       "  </thead>\n",
       "  <tbody>\n",
       "    <tr>\n",
       "      <th>248</th>\n",
       "      <td>2016-12-23</td>\n",
       "      <td>808.010010</td>\n",
       "      <td>810.969971</td>\n",
       "      <td>805.109985</td>\n",
       "      <td>807.799988</td>\n",
       "      <td>807.799988</td>\n",
       "      <td>764100</td>\n",
       "    </tr>\n",
       "    <tr>\n",
       "      <th>249</th>\n",
       "      <td>2016-12-27</td>\n",
       "      <td>808.679993</td>\n",
       "      <td>816.000000</td>\n",
       "      <td>805.799988</td>\n",
       "      <td>809.929993</td>\n",
       "      <td>809.929993</td>\n",
       "      <td>976000</td>\n",
       "    </tr>\n",
       "    <tr>\n",
       "      <th>250</th>\n",
       "      <td>2016-12-28</td>\n",
       "      <td>813.330017</td>\n",
       "      <td>813.330017</td>\n",
       "      <td>802.440002</td>\n",
       "      <td>804.570007</td>\n",
       "      <td>804.570007</td>\n",
       "      <td>1214800</td>\n",
       "    </tr>\n",
       "    <tr>\n",
       "      <th>251</th>\n",
       "      <td>2016-12-29</td>\n",
       "      <td>802.330017</td>\n",
       "      <td>805.750000</td>\n",
       "      <td>798.140015</td>\n",
       "      <td>802.880005</td>\n",
       "      <td>802.880005</td>\n",
       "      <td>1056500</td>\n",
       "    </tr>\n",
       "    <tr>\n",
       "      <th>252</th>\n",
       "      <td>2016-12-30</td>\n",
       "      <td>803.210022</td>\n",
       "      <td>803.289978</td>\n",
       "      <td>789.619995</td>\n",
       "      <td>792.450012</td>\n",
       "      <td>792.450012</td>\n",
       "      <td>1735900</td>\n",
       "    </tr>\n",
       "  </tbody>\n",
       "</table>\n",
       "</div>"
      ],
      "text/plain": [
       "           Date        Open        High         Low       Close   Adj Close  \\\n",
       "248  2016-12-23  808.010010  810.969971  805.109985  807.799988  807.799988   \n",
       "249  2016-12-27  808.679993  816.000000  805.799988  809.929993  809.929993   \n",
       "250  2016-12-28  813.330017  813.330017  802.440002  804.570007  804.570007   \n",
       "251  2016-12-29  802.330017  805.750000  798.140015  802.880005  802.880005   \n",
       "252  2016-12-30  803.210022  803.289978  789.619995  792.450012  792.450012   \n",
       "\n",
       "      Volume  \n",
       "248   764100  \n",
       "249   976000  \n",
       "250  1214800  \n",
       "251  1056500  \n",
       "252  1735900  "
      ]
     },
     "execution_count": 12,
     "metadata": {},
     "output_type": "execute_result"
    }
   ],
   "source": [
    "Googl.tail()"
   ]
  },
  {
   "cell_type": "code",
   "execution_count": 13,
   "metadata": {},
   "outputs": [
    {
     "data": {
      "text/html": [
       "<div>\n",
       "<style>\n",
       "    .dataframe thead tr:only-child th {\n",
       "        text-align: right;\n",
       "    }\n",
       "\n",
       "    .dataframe thead th {\n",
       "        text-align: left;\n",
       "    }\n",
       "\n",
       "    .dataframe tbody tr th {\n",
       "        vertical-align: top;\n",
       "    }\n",
       "</style>\n",
       "<table border=\"1\" class=\"dataframe\">\n",
       "  <thead>\n",
       "    <tr style=\"text-align: right;\">\n",
       "      <th></th>\n",
       "      <th>Date</th>\n",
       "      <th>Open</th>\n",
       "      <th>High</th>\n",
       "      <th>Low</th>\n",
       "      <th>Close</th>\n",
       "      <th>Adj Close</th>\n",
       "      <th>Volume</th>\n",
       "    </tr>\n",
       "  </thead>\n",
       "  <tbody>\n",
       "    <tr>\n",
       "      <th>250</th>\n",
       "      <td>2016-12-28</td>\n",
       "      <td>813.330017</td>\n",
       "      <td>813.330017</td>\n",
       "      <td>802.440002</td>\n",
       "      <td>804.570007</td>\n",
       "      <td>804.570007</td>\n",
       "      <td>1214800</td>\n",
       "    </tr>\n",
       "    <tr>\n",
       "      <th>251</th>\n",
       "      <td>2016-12-29</td>\n",
       "      <td>802.330017</td>\n",
       "      <td>805.750000</td>\n",
       "      <td>798.140015</td>\n",
       "      <td>802.880005</td>\n",
       "      <td>802.880005</td>\n",
       "      <td>1056500</td>\n",
       "    </tr>\n",
       "    <tr>\n",
       "      <th>252</th>\n",
       "      <td>2016-12-30</td>\n",
       "      <td>803.210022</td>\n",
       "      <td>803.289978</td>\n",
       "      <td>789.619995</td>\n",
       "      <td>792.450012</td>\n",
       "      <td>792.450012</td>\n",
       "      <td>1735900</td>\n",
       "    </tr>\n",
       "  </tbody>\n",
       "</table>\n",
       "</div>"
      ],
      "text/plain": [
       "           Date        Open        High         Low       Close   Adj Close  \\\n",
       "250  2016-12-28  813.330017  813.330017  802.440002  804.570007  804.570007   \n",
       "251  2016-12-29  802.330017  805.750000  798.140015  802.880005  802.880005   \n",
       "252  2016-12-30  803.210022  803.289978  789.619995  792.450012  792.450012   \n",
       "\n",
       "      Volume  \n",
       "250  1214800  \n",
       "251  1056500  \n",
       "252  1735900  "
      ]
     },
     "execution_count": 13,
     "metadata": {},
     "output_type": "execute_result"
    }
   ],
   "source": [
    "Googl.tail(3)"
   ]
  },
  {
   "cell_type": "code",
   "execution_count": 10,
   "metadata": {},
   "outputs": [
    {
     "data": {
      "text/plain": [
       "(253, 7)"
      ]
     },
     "execution_count": 10,
     "metadata": {},
     "output_type": "execute_result"
    }
   ],
   "source": [
    "Googl.shape"
   ]
  },
  {
   "cell_type": "code",
   "execution_count": 11,
   "metadata": {},
   "outputs": [
    {
     "data": {
      "text/plain": [
       "Index(['Date', 'Open', 'High', 'Low', 'Close', 'Adj Close', 'Volume'], dtype='object')"
      ]
     },
     "execution_count": 11,
     "metadata": {},
     "output_type": "execute_result"
    }
   ],
   "source": [
    "Googl.columns"
   ]
  },
  {
   "cell_type": "code",
   "execution_count": 16,
   "metadata": {},
   "outputs": [
    {
     "data": {
      "text/plain": [
       "Date          object\n",
       "Open         float64\n",
       "High         float64\n",
       "Low          float64\n",
       "Close        float64\n",
       "Adj Close    float64\n",
       "Volume         int64\n",
       "dtype: object"
      ]
     },
     "execution_count": 16,
     "metadata": {},
     "output_type": "execute_result"
    }
   ],
   "source": [
    "Googl.dtypes"
   ]
  },
  {
   "cell_type": "markdown",
   "metadata": {},
   "source": [
    "You may explore more options by inputting `Googl.` in `code` mode and then pressing `tab`. This is called tab completion and lists available options/commands"
   ]
  },
  {
   "cell_type": "code",
   "execution_count": null,
   "metadata": {
    "collapsed": true
   },
   "outputs": [],
   "source": [
    "Googl."
   ]
  },
  {
   "cell_type": "markdown",
   "metadata": {},
   "source": [
    "### 2.2 Type and Structure\n",
    "Now you are getting familiar with data. \n",
    "\n",
    "We are going to investigate [data types](https://docs.python.org/3/library/datatypes.html) and [data structures](https://pandas.pydata.org/pandas-docs/stable/dsintro.html) in Pandas. \n",
    "\n",
    "Data types and structures matter because they have diversified methods and functionalities."
   ]
  },
  {
   "cell_type": "markdown",
   "metadata": {},
   "source": [
    "#### 2.2.1 Data Types\n",
    "Some data types we may find in financial data including\n",
    "  + numeric types and\n",
    "  + string\n",
    "  \n",
    "More can be found [here](https://en.wikibooks.org/wiki/Python_Programming/Data_Types).\n",
    "\n",
    "You can check the data type by `type()` function."
   ]
  },
  {
   "cell_type": "markdown",
   "metadata": {},
   "source": [
    "#### 2.2.1.1 Numeric Types\n",
    "\n",
    "Numeric types are important in financial data. We can apply various math operations to numeric types. \n",
    "\n",
    "Try the following examples. Notice when the value of variable changed and how. \n",
    "\n",
    "For details, try [here](https://docs.python.org/3/library/math.html)."
   ]
  },
  {
   "cell_type": "code",
   "execution_count": 16,
   "metadata": {
    "collapsed": true
   },
   "outputs": [],
   "source": [
    "x = 1"
   ]
  },
  {
   "cell_type": "code",
   "execution_count": 17,
   "metadata": {},
   "outputs": [
    {
     "data": {
      "text/plain": [
       "int"
      ]
     },
     "execution_count": 17,
     "metadata": {},
     "output_type": "execute_result"
    }
   ],
   "source": [
    "type(x)"
   ]
  },
  {
   "cell_type": "code",
   "execution_count": 18,
   "metadata": {
    "collapsed": true
   },
   "outputs": [],
   "source": [
    "y = 1.2"
   ]
  },
  {
   "cell_type": "code",
   "execution_count": 19,
   "metadata": {},
   "outputs": [
    {
     "data": {
      "text/plain": [
       "float"
      ]
     },
     "execution_count": 19,
     "metadata": {},
     "output_type": "execute_result"
    }
   ],
   "source": [
    "type(y)"
   ]
  },
  {
   "cell_type": "code",
   "execution_count": 20,
   "metadata": {
    "collapsed": true
   },
   "outputs": [],
   "source": [
    "t = x"
   ]
  },
  {
   "cell_type": "code",
   "execution_count": 21,
   "metadata": {
    "collapsed": true
   },
   "outputs": [],
   "source": [
    "t = 3"
   ]
  },
  {
   "cell_type": "code",
   "execution_count": 22,
   "metadata": {},
   "outputs": [
    {
     "data": {
      "text/plain": [
       "1"
      ]
     },
     "execution_count": 22,
     "metadata": {},
     "output_type": "execute_result"
    }
   ],
   "source": [
    "x"
   ]
  },
  {
   "cell_type": "code",
   "execution_count": 23,
   "metadata": {
    "collapsed": true
   },
   "outputs": [],
   "source": [
    "w = x + y"
   ]
  },
  {
   "cell_type": "code",
   "execution_count": 24,
   "metadata": {},
   "outputs": [
    {
     "data": {
      "text/plain": [
       "2.2"
      ]
     },
     "execution_count": 24,
     "metadata": {},
     "output_type": "execute_result"
    }
   ],
   "source": [
    "w"
   ]
  },
  {
   "cell_type": "code",
   "execution_count": 25,
   "metadata": {
    "collapsed": true
   },
   "outputs": [],
   "source": [
    "x = x - y"
   ]
  },
  {
   "cell_type": "code",
   "execution_count": 26,
   "metadata": {},
   "outputs": [
    {
     "data": {
      "text/plain": [
       "-0.19999999999999996"
      ]
     },
     "execution_count": 26,
     "metadata": {},
     "output_type": "execute_result"
    }
   ],
   "source": [
    "x"
   ]
  },
  {
   "cell_type": "code",
   "execution_count": 27,
   "metadata": {
    "collapsed": true
   },
   "outputs": [],
   "source": [
    "w = 2 ** 3"
   ]
  },
  {
   "cell_type": "code",
   "execution_count": 28,
   "metadata": {},
   "outputs": [
    {
     "data": {
      "text/plain": [
       "8"
      ]
     },
     "execution_count": 28,
     "metadata": {},
     "output_type": "execute_result"
    }
   ],
   "source": [
    "w"
   ]
  },
  {
   "cell_type": "code",
   "execution_count": 29,
   "metadata": {},
   "outputs": [
    {
     "data": {
      "text/plain": [
       "int"
      ]
     },
     "execution_count": 29,
     "metadata": {},
     "output_type": "execute_result"
    }
   ],
   "source": [
    "type(w)"
   ]
  },
  {
   "cell_type": "markdown",
   "metadata": {},
   "source": [
    "<div class=\"alert alert-block alert-info\"><b> Exercise:<br>\n",
    "Try to check the type of $z$ in the following cells.<br>\n",
    "What do you find?</b>"
   ]
  },
  {
   "cell_type": "code",
   "execution_count": 30,
   "metadata": {
    "collapsed": true
   },
   "outputs": [],
   "source": [
    "z = 2//3"
   ]
  },
  {
   "cell_type": "code",
   "execution_count": 31,
   "metadata": {
    "scrolled": true
   },
   "outputs": [
    {
     "data": {
      "text/plain": [
       "int"
      ]
     },
     "execution_count": 31,
     "metadata": {},
     "output_type": "execute_result"
    }
   ],
   "source": [
    "type(z)"
   ]
  },
  {
   "cell_type": "code",
   "execution_count": 32,
   "metadata": {
    "collapsed": true
   },
   "outputs": [],
   "source": [
    "z = 2/3"
   ]
  },
  {
   "cell_type": "code",
   "execution_count": 33,
   "metadata": {},
   "outputs": [
    {
     "data": {
      "text/plain": [
       "float"
      ]
     },
     "execution_count": 33,
     "metadata": {},
     "output_type": "execute_result"
    }
   ],
   "source": [
    "type(z)"
   ]
  },
  {
   "cell_type": "markdown",
   "metadata": {},
   "source": [
    "#### 2.2.1.2 String"
   ]
  },
  {
   "cell_type": "code",
   "execution_count": 12,
   "metadata": {
    "collapsed": true
   },
   "outputs": [],
   "source": [
    "a = 'financial'"
   ]
  },
  {
   "cell_type": "code",
   "execution_count": 13,
   "metadata": {},
   "outputs": [
    {
     "data": {
      "text/plain": [
       "str"
      ]
     },
     "execution_count": 13,
     "metadata": {},
     "output_type": "execute_result"
    }
   ],
   "source": [
    "type(a)"
   ]
  },
  {
   "cell_type": "code",
   "execution_count": 14,
   "metadata": {
    "collapsed": true
   },
   "outputs": [],
   "source": [
    "b = 'economics'"
   ]
  },
  {
   "cell_type": "code",
   "execution_count": 15,
   "metadata": {
    "collapsed": true
   },
   "outputs": [],
   "source": [
    "c = a + ' ' + b # It is not addition in numeric types! This is concatentation."
   ]
  },
  {
   "cell_type": "code",
   "execution_count": 16,
   "metadata": {
    "scrolled": true
   },
   "outputs": [
    {
     "data": {
      "text/plain": [
       "'financial economics'"
      ]
     },
     "execution_count": 16,
     "metadata": {},
     "output_type": "execute_result"
    }
   ],
   "source": [
    "c"
   ]
  },
  {
   "cell_type": "code",
   "execution_count": 17,
   "metadata": {
    "scrolled": true
   },
   "outputs": [
    {
     "data": {
      "text/plain": [
       "9"
      ]
     },
     "execution_count": 17,
     "metadata": {},
     "output_type": "execute_result"
    }
   ],
   "source": [
    "len(a)"
   ]
  },
  {
   "cell_type": "code",
   "execution_count": 23,
   "metadata": {},
   "outputs": [
    {
     "data": {
      "text/plain": [
       "19"
      ]
     },
     "execution_count": 23,
     "metadata": {},
     "output_type": "execute_result"
    }
   ],
   "source": [
    "len(c)"
   ]
  },
  {
   "cell_type": "code",
   "execution_count": 18,
   "metadata": {},
   "outputs": [
    {
     "data": {
      "text/plain": [
       "'1989-01-04'"
      ]
     },
     "execution_count": 18,
     "metadata": {},
     "output_type": "execute_result"
    }
   ],
   "source": [
    "df.DATE[1] #df is the name of our dataframe, DATE is a column (like an array/vector) and [] picks an element(s)"
   ]
  },
  {
   "cell_type": "code",
   "execution_count": 19,
   "metadata": {
    "scrolled": false
   },
   "outputs": [
    {
     "data": {
      "text/plain": [
       "str"
      ]
     },
     "execution_count": 19,
     "metadata": {},
     "output_type": "execute_result"
    }
   ],
   "source": [
    "type(df.DATE[1])"
   ]
  },
  {
   "cell_type": "code",
   "execution_count": 29,
   "metadata": {},
   "outputs": [
    {
     "data": {
      "text/plain": [
       "'14.59375'"
      ]
     },
     "execution_count": 29,
     "metadata": {},
     "output_type": "execute_result"
    }
   ],
   "source": [
    "df.VALUE[1]"
   ]
  },
  {
   "cell_type": "markdown",
   "metadata": {},
   "source": [
    "<div class=\"alert alert-block alert-info\"><b> Exercise:<br>\n",
    "Try to check the type of `df.VALUE[1]`.<br>\n",
    "What do you find?</b>"
   ]
  },
  {
   "cell_type": "code",
   "execution_count": 31,
   "metadata": {
    "collapsed": true,
    "scrolled": true
   },
   "outputs": [],
   "source": [
    "#type(df.VALUE[1])"
   ]
  },
  {
   "cell_type": "markdown",
   "metadata": {},
   "source": [
    "You may find `df.VALUE[1]` is a string. \n",
    "\n",
    "--------------\n",
    "In practice, loading data does **NOT** automatically give us the data type we want.\n",
    "\n",
    "However, We can change the data type to numeric types."
   ]
  },
  {
   "cell_type": "code",
   "execution_count": 32,
   "metadata": {},
   "outputs": [
    {
     "data": {
      "text/plain": [
       "14.59375"
      ]
     },
     "execution_count": 32,
     "metadata": {},
     "output_type": "execute_result"
    }
   ],
   "source": [
    "a = float(df.VALUE[1])\n",
    "a"
   ]
  },
  {
   "cell_type": "code",
   "execution_count": 33,
   "metadata": {},
   "outputs": [
    {
     "data": {
      "text/plain": [
       "float"
      ]
     },
     "execution_count": 33,
     "metadata": {},
     "output_type": "execute_result"
    }
   ],
   "source": [
    "type(a)"
   ]
  },
  {
   "cell_type": "markdown",
   "metadata": {},
   "source": [
    "We may also change the data type for all values."
   ]
  },
  {
   "cell_type": "code",
   "execution_count": 26,
   "metadata": {
    "collapsed": true
   },
   "outputs": [],
   "source": [
    "df.VALUE = pd.to_numeric(df.VALUE, errors='coerce')"
   ]
  },
  {
   "cell_type": "code",
   "execution_count": 27,
   "metadata": {
    "scrolled": true
   },
   "outputs": [
    {
     "data": {
      "text/plain": [
       "0       14.62500\n",
       "1       14.59375\n",
       "2       14.57813\n",
       "3       14.67188\n",
       "4       14.75000\n",
       "5       14.78125\n",
       "6       14.62500\n",
       "7       14.62500\n",
       "8       14.75000\n",
       "9       14.87500\n",
       "10      14.96875\n",
       "11      15.25000\n",
       "12      15.12500\n",
       "13      15.12500\n",
       "14      15.12500\n",
       "15      15.00000\n",
       "16      14.87500\n",
       "17      14.92188\n",
       "18      14.87500\n",
       "19      14.89063\n",
       "20      15.29688\n",
       "21      15.34375\n",
       "22      15.60938\n",
       "23      15.57813\n",
       "24      15.75000\n",
       "25      15.75000\n",
       "26      15.75000\n",
       "27      15.64063\n",
       "28      15.87500\n",
       "29      16.00000\n",
       "          ...   \n",
       "6139     3.11600\n",
       "6140     3.11600\n",
       "6141     3.11600\n",
       "6142     3.11200\n",
       "6143     3.10200\n",
       "6144     3.09800\n",
       "6145     3.09600\n",
       "6146     3.09600\n",
       "6147     3.09400\n",
       "6148     3.09200\n",
       "6149     3.08000\n",
       "6150     3.08000\n",
       "6151     2.94000\n",
       "6152     2.91800\n",
       "6153     2.88400\n",
       "6154     2.86800\n",
       "6155     2.86200\n",
       "6156     2.86000\n",
       "6157     2.86400\n",
       "6158     2.88000\n",
       "6159     2.87600\n",
       "6160     2.87000\n",
       "6161     2.86800\n",
       "6162     2.86400\n",
       "6163     2.85700\n",
       "6164     2.86700\n",
       "6165     2.86300\n",
       "6166     2.86100\n",
       "6167     2.86100\n",
       "6168     2.86500\n",
       "Name: VALUE, Length: 6169, dtype: float64"
      ]
     },
     "execution_count": 27,
     "metadata": {},
     "output_type": "execute_result"
    }
   ],
   "source": [
    "df.VALUE"
   ]
  },
  {
   "cell_type": "markdown",
   "metadata": {},
   "source": [
    "#### 2.2.2 Data Structures\n",
    "\n",
    "The basic [data structures](https://pandas.pydata.org/pandas-docs/stable/dsintro.html) in Pandas are *Series* and *Data Frame*.\n",
    "\n",
    "We introduce *Data Frame* in this section.\n",
    "\n",
    "We can use `type()` function to check data structures."
   ]
  },
  {
   "cell_type": "markdown",
   "metadata": {},
   "source": [
    "\n",
    "Data frame is similar to series. But Data frame is two-dimensional.\n",
    "\n",
    "We still employ the example of LIBOR."
   ]
  },
  {
   "cell_type": "code",
   "execution_count": 34,
   "metadata": {},
   "outputs": [
    {
     "data": {
      "text/plain": [
       "pandas.core.frame.DataFrame"
      ]
     },
     "execution_count": 34,
     "metadata": {},
     "output_type": "execute_result"
    }
   ],
   "source": [
    "type(df)"
   ]
  },
  {
   "cell_type": "code",
   "execution_count": 35,
   "metadata": {
    "scrolled": true
   },
   "outputs": [
    {
     "data": {
      "text/plain": [
       "0       1989-01-03\n",
       "1       1989-01-04\n",
       "2       1989-01-05\n",
       "3       1989-01-06\n",
       "4       1989-01-09\n",
       "5       1989-01-10\n",
       "6       1989-01-11\n",
       "7       1989-01-12\n",
       "8       1989-01-13\n",
       "9       1989-01-16\n",
       "10      1989-01-17\n",
       "11      1989-01-18\n",
       "12      1989-01-19\n",
       "13      1989-01-20\n",
       "14      1989-01-23\n",
       "15      1989-01-24\n",
       "16      1989-01-25\n",
       "17      1989-01-26\n",
       "18      1989-01-27\n",
       "19      1989-01-30\n",
       "20      1989-01-31\n",
       "21      1989-02-01\n",
       "22      1989-02-02\n",
       "23      1989-02-03\n",
       "24      1989-02-06\n",
       "25      1989-02-07\n",
       "26      1989-02-08\n",
       "27      1989-02-09\n",
       "28      1989-02-10\n",
       "29      1989-02-13\n",
       "           ...    \n",
       "6139    2013-04-18\n",
       "6140    2013-04-19\n",
       "6141    2013-04-22\n",
       "6142    2013-04-23\n",
       "6143    2013-04-24\n",
       "6144    2013-04-25\n",
       "6145    2013-04-26\n",
       "6146    2013-04-29\n",
       "6147    2013-04-30\n",
       "6148    2013-05-01\n",
       "6149    2013-05-02\n",
       "6150    2013-05-03\n",
       "6151    2013-05-07\n",
       "6152    2013-05-08\n",
       "6153    2013-05-09\n",
       "6154    2013-05-10\n",
       "6155    2013-05-13\n",
       "6156    2013-05-14\n",
       "6157    2013-05-15\n",
       "6158    2013-05-16\n",
       "6159    2013-05-17\n",
       "6160    2013-05-20\n",
       "6161    2013-05-21\n",
       "6162    2013-05-22\n",
       "6163    2013-05-23\n",
       "6164    2013-05-24\n",
       "6165    2013-05-28\n",
       "6166    2013-05-29\n",
       "6167    2013-05-30\n",
       "6168    2013-05-31\n",
       "Name: DATE, Length: 6169, dtype: object"
      ]
     },
     "execution_count": 35,
     "metadata": {},
     "output_type": "execute_result"
    }
   ],
   "source": [
    "df['DATE']"
   ]
  },
  {
   "cell_type": "code",
   "execution_count": 20,
   "metadata": {},
   "outputs": [
    {
     "name": "stdout",
     "output_type": "stream",
     "text": [
      "Start Date: 1989-01-03 \n",
      " End Date: 2013-05-31\n"
     ]
    }
   ],
   "source": [
    "print('Start Date:', min(df['DATE']),'\\n End Date:', max(df['DATE']))"
   ]
  },
  {
   "cell_type": "code",
   "execution_count": 38,
   "metadata": {
    "collapsed": true
   },
   "outputs": [],
   "source": [
    "df."
   ]
  },
  {
   "cell_type": "markdown",
   "metadata": {},
   "source": [
    "-------------------\n",
    "#### 2.2.2.1 Select Data"
   ]
  },
  {
   "cell_type": "code",
   "execution_count": 41,
   "metadata": {},
   "outputs": [
    {
     "data": {
      "text/html": [
       "<div>\n",
       "<style>\n",
       "    .dataframe thead tr:only-child th {\n",
       "        text-align: right;\n",
       "    }\n",
       "\n",
       "    .dataframe thead th {\n",
       "        text-align: left;\n",
       "    }\n",
       "\n",
       "    .dataframe tbody tr th {\n",
       "        vertical-align: top;\n",
       "    }\n",
       "</style>\n",
       "<table border=\"1\" class=\"dataframe\">\n",
       "  <thead>\n",
       "    <tr style=\"text-align: right;\">\n",
       "      <th></th>\n",
       "      <th>DATE</th>\n",
       "      <th>VALUE</th>\n",
       "    </tr>\n",
       "  </thead>\n",
       "  <tbody>\n",
       "    <tr>\n",
       "      <th>1</th>\n",
       "      <td>1989-01-04</td>\n",
       "      <td>14.59375</td>\n",
       "    </tr>\n",
       "    <tr>\n",
       "      <th>2</th>\n",
       "      <td>1989-01-05</td>\n",
       "      <td>14.57813</td>\n",
       "    </tr>\n",
       "  </tbody>\n",
       "</table>\n",
       "</div>"
      ],
      "text/plain": [
       "         DATE     VALUE\n",
       "1  1989-01-04  14.59375\n",
       "2  1989-01-05  14.57813"
      ]
     },
     "execution_count": 41,
     "metadata": {},
     "output_type": "execute_result"
    }
   ],
   "source": [
    "df[1:3] # means start: to end (end point not included); 0 is first position"
   ]
  },
  {
   "cell_type": "code",
   "execution_count": 42,
   "metadata": {},
   "outputs": [
    {
     "data": {
      "text/html": [
       "<div>\n",
       "<style>\n",
       "    .dataframe thead tr:only-child th {\n",
       "        text-align: right;\n",
       "    }\n",
       "\n",
       "    .dataframe thead th {\n",
       "        text-align: left;\n",
       "    }\n",
       "\n",
       "    .dataframe tbody tr th {\n",
       "        vertical-align: top;\n",
       "    }\n",
       "</style>\n",
       "<table border=\"1\" class=\"dataframe\">\n",
       "  <thead>\n",
       "    <tr style=\"text-align: right;\">\n",
       "      <th></th>\n",
       "      <th>DATE</th>\n",
       "      <th>VALUE</th>\n",
       "    </tr>\n",
       "  </thead>\n",
       "  <tbody>\n",
       "    <tr>\n",
       "      <th>2879</th>\n",
       "      <td>2000-05-30</td>\n",
       "      <td>6.10625</td>\n",
       "    </tr>\n",
       "  </tbody>\n",
       "</table>\n",
       "</div>"
      ],
      "text/plain": [
       "            DATE    VALUE\n",
       "2879  2000-05-30  6.10625"
      ]
     },
     "execution_count": 42,
     "metadata": {},
     "output_type": "execute_result"
    }
   ],
   "source": [
    "df.loc[df.DATE == '2000-05-30']"
   ]
  },
  {
   "cell_type": "code",
   "execution_count": 22,
   "metadata": {
    "collapsed": true
   },
   "outputs": [],
   "source": [
    "df_after_2000 = df[df['DATE'] > '2000-01-01']"
   ]
  },
  {
   "cell_type": "code",
   "execution_count": 24,
   "metadata": {
    "scrolled": true
   },
   "outputs": [
    {
     "data": {
      "text/html": [
       "<div>\n",
       "<style>\n",
       "    .dataframe thead tr:only-child th {\n",
       "        text-align: right;\n",
       "    }\n",
       "\n",
       "    .dataframe thead th {\n",
       "        text-align: left;\n",
       "    }\n",
       "\n",
       "    .dataframe tbody tr th {\n",
       "        vertical-align: top;\n",
       "    }\n",
       "</style>\n",
       "<table border=\"1\" class=\"dataframe\">\n",
       "  <thead>\n",
       "    <tr style=\"text-align: right;\">\n",
       "      <th></th>\n",
       "      <th>DATE</th>\n",
       "      <th>VALUE</th>\n",
       "    </tr>\n",
       "  </thead>\n",
       "  <tbody>\n",
       "    <tr>\n",
       "      <th>2778</th>\n",
       "      <td>2000-01-04</td>\n",
       "      <td>5.27000</td>\n",
       "    </tr>\n",
       "    <tr>\n",
       "      <th>2779</th>\n",
       "      <td>2000-01-05</td>\n",
       "      <td>5.25000</td>\n",
       "    </tr>\n",
       "    <tr>\n",
       "      <th>2780</th>\n",
       "      <td>2000-01-06</td>\n",
       "      <td>5.22969</td>\n",
       "    </tr>\n",
       "    <tr>\n",
       "      <th>2781</th>\n",
       "      <td>2000-01-07</td>\n",
       "      <td>5.24500</td>\n",
       "    </tr>\n",
       "    <tr>\n",
       "      <th>2782</th>\n",
       "      <td>2000-01-10</td>\n",
       "      <td>5.25000</td>\n",
       "    </tr>\n",
       "    <tr>\n",
       "      <th>2783</th>\n",
       "      <td>2000-01-11</td>\n",
       "      <td>5.25000</td>\n",
       "    </tr>\n",
       "    <tr>\n",
       "      <th>2784</th>\n",
       "      <td>2000-01-12</td>\n",
       "      <td>5.25000</td>\n",
       "    </tr>\n",
       "    <tr>\n",
       "      <th>2785</th>\n",
       "      <td>2000-01-13</td>\n",
       "      <td>5.24500</td>\n",
       "    </tr>\n",
       "    <tr>\n",
       "      <th>2786</th>\n",
       "      <td>2000-01-14</td>\n",
       "      <td>5.23719</td>\n",
       "    </tr>\n",
       "    <tr>\n",
       "      <th>2787</th>\n",
       "      <td>2000-01-17</td>\n",
       "      <td>5.21969</td>\n",
       "    </tr>\n",
       "    <tr>\n",
       "      <th>2788</th>\n",
       "      <td>2000-01-18</td>\n",
       "      <td>5.25000</td>\n",
       "    </tr>\n",
       "    <tr>\n",
       "      <th>2789</th>\n",
       "      <td>2000-01-19</td>\n",
       "      <td>5.25000</td>\n",
       "    </tr>\n",
       "    <tr>\n",
       "      <th>2790</th>\n",
       "      <td>2000-01-20</td>\n",
       "      <td>5.26531</td>\n",
       "    </tr>\n",
       "    <tr>\n",
       "      <th>2791</th>\n",
       "      <td>2000-01-21</td>\n",
       "      <td>5.30000</td>\n",
       "    </tr>\n",
       "    <tr>\n",
       "      <th>2792</th>\n",
       "      <td>2000-01-24</td>\n",
       "      <td>5.32000</td>\n",
       "    </tr>\n",
       "    <tr>\n",
       "      <th>2793</th>\n",
       "      <td>2000-01-25</td>\n",
       "      <td>5.31750</td>\n",
       "    </tr>\n",
       "    <tr>\n",
       "      <th>2794</th>\n",
       "      <td>2000-01-26</td>\n",
       "      <td>5.33000</td>\n",
       "    </tr>\n",
       "    <tr>\n",
       "      <th>2795</th>\n",
       "      <td>2000-01-27</td>\n",
       "      <td>5.35000</td>\n",
       "    </tr>\n",
       "    <tr>\n",
       "      <th>2796</th>\n",
       "      <td>2000-01-28</td>\n",
       "      <td>5.30313</td>\n",
       "    </tr>\n",
       "    <tr>\n",
       "      <th>2797</th>\n",
       "      <td>2000-01-31</td>\n",
       "      <td>5.30844</td>\n",
       "    </tr>\n",
       "    <tr>\n",
       "      <th>2798</th>\n",
       "      <td>2000-02-01</td>\n",
       "      <td>5.31563</td>\n",
       "    </tr>\n",
       "    <tr>\n",
       "      <th>2799</th>\n",
       "      <td>2000-02-02</td>\n",
       "      <td>5.51500</td>\n",
       "    </tr>\n",
       "    <tr>\n",
       "      <th>2800</th>\n",
       "      <td>2000-02-03</td>\n",
       "      <td>5.56125</td>\n",
       "    </tr>\n",
       "    <tr>\n",
       "      <th>2801</th>\n",
       "      <td>2000-02-04</td>\n",
       "      <td>5.59844</td>\n",
       "    </tr>\n",
       "    <tr>\n",
       "      <th>2802</th>\n",
       "      <td>2000-02-07</td>\n",
       "      <td>5.63875</td>\n",
       "    </tr>\n",
       "    <tr>\n",
       "      <th>2803</th>\n",
       "      <td>2000-02-08</td>\n",
       "      <td>5.62875</td>\n",
       "    </tr>\n",
       "    <tr>\n",
       "      <th>2804</th>\n",
       "      <td>2000-02-09</td>\n",
       "      <td>5.60750</td>\n",
       "    </tr>\n",
       "    <tr>\n",
       "      <th>2805</th>\n",
       "      <td>2000-02-10</td>\n",
       "      <td>5.60500</td>\n",
       "    </tr>\n",
       "    <tr>\n",
       "      <th>2806</th>\n",
       "      <td>2000-02-11</td>\n",
       "      <td>5.57406</td>\n",
       "    </tr>\n",
       "    <tr>\n",
       "      <th>2807</th>\n",
       "      <td>2000-02-14</td>\n",
       "      <td>5.54531</td>\n",
       "    </tr>\n",
       "    <tr>\n",
       "      <th>...</th>\n",
       "      <td>...</td>\n",
       "      <td>...</td>\n",
       "    </tr>\n",
       "    <tr>\n",
       "      <th>6139</th>\n",
       "      <td>2013-04-18</td>\n",
       "      <td>3.11600</td>\n",
       "    </tr>\n",
       "    <tr>\n",
       "      <th>6140</th>\n",
       "      <td>2013-04-19</td>\n",
       "      <td>3.11600</td>\n",
       "    </tr>\n",
       "    <tr>\n",
       "      <th>6141</th>\n",
       "      <td>2013-04-22</td>\n",
       "      <td>3.11600</td>\n",
       "    </tr>\n",
       "    <tr>\n",
       "      <th>6142</th>\n",
       "      <td>2013-04-23</td>\n",
       "      <td>3.11200</td>\n",
       "    </tr>\n",
       "    <tr>\n",
       "      <th>6143</th>\n",
       "      <td>2013-04-24</td>\n",
       "      <td>3.10200</td>\n",
       "    </tr>\n",
       "    <tr>\n",
       "      <th>6144</th>\n",
       "      <td>2013-04-25</td>\n",
       "      <td>3.09800</td>\n",
       "    </tr>\n",
       "    <tr>\n",
       "      <th>6145</th>\n",
       "      <td>2013-04-26</td>\n",
       "      <td>3.09600</td>\n",
       "    </tr>\n",
       "    <tr>\n",
       "      <th>6146</th>\n",
       "      <td>2013-04-29</td>\n",
       "      <td>3.09600</td>\n",
       "    </tr>\n",
       "    <tr>\n",
       "      <th>6147</th>\n",
       "      <td>2013-04-30</td>\n",
       "      <td>3.09400</td>\n",
       "    </tr>\n",
       "    <tr>\n",
       "      <th>6148</th>\n",
       "      <td>2013-05-01</td>\n",
       "      <td>3.09200</td>\n",
       "    </tr>\n",
       "    <tr>\n",
       "      <th>6149</th>\n",
       "      <td>2013-05-02</td>\n",
       "      <td>3.08000</td>\n",
       "    </tr>\n",
       "    <tr>\n",
       "      <th>6150</th>\n",
       "      <td>2013-05-03</td>\n",
       "      <td>3.08000</td>\n",
       "    </tr>\n",
       "    <tr>\n",
       "      <th>6151</th>\n",
       "      <td>2013-05-07</td>\n",
       "      <td>2.94000</td>\n",
       "    </tr>\n",
       "    <tr>\n",
       "      <th>6152</th>\n",
       "      <td>2013-05-08</td>\n",
       "      <td>2.91800</td>\n",
       "    </tr>\n",
       "    <tr>\n",
       "      <th>6153</th>\n",
       "      <td>2013-05-09</td>\n",
       "      <td>2.88400</td>\n",
       "    </tr>\n",
       "    <tr>\n",
       "      <th>6154</th>\n",
       "      <td>2013-05-10</td>\n",
       "      <td>2.86800</td>\n",
       "    </tr>\n",
       "    <tr>\n",
       "      <th>6155</th>\n",
       "      <td>2013-05-13</td>\n",
       "      <td>2.86200</td>\n",
       "    </tr>\n",
       "    <tr>\n",
       "      <th>6156</th>\n",
       "      <td>2013-05-14</td>\n",
       "      <td>2.86000</td>\n",
       "    </tr>\n",
       "    <tr>\n",
       "      <th>6157</th>\n",
       "      <td>2013-05-15</td>\n",
       "      <td>2.86400</td>\n",
       "    </tr>\n",
       "    <tr>\n",
       "      <th>6158</th>\n",
       "      <td>2013-05-16</td>\n",
       "      <td>2.88000</td>\n",
       "    </tr>\n",
       "    <tr>\n",
       "      <th>6159</th>\n",
       "      <td>2013-05-17</td>\n",
       "      <td>2.87600</td>\n",
       "    </tr>\n",
       "    <tr>\n",
       "      <th>6160</th>\n",
       "      <td>2013-05-20</td>\n",
       "      <td>2.87000</td>\n",
       "    </tr>\n",
       "    <tr>\n",
       "      <th>6161</th>\n",
       "      <td>2013-05-21</td>\n",
       "      <td>2.86800</td>\n",
       "    </tr>\n",
       "    <tr>\n",
       "      <th>6162</th>\n",
       "      <td>2013-05-22</td>\n",
       "      <td>2.86400</td>\n",
       "    </tr>\n",
       "    <tr>\n",
       "      <th>6163</th>\n",
       "      <td>2013-05-23</td>\n",
       "      <td>2.85700</td>\n",
       "    </tr>\n",
       "    <tr>\n",
       "      <th>6164</th>\n",
       "      <td>2013-05-24</td>\n",
       "      <td>2.86700</td>\n",
       "    </tr>\n",
       "    <tr>\n",
       "      <th>6165</th>\n",
       "      <td>2013-05-28</td>\n",
       "      <td>2.86300</td>\n",
       "    </tr>\n",
       "    <tr>\n",
       "      <th>6166</th>\n",
       "      <td>2013-05-29</td>\n",
       "      <td>2.86100</td>\n",
       "    </tr>\n",
       "    <tr>\n",
       "      <th>6167</th>\n",
       "      <td>2013-05-30</td>\n",
       "      <td>2.86100</td>\n",
       "    </tr>\n",
       "    <tr>\n",
       "      <th>6168</th>\n",
       "      <td>2013-05-31</td>\n",
       "      <td>2.86500</td>\n",
       "    </tr>\n",
       "  </tbody>\n",
       "</table>\n",
       "<p>3391 rows × 2 columns</p>\n",
       "</div>"
      ],
      "text/plain": [
       "            DATE    VALUE\n",
       "2778  2000-01-04  5.27000\n",
       "2779  2000-01-05  5.25000\n",
       "2780  2000-01-06  5.22969\n",
       "2781  2000-01-07  5.24500\n",
       "2782  2000-01-10  5.25000\n",
       "2783  2000-01-11  5.25000\n",
       "2784  2000-01-12  5.25000\n",
       "2785  2000-01-13  5.24500\n",
       "2786  2000-01-14  5.23719\n",
       "2787  2000-01-17  5.21969\n",
       "2788  2000-01-18  5.25000\n",
       "2789  2000-01-19  5.25000\n",
       "2790  2000-01-20  5.26531\n",
       "2791  2000-01-21  5.30000\n",
       "2792  2000-01-24  5.32000\n",
       "2793  2000-01-25  5.31750\n",
       "2794  2000-01-26  5.33000\n",
       "2795  2000-01-27  5.35000\n",
       "2796  2000-01-28  5.30313\n",
       "2797  2000-01-31  5.30844\n",
       "2798  2000-02-01  5.31563\n",
       "2799  2000-02-02  5.51500\n",
       "2800  2000-02-03  5.56125\n",
       "2801  2000-02-04  5.59844\n",
       "2802  2000-02-07  5.63875\n",
       "2803  2000-02-08  5.62875\n",
       "2804  2000-02-09  5.60750\n",
       "2805  2000-02-10  5.60500\n",
       "2806  2000-02-11  5.57406\n",
       "2807  2000-02-14  5.54531\n",
       "...          ...      ...\n",
       "6139  2013-04-18  3.11600\n",
       "6140  2013-04-19  3.11600\n",
       "6141  2013-04-22  3.11600\n",
       "6142  2013-04-23  3.11200\n",
       "6143  2013-04-24  3.10200\n",
       "6144  2013-04-25  3.09800\n",
       "6145  2013-04-26  3.09600\n",
       "6146  2013-04-29  3.09600\n",
       "6147  2013-04-30  3.09400\n",
       "6148  2013-05-01  3.09200\n",
       "6149  2013-05-02  3.08000\n",
       "6150  2013-05-03  3.08000\n",
       "6151  2013-05-07  2.94000\n",
       "6152  2013-05-08  2.91800\n",
       "6153  2013-05-09  2.88400\n",
       "6154  2013-05-10  2.86800\n",
       "6155  2013-05-13  2.86200\n",
       "6156  2013-05-14  2.86000\n",
       "6157  2013-05-15  2.86400\n",
       "6158  2013-05-16  2.88000\n",
       "6159  2013-05-17  2.87600\n",
       "6160  2013-05-20  2.87000\n",
       "6161  2013-05-21  2.86800\n",
       "6162  2013-05-22  2.86400\n",
       "6163  2013-05-23  2.85700\n",
       "6164  2013-05-24  2.86700\n",
       "6165  2013-05-28  2.86300\n",
       "6166  2013-05-29  2.86100\n",
       "6167  2013-05-30  2.86100\n",
       "6168  2013-05-31  2.86500\n",
       "\n",
       "[3391 rows x 2 columns]"
      ]
     },
     "execution_count": 24,
     "metadata": {},
     "output_type": "execute_result"
    }
   ],
   "source": [
    "df_after_2000"
   ]
  },
  {
   "cell_type": "markdown",
   "metadata": {},
   "source": [
    "------------------\n",
    "#### 2.2.2.2 Generate Data\n",
    "For example, we can calculate the log return of LIBOR. First a bit of maths:\n",
    "\n",
    "$r=\\frac{p_{t+1}-p_t}{p_t}$ so $1+r=\\frac{p_{t+1}}{p_t}$\n",
    "\n",
    "but for close to 1 log-linear approximation holds so\n",
    "\n",
    "$log(1+r) \\approx r$ and hence $log(\\frac{p_{t+1}}{p_t}) = log(p_{t+1})-log(p_{t}) \\approx r$"
   ]
  },
  {
   "cell_type": "code",
   "execution_count": 28,
   "metadata": {},
   "outputs": [
    {
     "name": "stderr",
     "output_type": "stream",
     "text": [
      "/usr/lib/python3.6/site-packages/ipykernel/__main__.py:1: SettingWithCopyWarning: \n",
      "A value is trying to be set on a copy of a slice from a DataFrame.\n",
      "Try using .loc[row_indexer,col_indexer] = value instead\n",
      "\n",
      "See the caveats in the documentation: http://pandas.pydata.org/pandas-docs/stable/indexing.html#indexing-view-versus-copy\n",
      "  if __name__ == '__main__':\n",
      "/usr/lib/python3.6/site-packages/ipykernel/__main__.py:2: SettingWithCopyWarning: \n",
      "A value is trying to be set on a copy of a slice from a DataFrame.\n",
      "Try using .loc[row_indexer,col_indexer] = value instead\n",
      "\n",
      "See the caveats in the documentation: http://pandas.pydata.org/pandas-docs/stable/indexing.html#indexing-view-versus-copy\n",
      "  from ipykernel import kernelapp as app\n"
     ]
    }
   ],
   "source": [
    "df_after_2000['LVALUE'] = np.log(df.VALUE)\n",
    "df_after_2000['RETURN'] = np.log(df.VALUE).diff(1) #.diff takes the difference between adjacent values"
   ]
  },
  {
   "cell_type": "code",
   "execution_count": 29,
   "metadata": {},
   "outputs": [
    {
     "data": {
      "text/plain": [
       "Index(['DATE', 'VALUE', 'LVALUE', 'RETURN'], dtype='object')"
      ]
     },
     "execution_count": 29,
     "metadata": {},
     "output_type": "execute_result"
    }
   ],
   "source": [
    "df_after_2000.columns"
   ]
  },
  {
   "cell_type": "code",
   "execution_count": 67,
   "metadata": {
    "scrolled": true
   },
   "outputs": [
    {
     "data": {
      "text/html": [
       "<div>\n",
       "<style>\n",
       "    .dataframe thead tr:only-child th {\n",
       "        text-align: right;\n",
       "    }\n",
       "\n",
       "    .dataframe thead th {\n",
       "        text-align: left;\n",
       "    }\n",
       "\n",
       "    .dataframe tbody tr th {\n",
       "        vertical-align: top;\n",
       "    }\n",
       "</style>\n",
       "<table border=\"1\" class=\"dataframe\">\n",
       "  <thead>\n",
       "    <tr style=\"text-align: right;\">\n",
       "      <th></th>\n",
       "      <th>DATE</th>\n",
       "      <th>VALUE</th>\n",
       "      <th>RETURN</th>\n",
       "      <th>LVALUE</th>\n",
       "    </tr>\n",
       "  </thead>\n",
       "  <tbody>\n",
       "    <tr>\n",
       "      <th>2778</th>\n",
       "      <td>2000-01-04</td>\n",
       "      <td>5.27000</td>\n",
       "      <td>-0.009561</td>\n",
       "      <td>1.662030</td>\n",
       "    </tr>\n",
       "    <tr>\n",
       "      <th>2779</th>\n",
       "      <td>2000-01-05</td>\n",
       "      <td>5.25000</td>\n",
       "      <td>-0.003802</td>\n",
       "      <td>1.658228</td>\n",
       "    </tr>\n",
       "    <tr>\n",
       "      <th>2780</th>\n",
       "      <td>2000-01-06</td>\n",
       "      <td>5.22969</td>\n",
       "      <td>-0.003876</td>\n",
       "      <td>1.654352</td>\n",
       "    </tr>\n",
       "    <tr>\n",
       "      <th>2781</th>\n",
       "      <td>2000-01-07</td>\n",
       "      <td>5.24500</td>\n",
       "      <td>0.002923</td>\n",
       "      <td>1.657275</td>\n",
       "    </tr>\n",
       "    <tr>\n",
       "      <th>2782</th>\n",
       "      <td>2000-01-10</td>\n",
       "      <td>5.25000</td>\n",
       "      <td>0.000953</td>\n",
       "      <td>1.658228</td>\n",
       "    </tr>\n",
       "    <tr>\n",
       "      <th>2783</th>\n",
       "      <td>2000-01-11</td>\n",
       "      <td>5.25000</td>\n",
       "      <td>0.000000</td>\n",
       "      <td>1.658228</td>\n",
       "    </tr>\n",
       "    <tr>\n",
       "      <th>2784</th>\n",
       "      <td>2000-01-12</td>\n",
       "      <td>5.25000</td>\n",
       "      <td>0.000000</td>\n",
       "      <td>1.658228</td>\n",
       "    </tr>\n",
       "    <tr>\n",
       "      <th>2785</th>\n",
       "      <td>2000-01-13</td>\n",
       "      <td>5.24500</td>\n",
       "      <td>-0.000953</td>\n",
       "      <td>1.657275</td>\n",
       "    </tr>\n",
       "    <tr>\n",
       "      <th>2786</th>\n",
       "      <td>2000-01-14</td>\n",
       "      <td>5.23719</td>\n",
       "      <td>-0.001490</td>\n",
       "      <td>1.655785</td>\n",
       "    </tr>\n",
       "    <tr>\n",
       "      <th>2787</th>\n",
       "      <td>2000-01-17</td>\n",
       "      <td>5.21969</td>\n",
       "      <td>-0.003347</td>\n",
       "      <td>1.652438</td>\n",
       "    </tr>\n",
       "    <tr>\n",
       "      <th>2788</th>\n",
       "      <td>2000-01-18</td>\n",
       "      <td>5.25000</td>\n",
       "      <td>0.005790</td>\n",
       "      <td>1.658228</td>\n",
       "    </tr>\n",
       "    <tr>\n",
       "      <th>2789</th>\n",
       "      <td>2000-01-19</td>\n",
       "      <td>5.25000</td>\n",
       "      <td>0.000000</td>\n",
       "      <td>1.658228</td>\n",
       "    </tr>\n",
       "    <tr>\n",
       "      <th>2790</th>\n",
       "      <td>2000-01-20</td>\n",
       "      <td>5.26531</td>\n",
       "      <td>0.002912</td>\n",
       "      <td>1.661140</td>\n",
       "    </tr>\n",
       "    <tr>\n",
       "      <th>2791</th>\n",
       "      <td>2000-01-21</td>\n",
       "      <td>5.30000</td>\n",
       "      <td>0.006567</td>\n",
       "      <td>1.667707</td>\n",
       "    </tr>\n",
       "    <tr>\n",
       "      <th>2792</th>\n",
       "      <td>2000-01-24</td>\n",
       "      <td>5.32000</td>\n",
       "      <td>0.003766</td>\n",
       "      <td>1.671473</td>\n",
       "    </tr>\n",
       "    <tr>\n",
       "      <th>2793</th>\n",
       "      <td>2000-01-25</td>\n",
       "      <td>5.31750</td>\n",
       "      <td>-0.000470</td>\n",
       "      <td>1.671003</td>\n",
       "    </tr>\n",
       "    <tr>\n",
       "      <th>2794</th>\n",
       "      <td>2000-01-26</td>\n",
       "      <td>5.33000</td>\n",
       "      <td>0.002348</td>\n",
       "      <td>1.673351</td>\n",
       "    </tr>\n",
       "    <tr>\n",
       "      <th>2795</th>\n",
       "      <td>2000-01-27</td>\n",
       "      <td>5.35000</td>\n",
       "      <td>0.003745</td>\n",
       "      <td>1.677097</td>\n",
       "    </tr>\n",
       "    <tr>\n",
       "      <th>2796</th>\n",
       "      <td>2000-01-28</td>\n",
       "      <td>5.30313</td>\n",
       "      <td>-0.008799</td>\n",
       "      <td>1.668297</td>\n",
       "    </tr>\n",
       "    <tr>\n",
       "      <th>2797</th>\n",
       "      <td>2000-01-31</td>\n",
       "      <td>5.30844</td>\n",
       "      <td>0.001001</td>\n",
       "      <td>1.669298</td>\n",
       "    </tr>\n",
       "    <tr>\n",
       "      <th>2798</th>\n",
       "      <td>2000-02-01</td>\n",
       "      <td>5.31563</td>\n",
       "      <td>0.001354</td>\n",
       "      <td>1.670652</td>\n",
       "    </tr>\n",
       "    <tr>\n",
       "      <th>2799</th>\n",
       "      <td>2000-02-02</td>\n",
       "      <td>5.51500</td>\n",
       "      <td>0.036820</td>\n",
       "      <td>1.707472</td>\n",
       "    </tr>\n",
       "    <tr>\n",
       "      <th>2800</th>\n",
       "      <td>2000-02-03</td>\n",
       "      <td>5.56125</td>\n",
       "      <td>0.008351</td>\n",
       "      <td>1.715823</td>\n",
       "    </tr>\n",
       "    <tr>\n",
       "      <th>2801</th>\n",
       "      <td>2000-02-04</td>\n",
       "      <td>5.59844</td>\n",
       "      <td>0.006665</td>\n",
       "      <td>1.722488</td>\n",
       "    </tr>\n",
       "    <tr>\n",
       "      <th>2802</th>\n",
       "      <td>2000-02-07</td>\n",
       "      <td>5.63875</td>\n",
       "      <td>0.007174</td>\n",
       "      <td>1.729662</td>\n",
       "    </tr>\n",
       "    <tr>\n",
       "      <th>2803</th>\n",
       "      <td>2000-02-08</td>\n",
       "      <td>5.62875</td>\n",
       "      <td>-0.001775</td>\n",
       "      <td>1.727887</td>\n",
       "    </tr>\n",
       "    <tr>\n",
       "      <th>2804</th>\n",
       "      <td>2000-02-09</td>\n",
       "      <td>5.60750</td>\n",
       "      <td>-0.003782</td>\n",
       "      <td>1.724105</td>\n",
       "    </tr>\n",
       "    <tr>\n",
       "      <th>2805</th>\n",
       "      <td>2000-02-10</td>\n",
       "      <td>5.60500</td>\n",
       "      <td>-0.000446</td>\n",
       "      <td>1.723659</td>\n",
       "    </tr>\n",
       "    <tr>\n",
       "      <th>2806</th>\n",
       "      <td>2000-02-11</td>\n",
       "      <td>5.57406</td>\n",
       "      <td>-0.005535</td>\n",
       "      <td>1.718124</td>\n",
       "    </tr>\n",
       "    <tr>\n",
       "      <th>2807</th>\n",
       "      <td>2000-02-14</td>\n",
       "      <td>5.54531</td>\n",
       "      <td>-0.005171</td>\n",
       "      <td>1.712953</td>\n",
       "    </tr>\n",
       "    <tr>\n",
       "      <th>...</th>\n",
       "      <td>...</td>\n",
       "      <td>...</td>\n",
       "      <td>...</td>\n",
       "      <td>...</td>\n",
       "    </tr>\n",
       "    <tr>\n",
       "      <th>6139</th>\n",
       "      <td>2013-04-18</td>\n",
       "      <td>3.11600</td>\n",
       "      <td>0.000000</td>\n",
       "      <td>1.136550</td>\n",
       "    </tr>\n",
       "    <tr>\n",
       "      <th>6140</th>\n",
       "      <td>2013-04-19</td>\n",
       "      <td>3.11600</td>\n",
       "      <td>0.000000</td>\n",
       "      <td>1.136550</td>\n",
       "    </tr>\n",
       "    <tr>\n",
       "      <th>6141</th>\n",
       "      <td>2013-04-22</td>\n",
       "      <td>3.11600</td>\n",
       "      <td>0.000000</td>\n",
       "      <td>1.136550</td>\n",
       "    </tr>\n",
       "    <tr>\n",
       "      <th>6142</th>\n",
       "      <td>2013-04-23</td>\n",
       "      <td>3.11200</td>\n",
       "      <td>-0.001285</td>\n",
       "      <td>1.135266</td>\n",
       "    </tr>\n",
       "    <tr>\n",
       "      <th>6143</th>\n",
       "      <td>2013-04-24</td>\n",
       "      <td>3.10200</td>\n",
       "      <td>-0.003219</td>\n",
       "      <td>1.132047</td>\n",
       "    </tr>\n",
       "    <tr>\n",
       "      <th>6144</th>\n",
       "      <td>2013-04-25</td>\n",
       "      <td>3.09800</td>\n",
       "      <td>-0.001290</td>\n",
       "      <td>1.130757</td>\n",
       "    </tr>\n",
       "    <tr>\n",
       "      <th>6145</th>\n",
       "      <td>2013-04-26</td>\n",
       "      <td>3.09600</td>\n",
       "      <td>-0.000646</td>\n",
       "      <td>1.130111</td>\n",
       "    </tr>\n",
       "    <tr>\n",
       "      <th>6146</th>\n",
       "      <td>2013-04-29</td>\n",
       "      <td>3.09600</td>\n",
       "      <td>0.000000</td>\n",
       "      <td>1.130111</td>\n",
       "    </tr>\n",
       "    <tr>\n",
       "      <th>6147</th>\n",
       "      <td>2013-04-30</td>\n",
       "      <td>3.09400</td>\n",
       "      <td>-0.000646</td>\n",
       "      <td>1.129465</td>\n",
       "    </tr>\n",
       "    <tr>\n",
       "      <th>6148</th>\n",
       "      <td>2013-05-01</td>\n",
       "      <td>3.09200</td>\n",
       "      <td>-0.000647</td>\n",
       "      <td>1.128818</td>\n",
       "    </tr>\n",
       "    <tr>\n",
       "      <th>6149</th>\n",
       "      <td>2013-05-02</td>\n",
       "      <td>3.08000</td>\n",
       "      <td>-0.003889</td>\n",
       "      <td>1.124930</td>\n",
       "    </tr>\n",
       "    <tr>\n",
       "      <th>6150</th>\n",
       "      <td>2013-05-03</td>\n",
       "      <td>3.08000</td>\n",
       "      <td>0.000000</td>\n",
       "      <td>1.124930</td>\n",
       "    </tr>\n",
       "    <tr>\n",
       "      <th>6151</th>\n",
       "      <td>2013-05-07</td>\n",
       "      <td>2.94000</td>\n",
       "      <td>-0.046520</td>\n",
       "      <td>1.078410</td>\n",
       "    </tr>\n",
       "    <tr>\n",
       "      <th>6152</th>\n",
       "      <td>2013-05-08</td>\n",
       "      <td>2.91800</td>\n",
       "      <td>-0.007511</td>\n",
       "      <td>1.070898</td>\n",
       "    </tr>\n",
       "    <tr>\n",
       "      <th>6153</th>\n",
       "      <td>2013-05-09</td>\n",
       "      <td>2.88400</td>\n",
       "      <td>-0.011720</td>\n",
       "      <td>1.059178</td>\n",
       "    </tr>\n",
       "    <tr>\n",
       "      <th>6154</th>\n",
       "      <td>2013-05-10</td>\n",
       "      <td>2.86800</td>\n",
       "      <td>-0.005563</td>\n",
       "      <td>1.053615</td>\n",
       "    </tr>\n",
       "    <tr>\n",
       "      <th>6155</th>\n",
       "      <td>2013-05-13</td>\n",
       "      <td>2.86200</td>\n",
       "      <td>-0.002094</td>\n",
       "      <td>1.051521</td>\n",
       "    </tr>\n",
       "    <tr>\n",
       "      <th>6156</th>\n",
       "      <td>2013-05-14</td>\n",
       "      <td>2.86000</td>\n",
       "      <td>-0.000699</td>\n",
       "      <td>1.050822</td>\n",
       "    </tr>\n",
       "    <tr>\n",
       "      <th>6157</th>\n",
       "      <td>2013-05-15</td>\n",
       "      <td>2.86400</td>\n",
       "      <td>0.001398</td>\n",
       "      <td>1.052219</td>\n",
       "    </tr>\n",
       "    <tr>\n",
       "      <th>6158</th>\n",
       "      <td>2013-05-16</td>\n",
       "      <td>2.88000</td>\n",
       "      <td>0.005571</td>\n",
       "      <td>1.057790</td>\n",
       "    </tr>\n",
       "    <tr>\n",
       "      <th>6159</th>\n",
       "      <td>2013-05-17</td>\n",
       "      <td>2.87600</td>\n",
       "      <td>-0.001390</td>\n",
       "      <td>1.056400</td>\n",
       "    </tr>\n",
       "    <tr>\n",
       "      <th>6160</th>\n",
       "      <td>2013-05-20</td>\n",
       "      <td>2.87000</td>\n",
       "      <td>-0.002088</td>\n",
       "      <td>1.054312</td>\n",
       "    </tr>\n",
       "    <tr>\n",
       "      <th>6161</th>\n",
       "      <td>2013-05-21</td>\n",
       "      <td>2.86800</td>\n",
       "      <td>-0.000697</td>\n",
       "      <td>1.053615</td>\n",
       "    </tr>\n",
       "    <tr>\n",
       "      <th>6162</th>\n",
       "      <td>2013-05-22</td>\n",
       "      <td>2.86400</td>\n",
       "      <td>-0.001396</td>\n",
       "      <td>1.052219</td>\n",
       "    </tr>\n",
       "    <tr>\n",
       "      <th>6163</th>\n",
       "      <td>2013-05-23</td>\n",
       "      <td>2.85700</td>\n",
       "      <td>-0.002447</td>\n",
       "      <td>1.049772</td>\n",
       "    </tr>\n",
       "    <tr>\n",
       "      <th>6164</th>\n",
       "      <td>2013-05-24</td>\n",
       "      <td>2.86700</td>\n",
       "      <td>0.003494</td>\n",
       "      <td>1.053266</td>\n",
       "    </tr>\n",
       "    <tr>\n",
       "      <th>6165</th>\n",
       "      <td>2013-05-28</td>\n",
       "      <td>2.86300</td>\n",
       "      <td>-0.001396</td>\n",
       "      <td>1.051870</td>\n",
       "    </tr>\n",
       "    <tr>\n",
       "      <th>6166</th>\n",
       "      <td>2013-05-29</td>\n",
       "      <td>2.86100</td>\n",
       "      <td>-0.000699</td>\n",
       "      <td>1.051171</td>\n",
       "    </tr>\n",
       "    <tr>\n",
       "      <th>6167</th>\n",
       "      <td>2013-05-30</td>\n",
       "      <td>2.86100</td>\n",
       "      <td>0.000000</td>\n",
       "      <td>1.051171</td>\n",
       "    </tr>\n",
       "    <tr>\n",
       "      <th>6168</th>\n",
       "      <td>2013-05-31</td>\n",
       "      <td>2.86500</td>\n",
       "      <td>0.001397</td>\n",
       "      <td>1.052568</td>\n",
       "    </tr>\n",
       "  </tbody>\n",
       "</table>\n",
       "<p>3391 rows × 4 columns</p>\n",
       "</div>"
      ],
      "text/plain": [
       "            DATE    VALUE    RETURN    LVALUE\n",
       "2778  2000-01-04  5.27000 -0.009561  1.662030\n",
       "2779  2000-01-05  5.25000 -0.003802  1.658228\n",
       "2780  2000-01-06  5.22969 -0.003876  1.654352\n",
       "2781  2000-01-07  5.24500  0.002923  1.657275\n",
       "2782  2000-01-10  5.25000  0.000953  1.658228\n",
       "2783  2000-01-11  5.25000  0.000000  1.658228\n",
       "2784  2000-01-12  5.25000  0.000000  1.658228\n",
       "2785  2000-01-13  5.24500 -0.000953  1.657275\n",
       "2786  2000-01-14  5.23719 -0.001490  1.655785\n",
       "2787  2000-01-17  5.21969 -0.003347  1.652438\n",
       "2788  2000-01-18  5.25000  0.005790  1.658228\n",
       "2789  2000-01-19  5.25000  0.000000  1.658228\n",
       "2790  2000-01-20  5.26531  0.002912  1.661140\n",
       "2791  2000-01-21  5.30000  0.006567  1.667707\n",
       "2792  2000-01-24  5.32000  0.003766  1.671473\n",
       "2793  2000-01-25  5.31750 -0.000470  1.671003\n",
       "2794  2000-01-26  5.33000  0.002348  1.673351\n",
       "2795  2000-01-27  5.35000  0.003745  1.677097\n",
       "2796  2000-01-28  5.30313 -0.008799  1.668297\n",
       "2797  2000-01-31  5.30844  0.001001  1.669298\n",
       "2798  2000-02-01  5.31563  0.001354  1.670652\n",
       "2799  2000-02-02  5.51500  0.036820  1.707472\n",
       "2800  2000-02-03  5.56125  0.008351  1.715823\n",
       "2801  2000-02-04  5.59844  0.006665  1.722488\n",
       "2802  2000-02-07  5.63875  0.007174  1.729662\n",
       "2803  2000-02-08  5.62875 -0.001775  1.727887\n",
       "2804  2000-02-09  5.60750 -0.003782  1.724105\n",
       "2805  2000-02-10  5.60500 -0.000446  1.723659\n",
       "2806  2000-02-11  5.57406 -0.005535  1.718124\n",
       "2807  2000-02-14  5.54531 -0.005171  1.712953\n",
       "...          ...      ...       ...       ...\n",
       "6139  2013-04-18  3.11600  0.000000  1.136550\n",
       "6140  2013-04-19  3.11600  0.000000  1.136550\n",
       "6141  2013-04-22  3.11600  0.000000  1.136550\n",
       "6142  2013-04-23  3.11200 -0.001285  1.135266\n",
       "6143  2013-04-24  3.10200 -0.003219  1.132047\n",
       "6144  2013-04-25  3.09800 -0.001290  1.130757\n",
       "6145  2013-04-26  3.09600 -0.000646  1.130111\n",
       "6146  2013-04-29  3.09600  0.000000  1.130111\n",
       "6147  2013-04-30  3.09400 -0.000646  1.129465\n",
       "6148  2013-05-01  3.09200 -0.000647  1.128818\n",
       "6149  2013-05-02  3.08000 -0.003889  1.124930\n",
       "6150  2013-05-03  3.08000  0.000000  1.124930\n",
       "6151  2013-05-07  2.94000 -0.046520  1.078410\n",
       "6152  2013-05-08  2.91800 -0.007511  1.070898\n",
       "6153  2013-05-09  2.88400 -0.011720  1.059178\n",
       "6154  2013-05-10  2.86800 -0.005563  1.053615\n",
       "6155  2013-05-13  2.86200 -0.002094  1.051521\n",
       "6156  2013-05-14  2.86000 -0.000699  1.050822\n",
       "6157  2013-05-15  2.86400  0.001398  1.052219\n",
       "6158  2013-05-16  2.88000  0.005571  1.057790\n",
       "6159  2013-05-17  2.87600 -0.001390  1.056400\n",
       "6160  2013-05-20  2.87000 -0.002088  1.054312\n",
       "6161  2013-05-21  2.86800 -0.000697  1.053615\n",
       "6162  2013-05-22  2.86400 -0.001396  1.052219\n",
       "6163  2013-05-23  2.85700 -0.002447  1.049772\n",
       "6164  2013-05-24  2.86700  0.003494  1.053266\n",
       "6165  2013-05-28  2.86300 -0.001396  1.051870\n",
       "6166  2013-05-29  2.86100 -0.000699  1.051171\n",
       "6167  2013-05-30  2.86100  0.000000  1.051171\n",
       "6168  2013-05-31  2.86500  0.001397  1.052568\n",
       "\n",
       "[3391 rows x 4 columns]"
      ]
     },
     "execution_count": 67,
     "metadata": {},
     "output_type": "execute_result"
    }
   ],
   "source": [
    "df_after_2000"
   ]
  },
  {
   "cell_type": "markdown",
   "metadata": {},
   "source": [
    "-----------------------\n",
    "We can generate **categorical** data, too."
   ]
  },
  {
   "cell_type": "code",
   "execution_count": 30,
   "metadata": {},
   "outputs": [
    {
     "name": "stderr",
     "output_type": "stream",
     "text": [
      "/usr/lib/python3.6/site-packages/ipykernel/__main__.py:1: SettingWithCopyWarning: \n",
      "A value is trying to be set on a copy of a slice from a DataFrame.\n",
      "Try using .loc[row_indexer,col_indexer] = value instead\n",
      "\n",
      "See the caveats in the documentation: http://pandas.pydata.org/pandas-docs/stable/indexing.html#indexing-view-versus-copy\n",
      "  if __name__ == '__main__':\n"
     ]
    }
   ],
   "source": [
    "df_after_2000['POSITIVE'] = df_after_2000.RETURN>0"
   ]
  },
  {
   "cell_type": "code",
   "execution_count": 31,
   "metadata": {},
   "outputs": [
    {
     "data": {
      "text/html": [
       "<div>\n",
       "<style>\n",
       "    .dataframe thead tr:only-child th {\n",
       "        text-align: right;\n",
       "    }\n",
       "\n",
       "    .dataframe thead th {\n",
       "        text-align: left;\n",
       "    }\n",
       "\n",
       "    .dataframe tbody tr th {\n",
       "        vertical-align: top;\n",
       "    }\n",
       "</style>\n",
       "<table border=\"1\" class=\"dataframe\">\n",
       "  <thead>\n",
       "    <tr style=\"text-align: right;\">\n",
       "      <th></th>\n",
       "      <th>DATE</th>\n",
       "      <th>VALUE</th>\n",
       "      <th>LVALUE</th>\n",
       "      <th>RETURN</th>\n",
       "      <th>POSITIVE</th>\n",
       "    </tr>\n",
       "  </thead>\n",
       "  <tbody>\n",
       "    <tr>\n",
       "      <th>2778</th>\n",
       "      <td>2000-01-04</td>\n",
       "      <td>5.27000</td>\n",
       "      <td>1.662030</td>\n",
       "      <td>-0.009561</td>\n",
       "      <td>False</td>\n",
       "    </tr>\n",
       "    <tr>\n",
       "      <th>2779</th>\n",
       "      <td>2000-01-05</td>\n",
       "      <td>5.25000</td>\n",
       "      <td>1.658228</td>\n",
       "      <td>-0.003802</td>\n",
       "      <td>False</td>\n",
       "    </tr>\n",
       "    <tr>\n",
       "      <th>2780</th>\n",
       "      <td>2000-01-06</td>\n",
       "      <td>5.22969</td>\n",
       "      <td>1.654352</td>\n",
       "      <td>-0.003876</td>\n",
       "      <td>False</td>\n",
       "    </tr>\n",
       "    <tr>\n",
       "      <th>2781</th>\n",
       "      <td>2000-01-07</td>\n",
       "      <td>5.24500</td>\n",
       "      <td>1.657275</td>\n",
       "      <td>0.002923</td>\n",
       "      <td>True</td>\n",
       "    </tr>\n",
       "    <tr>\n",
       "      <th>2782</th>\n",
       "      <td>2000-01-10</td>\n",
       "      <td>5.25000</td>\n",
       "      <td>1.658228</td>\n",
       "      <td>0.000953</td>\n",
       "      <td>True</td>\n",
       "    </tr>\n",
       "    <tr>\n",
       "      <th>2783</th>\n",
       "      <td>2000-01-11</td>\n",
       "      <td>5.25000</td>\n",
       "      <td>1.658228</td>\n",
       "      <td>0.000000</td>\n",
       "      <td>False</td>\n",
       "    </tr>\n",
       "    <tr>\n",
       "      <th>2784</th>\n",
       "      <td>2000-01-12</td>\n",
       "      <td>5.25000</td>\n",
       "      <td>1.658228</td>\n",
       "      <td>0.000000</td>\n",
       "      <td>False</td>\n",
       "    </tr>\n",
       "    <tr>\n",
       "      <th>2785</th>\n",
       "      <td>2000-01-13</td>\n",
       "      <td>5.24500</td>\n",
       "      <td>1.657275</td>\n",
       "      <td>-0.000953</td>\n",
       "      <td>False</td>\n",
       "    </tr>\n",
       "    <tr>\n",
       "      <th>2786</th>\n",
       "      <td>2000-01-14</td>\n",
       "      <td>5.23719</td>\n",
       "      <td>1.655785</td>\n",
       "      <td>-0.001490</td>\n",
       "      <td>False</td>\n",
       "    </tr>\n",
       "    <tr>\n",
       "      <th>2787</th>\n",
       "      <td>2000-01-17</td>\n",
       "      <td>5.21969</td>\n",
       "      <td>1.652438</td>\n",
       "      <td>-0.003347</td>\n",
       "      <td>False</td>\n",
       "    </tr>\n",
       "  </tbody>\n",
       "</table>\n",
       "</div>"
      ],
      "text/plain": [
       "            DATE    VALUE    LVALUE    RETURN  POSITIVE\n",
       "2778  2000-01-04  5.27000  1.662030 -0.009561     False\n",
       "2779  2000-01-05  5.25000  1.658228 -0.003802     False\n",
       "2780  2000-01-06  5.22969  1.654352 -0.003876     False\n",
       "2781  2000-01-07  5.24500  1.657275  0.002923      True\n",
       "2782  2000-01-10  5.25000  1.658228  0.000953      True\n",
       "2783  2000-01-11  5.25000  1.658228  0.000000     False\n",
       "2784  2000-01-12  5.25000  1.658228  0.000000     False\n",
       "2785  2000-01-13  5.24500  1.657275 -0.000953     False\n",
       "2786  2000-01-14  5.23719  1.655785 -0.001490     False\n",
       "2787  2000-01-17  5.21969  1.652438 -0.003347     False"
      ]
     },
     "execution_count": 31,
     "metadata": {},
     "output_type": "execute_result"
    }
   ],
   "source": [
    "df_after_2000.head(10)"
   ]
  },
  {
   "cell_type": "markdown",
   "metadata": {},
   "source": [
    "-------------------\n",
    "We can also generate **dummy** variable from categorical data."
   ]
  },
  {
   "cell_type": "code",
   "execution_count": 33,
   "metadata": {},
   "outputs": [
    {
     "name": "stderr",
     "output_type": "stream",
     "text": [
      "/usr/lib/python3.6/site-packages/ipykernel/__main__.py:1: SettingWithCopyWarning: \n",
      "A value is trying to be set on a copy of a slice from a DataFrame.\n",
      "Try using .loc[row_indexer,col_indexer] = value instead\n",
      "\n",
      "See the caveats in the documentation: http://pandas.pydata.org/pandas-docs/stable/indexing.html#indexing-view-versus-copy\n",
      "  if __name__ == '__main__':\n"
     ]
    },
    {
     "data": {
      "text/html": [
       "<div>\n",
       "<style>\n",
       "    .dataframe thead tr:only-child th {\n",
       "        text-align: right;\n",
       "    }\n",
       "\n",
       "    .dataframe thead th {\n",
       "        text-align: left;\n",
       "    }\n",
       "\n",
       "    .dataframe tbody tr th {\n",
       "        vertical-align: top;\n",
       "    }\n",
       "</style>\n",
       "<table border=\"1\" class=\"dataframe\">\n",
       "  <thead>\n",
       "    <tr style=\"text-align: right;\">\n",
       "      <th></th>\n",
       "      <th>DATE</th>\n",
       "      <th>VALUE</th>\n",
       "      <th>LVALUE</th>\n",
       "      <th>RETURN</th>\n",
       "      <th>POSITIVE</th>\n",
       "      <th>DUMMY</th>\n",
       "    </tr>\n",
       "  </thead>\n",
       "  <tbody>\n",
       "    <tr>\n",
       "      <th>2778</th>\n",
       "      <td>2000-01-04</td>\n",
       "      <td>5.27000</td>\n",
       "      <td>1.662030</td>\n",
       "      <td>-0.009561</td>\n",
       "      <td>False</td>\n",
       "      <td>0</td>\n",
       "    </tr>\n",
       "    <tr>\n",
       "      <th>2779</th>\n",
       "      <td>2000-01-05</td>\n",
       "      <td>5.25000</td>\n",
       "      <td>1.658228</td>\n",
       "      <td>-0.003802</td>\n",
       "      <td>False</td>\n",
       "      <td>0</td>\n",
       "    </tr>\n",
       "    <tr>\n",
       "      <th>2780</th>\n",
       "      <td>2000-01-06</td>\n",
       "      <td>5.22969</td>\n",
       "      <td>1.654352</td>\n",
       "      <td>-0.003876</td>\n",
       "      <td>False</td>\n",
       "      <td>0</td>\n",
       "    </tr>\n",
       "    <tr>\n",
       "      <th>2781</th>\n",
       "      <td>2000-01-07</td>\n",
       "      <td>5.24500</td>\n",
       "      <td>1.657275</td>\n",
       "      <td>0.002923</td>\n",
       "      <td>True</td>\n",
       "      <td>1</td>\n",
       "    </tr>\n",
       "    <tr>\n",
       "      <th>2782</th>\n",
       "      <td>2000-01-10</td>\n",
       "      <td>5.25000</td>\n",
       "      <td>1.658228</td>\n",
       "      <td>0.000953</td>\n",
       "      <td>True</td>\n",
       "      <td>1</td>\n",
       "    </tr>\n",
       "  </tbody>\n",
       "</table>\n",
       "</div>"
      ],
      "text/plain": [
       "            DATE    VALUE    LVALUE    RETURN  POSITIVE  DUMMY\n",
       "2778  2000-01-04  5.27000  1.662030 -0.009561     False      0\n",
       "2779  2000-01-05  5.25000  1.658228 -0.003802     False      0\n",
       "2780  2000-01-06  5.22969  1.654352 -0.003876     False      0\n",
       "2781  2000-01-07  5.24500  1.657275  0.002923      True      1\n",
       "2782  2000-01-10  5.25000  1.658228  0.000953      True      1"
      ]
     },
     "execution_count": 33,
     "metadata": {},
     "output_type": "execute_result"
    }
   ],
   "source": [
    "df_after_2000['DUMMY'] = pd.get_dummies(df_after_2000.POSITIVE,drop_first=True) #converts true/false to 0/1\n",
    "df_after_2000.head()"
   ]
  },
  {
   "cell_type": "markdown",
   "metadata": {},
   "source": [
    "--------------\n",
    "To generate a new variable from two existing varibles."
   ]
  },
  {
   "cell_type": "code",
   "execution_count": 34,
   "metadata": {
    "collapsed": true
   },
   "outputs": [],
   "source": [
    "df['RETURN_2010'] = np.log(df.VALUE[df.DATE > '2010-01-01']).diff()"
   ]
  },
  {
   "cell_type": "code",
   "execution_count": 74,
   "metadata": {},
   "outputs": [
    {
     "data": {
      "text/html": [
       "<div>\n",
       "<style>\n",
       "    .dataframe thead tr:only-child th {\n",
       "        text-align: right;\n",
       "    }\n",
       "\n",
       "    .dataframe thead th {\n",
       "        text-align: left;\n",
       "    }\n",
       "\n",
       "    .dataframe tbody tr th {\n",
       "        vertical-align: top;\n",
       "    }\n",
       "</style>\n",
       "<table border=\"1\" class=\"dataframe\">\n",
       "  <thead>\n",
       "    <tr style=\"text-align: right;\">\n",
       "      <th></th>\n",
       "      <th>DATE</th>\n",
       "      <th>VALUE</th>\n",
       "      <th>RETURN_2010</th>\n",
       "    </tr>\n",
       "  </thead>\n",
       "  <tbody>\n",
       "    <tr>\n",
       "      <th>6164</th>\n",
       "      <td>2013-05-24</td>\n",
       "      <td>2.867</td>\n",
       "      <td>0.003494</td>\n",
       "    </tr>\n",
       "    <tr>\n",
       "      <th>6165</th>\n",
       "      <td>2013-05-28</td>\n",
       "      <td>2.863</td>\n",
       "      <td>-0.001396</td>\n",
       "    </tr>\n",
       "    <tr>\n",
       "      <th>6166</th>\n",
       "      <td>2013-05-29</td>\n",
       "      <td>2.861</td>\n",
       "      <td>-0.000699</td>\n",
       "    </tr>\n",
       "    <tr>\n",
       "      <th>6167</th>\n",
       "      <td>2013-05-30</td>\n",
       "      <td>2.861</td>\n",
       "      <td>0.000000</td>\n",
       "    </tr>\n",
       "    <tr>\n",
       "      <th>6168</th>\n",
       "      <td>2013-05-31</td>\n",
       "      <td>2.865</td>\n",
       "      <td>0.001397</td>\n",
       "    </tr>\n",
       "  </tbody>\n",
       "</table>\n",
       "</div>"
      ],
      "text/plain": [
       "            DATE  VALUE  RETURN_2010\n",
       "6164  2013-05-24  2.867     0.003494\n",
       "6165  2013-05-28  2.863    -0.001396\n",
       "6166  2013-05-29  2.861    -0.000699\n",
       "6167  2013-05-30  2.861     0.000000\n",
       "6168  2013-05-31  2.865     0.001397"
      ]
     },
     "execution_count": 74,
     "metadata": {},
     "output_type": "execute_result"
    }
   ],
   "source": [
    "df.tail()"
   ]
  },
  {
   "cell_type": "markdown",
   "metadata": {},
   "source": [
    "-------------------\n",
    "#### 2.2.2.3 Simple statistics\n"
   ]
  },
  {
   "cell_type": "code",
   "execution_count": 35,
   "metadata": {
    "scrolled": true
   },
   "outputs": [
    {
     "data": {
      "text/html": [
       "<div>\n",
       "<style>\n",
       "    .dataframe thead tr:only-child th {\n",
       "        text-align: right;\n",
       "    }\n",
       "\n",
       "    .dataframe thead th {\n",
       "        text-align: left;\n",
       "    }\n",
       "\n",
       "    .dataframe tbody tr th {\n",
       "        vertical-align: top;\n",
       "    }\n",
       "</style>\n",
       "<table border=\"1\" class=\"dataframe\">\n",
       "  <thead>\n",
       "    <tr style=\"text-align: right;\">\n",
       "      <th></th>\n",
       "      <th>VALUE</th>\n",
       "      <th>RETURN_2010</th>\n",
       "    </tr>\n",
       "  </thead>\n",
       "  <tbody>\n",
       "    <tr>\n",
       "      <th>count</th>\n",
       "      <td>6166.000000</td>\n",
       "      <td>857.000000</td>\n",
       "    </tr>\n",
       "    <tr>\n",
       "      <th>mean</th>\n",
       "      <td>6.464813</td>\n",
       "      <td>-0.000333</td>\n",
       "    </tr>\n",
       "    <tr>\n",
       "      <th>std</th>\n",
       "      <td>3.205446</td>\n",
       "      <td>0.004852</td>\n",
       "    </tr>\n",
       "    <tr>\n",
       "      <th>min</th>\n",
       "      <td>2.857000</td>\n",
       "      <td>-0.088369</td>\n",
       "    </tr>\n",
       "    <tr>\n",
       "      <th>25%</th>\n",
       "      <td>4.800000</td>\n",
       "      <td>-0.000531</td>\n",
       "    </tr>\n",
       "    <tr>\n",
       "      <th>50%</th>\n",
       "      <td>5.422190</td>\n",
       "      <td>0.000000</td>\n",
       "    </tr>\n",
       "    <tr>\n",
       "      <th>75%</th>\n",
       "      <td>6.864375</td>\n",
       "      <td>0.000000</td>\n",
       "    </tr>\n",
       "    <tr>\n",
       "      <th>max</th>\n",
       "      <td>18.125000</td>\n",
       "      <td>0.042016</td>\n",
       "    </tr>\n",
       "  </tbody>\n",
       "</table>\n",
       "</div>"
      ],
      "text/plain": [
       "             VALUE  RETURN_2010\n",
       "count  6166.000000   857.000000\n",
       "mean      6.464813    -0.000333\n",
       "std       3.205446     0.004852\n",
       "min       2.857000    -0.088369\n",
       "25%       4.800000    -0.000531\n",
       "50%       5.422190     0.000000\n",
       "75%       6.864375     0.000000\n",
       "max      18.125000     0.042016"
      ]
     },
     "execution_count": 35,
     "metadata": {},
     "output_type": "execute_result"
    }
   ],
   "source": [
    "df.describe()"
   ]
  },
  {
   "cell_type": "code",
   "execution_count": 78,
   "metadata": {},
   "outputs": [
    {
     "data": {
      "text/html": [
       "<div>\n",
       "<style>\n",
       "    .dataframe thead tr:only-child th {\n",
       "        text-align: right;\n",
       "    }\n",
       "\n",
       "    .dataframe thead th {\n",
       "        text-align: left;\n",
       "    }\n",
       "\n",
       "    .dataframe tbody tr th {\n",
       "        vertical-align: top;\n",
       "    }\n",
       "</style>\n",
       "<table border=\"1\" class=\"dataframe\">\n",
       "  <thead>\n",
       "    <tr style=\"text-align: right;\">\n",
       "      <th></th>\n",
       "      <th>VALUE</th>\n",
       "      <th>RETURN</th>\n",
       "      <th>LVALUE</th>\n",
       "      <th>DUMMY</th>\n",
       "    </tr>\n",
       "  </thead>\n",
       "  <tbody>\n",
       "    <tr>\n",
       "      <th>count</th>\n",
       "      <td>3388.000000</td>\n",
       "      <td>3386.000000</td>\n",
       "      <td>3388.000000</td>\n",
       "      <td>3391.000000</td>\n",
       "    </tr>\n",
       "    <tr>\n",
       "      <th>mean</th>\n",
       "      <td>5.121667</td>\n",
       "      <td>-0.000172</td>\n",
       "      <td>1.611115</td>\n",
       "      <td>0.409319</td>\n",
       "    </tr>\n",
       "    <tr>\n",
       "      <th>std</th>\n",
       "      <td>1.063746</td>\n",
       "      <td>0.006903</td>\n",
       "      <td>0.214505</td>\n",
       "      <td>0.491781</td>\n",
       "    </tr>\n",
       "    <tr>\n",
       "      <th>min</th>\n",
       "      <td>2.857000</td>\n",
       "      <td>-0.119801</td>\n",
       "      <td>1.049772</td>\n",
       "      <td>0.000000</td>\n",
       "    </tr>\n",
       "    <tr>\n",
       "      <th>25%</th>\n",
       "      <td>4.526000</td>\n",
       "      <td>-0.001054</td>\n",
       "      <td>1.509839</td>\n",
       "      <td>0.000000</td>\n",
       "    </tr>\n",
       "    <tr>\n",
       "      <th>50%</th>\n",
       "      <td>4.941250</td>\n",
       "      <td>0.000000</td>\n",
       "      <td>1.597618</td>\n",
       "      <td>0.000000</td>\n",
       "    </tr>\n",
       "    <tr>\n",
       "      <th>75%</th>\n",
       "      <td>5.738437</td>\n",
       "      <td>0.001190</td>\n",
       "      <td>1.747187</td>\n",
       "      <td>1.000000</td>\n",
       "    </tr>\n",
       "    <tr>\n",
       "      <th>max</th>\n",
       "      <td>8.212500</td>\n",
       "      <td>0.113329</td>\n",
       "      <td>2.105657</td>\n",
       "      <td>1.000000</td>\n",
       "    </tr>\n",
       "  </tbody>\n",
       "</table>\n",
       "</div>"
      ],
      "text/plain": [
       "             VALUE       RETURN       LVALUE        DUMMY\n",
       "count  3388.000000  3386.000000  3388.000000  3391.000000\n",
       "mean      5.121667    -0.000172     1.611115     0.409319\n",
       "std       1.063746     0.006903     0.214505     0.491781\n",
       "min       2.857000    -0.119801     1.049772     0.000000\n",
       "25%       4.526000    -0.001054     1.509839     0.000000\n",
       "50%       4.941250     0.000000     1.597618     0.000000\n",
       "75%       5.738437     0.001190     1.747187     1.000000\n",
       "max       8.212500     0.113329     2.105657     1.000000"
      ]
     },
     "execution_count": 78,
     "metadata": {},
     "output_type": "execute_result"
    }
   ],
   "source": [
    "df_after_2000.describe()"
   ]
  },
  {
   "cell_type": "markdown",
   "metadata": {},
   "source": [
    "You may be curious about to what extent we can make nonnegative return."
   ]
  },
  {
   "cell_type": "code",
   "execution_count": 80,
   "metadata": {
    "scrolled": true
   },
   "outputs": [
    {
     "name": "stdout",
     "output_type": "stream",
     "text": [
      "40.93 %\n"
     ]
    }
   ],
   "source": [
    "a = len(df_after_2000[df_after_2000['RETURN'] > 0])/len(df_after_2000) #len is length or number of items\n",
    "print(round(100*a,2),'%')"
   ]
  },
  {
   "cell_type": "markdown",
   "metadata": {},
   "source": [
    "### 2.3 Missing Data\n",
    "\n",
    "[Missing data](https://pandas.pydata.org/pandas-docs/stable/missing_data.html#missing-data) is an important issue in real world financial data. \n",
    "\n",
    "We don't always enjoy the luxury of perfect data.\n",
    "\n",
    "Some functions or algorithms may fail with missing data.\n",
    "\n",
    "\n",
    "Note: <span style=\"color:red\">**NaN**</span> (not a number) is the standard missing data marker used in pandas."
   ]
  },
  {
   "cell_type": "markdown",
   "metadata": {},
   "source": [
    "--------------------\n",
    "First, check whether there is any missing data in our data set."
   ]
  },
  {
   "cell_type": "code",
   "execution_count": 36,
   "metadata": {
    "scrolled": true
   },
   "outputs": [
    {
     "data": {
      "text/html": [
       "<div>\n",
       "<style>\n",
       "    .dataframe thead tr:only-child th {\n",
       "        text-align: right;\n",
       "    }\n",
       "\n",
       "    .dataframe thead th {\n",
       "        text-align: left;\n",
       "    }\n",
       "\n",
       "    .dataframe tbody tr th {\n",
       "        vertical-align: top;\n",
       "    }\n",
       "</style>\n",
       "<table border=\"1\" class=\"dataframe\">\n",
       "  <thead>\n",
       "    <tr style=\"text-align: right;\">\n",
       "      <th></th>\n",
       "      <th>DATE</th>\n",
       "      <th>VALUE</th>\n",
       "      <th>RETURN_2010</th>\n",
       "    </tr>\n",
       "  </thead>\n",
       "  <tbody>\n",
       "    <tr>\n",
       "      <th>5916</th>\n",
       "      <td>2012-06-04</td>\n",
       "      <td>NaN</td>\n",
       "      <td>NaN</td>\n",
       "    </tr>\n",
       "    <tr>\n",
       "      <th>5917</th>\n",
       "      <td>2012-06-05</td>\n",
       "      <td>NaN</td>\n",
       "      <td>NaN</td>\n",
       "    </tr>\n",
       "    <tr>\n",
       "      <th>5976</th>\n",
       "      <td>2012-08-27</td>\n",
       "      <td>NaN</td>\n",
       "      <td>NaN</td>\n",
       "    </tr>\n",
       "  </tbody>\n",
       "</table>\n",
       "</div>"
      ],
      "text/plain": [
       "            DATE  VALUE  RETURN_2010\n",
       "5916  2012-06-04    NaN          NaN\n",
       "5917  2012-06-05    NaN          NaN\n",
       "5976  2012-08-27    NaN          NaN"
      ]
     },
     "execution_count": 36,
     "metadata": {},
     "output_type": "execute_result"
    }
   ],
   "source": [
    "df[pd.isnull(df.VALUE)] #null is the missing values"
   ]
  },
  {
   "cell_type": "code",
   "execution_count": 37,
   "metadata": {
    "scrolled": true
   },
   "outputs": [
    {
     "data": {
      "text/html": [
       "<div>\n",
       "<style>\n",
       "    .dataframe thead tr:only-child th {\n",
       "        text-align: right;\n",
       "    }\n",
       "\n",
       "    .dataframe thead th {\n",
       "        text-align: left;\n",
       "    }\n",
       "\n",
       "    .dataframe tbody tr th {\n",
       "        vertical-align: top;\n",
       "    }\n",
       "</style>\n",
       "<table border=\"1\" class=\"dataframe\">\n",
       "  <thead>\n",
       "    <tr style=\"text-align: right;\">\n",
       "      <th></th>\n",
       "      <th>DATE</th>\n",
       "      <th>VALUE</th>\n",
       "      <th>RETURN_2010</th>\n",
       "    </tr>\n",
       "  </thead>\n",
       "  <tbody>\n",
       "    <tr>\n",
       "      <th>5916</th>\n",
       "      <td>2012-06-04</td>\n",
       "      <td>NaN</td>\n",
       "      <td>NaN</td>\n",
       "    </tr>\n",
       "    <tr>\n",
       "      <th>5917</th>\n",
       "      <td>2012-06-05</td>\n",
       "      <td>NaN</td>\n",
       "      <td>NaN</td>\n",
       "    </tr>\n",
       "    <tr>\n",
       "      <th>5976</th>\n",
       "      <td>2012-08-27</td>\n",
       "      <td>NaN</td>\n",
       "      <td>NaN</td>\n",
       "    </tr>\n",
       "  </tbody>\n",
       "</table>\n",
       "</div>"
      ],
      "text/plain": [
       "            DATE  VALUE  RETURN_2010\n",
       "5916  2012-06-04    NaN          NaN\n",
       "5917  2012-06-05    NaN          NaN\n",
       "5976  2012-08-27    NaN          NaN"
      ]
     },
     "execution_count": 37,
     "metadata": {},
     "output_type": "execute_result"
    }
   ],
   "source": [
    "df[df.VALUE.isnull()]"
   ]
  },
  {
   "cell_type": "markdown",
   "metadata": {},
   "source": [
    "You may wonder where the missing data comes from. \n",
    "\n",
    "Recall that we changed data type in Section 2.2.1.2. This step could generate missing data.\n",
    "\n",
    "We can go back and check the original data."
   ]
  },
  {
   "cell_type": "code",
   "execution_count": 83,
   "metadata": {},
   "outputs": [
    {
     "data": {
      "text/html": [
       "<div>\n",
       "<style>\n",
       "    .dataframe thead tr:only-child th {\n",
       "        text-align: right;\n",
       "    }\n",
       "\n",
       "    .dataframe thead th {\n",
       "        text-align: left;\n",
       "    }\n",
       "\n",
       "    .dataframe tbody tr th {\n",
       "        vertical-align: top;\n",
       "    }\n",
       "</style>\n",
       "<table border=\"1\" class=\"dataframe\">\n",
       "  <thead>\n",
       "    <tr style=\"text-align: right;\">\n",
       "      <th></th>\n",
       "      <th>DATE</th>\n",
       "      <th>VALUE</th>\n",
       "    </tr>\n",
       "  </thead>\n",
       "  <tbody>\n",
       "    <tr>\n",
       "      <th>5916</th>\n",
       "      <td>2012-06-04</td>\n",
       "      <td>.</td>\n",
       "    </tr>\n",
       "    <tr>\n",
       "      <th>5917</th>\n",
       "      <td>2012-06-05</td>\n",
       "      <td>.</td>\n",
       "    </tr>\n",
       "    <tr>\n",
       "      <th>5976</th>\n",
       "      <td>2012-08-27</td>\n",
       "      <td>.</td>\n",
       "    </tr>\n",
       "  </tbody>\n",
       "</table>\n",
       "</div>"
      ],
      "text/plain": [
       "            DATE VALUE\n",
       "5916  2012-06-04     .\n",
       "5917  2012-06-05     .\n",
       "5976  2012-08-27     ."
      ]
     },
     "execution_count": 83,
     "metadata": {},
     "output_type": "execute_result"
    }
   ],
   "source": [
    "df_original = pd.read_table('AUD1MTD156N.csv', sep = ',')\n",
    "df_original.iloc[[5916,5917,5976]]"
   ]
  },
  {
   "cell_type": "markdown",
   "metadata": {},
   "source": [
    "In the original data, it has already been missing."
   ]
  },
  {
   "cell_type": "markdown",
   "metadata": {},
   "source": [
    "------------------------\n",
    "Then, we may remove rows with missing data or replace missing data with different values.\n",
    "\n",
    "Since we can always select the rows, we don't have to remove it."
   ]
  },
  {
   "cell_type": "code",
   "execution_count": 84,
   "metadata": {},
   "outputs": [
    {
     "data": {
      "text/plain": [
       "(6169, 2)"
      ]
     },
     "execution_count": 84,
     "metadata": {},
     "output_type": "execute_result"
    }
   ],
   "source": [
    "df_original.VALUE = pd.to_numeric(df.VALUE, errors='coerce')\n",
    "df_original.shape"
   ]
  },
  {
   "cell_type": "code",
   "execution_count": 85,
   "metadata": {
    "collapsed": true
   },
   "outputs": [],
   "source": [
    "df_original.dropna(inplace=True) #drops the missing values"
   ]
  },
  {
   "cell_type": "code",
   "execution_count": 72,
   "metadata": {
    "scrolled": true
   },
   "outputs": [
    {
     "data": {
      "text/plain": [
       "(6166, 2)"
      ]
     },
     "execution_count": 72,
     "metadata": {},
     "output_type": "execute_result"
    }
   ],
   "source": [
    "df_original.shape #3 rows gone"
   ]
  },
  {
   "cell_type": "markdown",
   "metadata": {},
   "source": [
    "-----------------------"
   ]
  },
  {
   "cell_type": "code",
   "execution_count": 73,
   "metadata": {
    "scrolled": false
   },
   "outputs": [
    {
     "data": {
      "text/plain": [
       "5916    3.989\n",
       "5917    3.989\n",
       "5976    3.748\n",
       "Name: VALUE, dtype: float64"
      ]
     },
     "execution_count": 73,
     "metadata": {},
     "output_type": "execute_result"
    }
   ],
   "source": [
    "df1 = df.VALUE.fillna(method='pad')\n",
    "df1.iloc[[5916,5917,5976]]"
   ]
  },
  {
   "cell_type": "code",
   "execution_count": 74,
   "metadata": {},
   "outputs": [
    {
     "data": {
      "text/html": [
       "<div>\n",
       "<style>\n",
       "    .dataframe thead tr:only-child th {\n",
       "        text-align: right;\n",
       "    }\n",
       "\n",
       "    .dataframe thead th {\n",
       "        text-align: left;\n",
       "    }\n",
       "\n",
       "    .dataframe tbody tr th {\n",
       "        vertical-align: top;\n",
       "    }\n",
       "</style>\n",
       "<table border=\"1\" class=\"dataframe\">\n",
       "  <thead>\n",
       "    <tr style=\"text-align: right;\">\n",
       "      <th></th>\n",
       "      <th>DATE</th>\n",
       "      <th>VALUE</th>\n",
       "      <th>RETURN_2010</th>\n",
       "    </tr>\n",
       "  </thead>\n",
       "  <tbody>\n",
       "    <tr>\n",
       "      <th>5916</th>\n",
       "      <td>2012-06-04</td>\n",
       "      <td>3.849</td>\n",
       "      <td>-0.002341</td>\n",
       "    </tr>\n",
       "    <tr>\n",
       "      <th>5917</th>\n",
       "      <td>2012-06-05</td>\n",
       "      <td>3.849</td>\n",
       "      <td>-0.002341</td>\n",
       "    </tr>\n",
       "    <tr>\n",
       "      <th>5976</th>\n",
       "      <td>2012-08-27</td>\n",
       "      <td>3.748</td>\n",
       "      <td>0.000000</td>\n",
       "    </tr>\n",
       "  </tbody>\n",
       "</table>\n",
       "</div>"
      ],
      "text/plain": [
       "            DATE  VALUE  RETURN_2010\n",
       "5916  2012-06-04  3.849    -0.002341\n",
       "5917  2012-06-05  3.849    -0.002341\n",
       "5976  2012-08-27  3.748     0.000000"
      ]
     },
     "execution_count": 74,
     "metadata": {},
     "output_type": "execute_result"
    }
   ],
   "source": [
    "df2 = df.fillna(method='bfill')\n",
    "df2.iloc[[5916,5917,5976]]"
   ]
  },
  {
   "cell_type": "code",
   "execution_count": 75,
   "metadata": {},
   "outputs": [
    {
     "data": {
      "text/html": [
       "<div>\n",
       "<style>\n",
       "    .dataframe thead tr:only-child th {\n",
       "        text-align: right;\n",
       "    }\n",
       "\n",
       "    .dataframe thead th {\n",
       "        text-align: left;\n",
       "    }\n",
       "\n",
       "    .dataframe tbody tr th {\n",
       "        vertical-align: top;\n",
       "    }\n",
       "</style>\n",
       "<table border=\"1\" class=\"dataframe\">\n",
       "  <thead>\n",
       "    <tr style=\"text-align: right;\">\n",
       "      <th></th>\n",
       "      <th>DATE</th>\n",
       "      <th>VALUE</th>\n",
       "      <th>RETURN_2010</th>\n",
       "    </tr>\n",
       "  </thead>\n",
       "  <tbody>\n",
       "    <tr>\n",
       "      <th>5916</th>\n",
       "      <td>2012-06-04</td>\n",
       "      <td>6.464813</td>\n",
       "      <td>6.464813</td>\n",
       "    </tr>\n",
       "    <tr>\n",
       "      <th>5917</th>\n",
       "      <td>2012-06-05</td>\n",
       "      <td>6.464813</td>\n",
       "      <td>6.464813</td>\n",
       "    </tr>\n",
       "    <tr>\n",
       "      <th>5976</th>\n",
       "      <td>2012-08-27</td>\n",
       "      <td>6.464813</td>\n",
       "      <td>6.464813</td>\n",
       "    </tr>\n",
       "  </tbody>\n",
       "</table>\n",
       "</div>"
      ],
      "text/plain": [
       "            DATE     VALUE  RETURN_2010\n",
       "5916  2012-06-04  6.464813     6.464813\n",
       "5917  2012-06-05  6.464813     6.464813\n",
       "5976  2012-08-27  6.464813     6.464813"
      ]
     },
     "execution_count": 75,
     "metadata": {},
     "output_type": "execute_result"
    }
   ],
   "source": [
    "df3 = df.fillna(df.VALUE.mean())\n",
    "df3.iloc[[5916,5917,5976]]"
   ]
  },
  {
   "cell_type": "code",
   "execution_count": 76,
   "metadata": {},
   "outputs": [
    {
     "data": {
      "text/html": [
       "<div>\n",
       "<style>\n",
       "    .dataframe thead tr:only-child th {\n",
       "        text-align: right;\n",
       "    }\n",
       "\n",
       "    .dataframe thead th {\n",
       "        text-align: left;\n",
       "    }\n",
       "\n",
       "    .dataframe tbody tr th {\n",
       "        vertical-align: top;\n",
       "    }\n",
       "</style>\n",
       "<table border=\"1\" class=\"dataframe\">\n",
       "  <thead>\n",
       "    <tr style=\"text-align: right;\">\n",
       "      <th></th>\n",
       "      <th>DATE</th>\n",
       "      <th>VALUE</th>\n",
       "      <th>RETURN_2010</th>\n",
       "    </tr>\n",
       "  </thead>\n",
       "  <tbody>\n",
       "    <tr>\n",
       "      <th>5916</th>\n",
       "      <td>2012-06-04</td>\n",
       "      <td>3.942333</td>\n",
       "      <td>-0.001525</td>\n",
       "    </tr>\n",
       "    <tr>\n",
       "      <th>5917</th>\n",
       "      <td>2012-06-05</td>\n",
       "      <td>3.895667</td>\n",
       "      <td>-0.001797</td>\n",
       "    </tr>\n",
       "    <tr>\n",
       "      <th>5976</th>\n",
       "      <td>2012-08-27</td>\n",
       "      <td>3.748000</td>\n",
       "      <td>-0.000711</td>\n",
       "    </tr>\n",
       "  </tbody>\n",
       "</table>\n",
       "</div>"
      ],
      "text/plain": [
       "            DATE     VALUE  RETURN_2010\n",
       "5916  2012-06-04  3.942333    -0.001525\n",
       "5917  2012-06-05  3.895667    -0.001797\n",
       "5976  2012-08-27  3.748000    -0.000711"
      ]
     },
     "execution_count": 76,
     "metadata": {},
     "output_type": "execute_result"
    }
   ],
   "source": [
    "df4 = df.interpolate()\n",
    "df4.iloc[[5916,5917,5976]]"
   ]
  },
  {
   "cell_type": "code",
   "execution_count": 77,
   "metadata": {},
   "outputs": [
    {
     "data": {
      "text/plain": [
       "5916    0.0\n",
       "5917    0.0\n",
       "5976    0.0\n",
       "Name: VALUE, dtype: float64"
      ]
     },
     "execution_count": 77,
     "metadata": {},
     "output_type": "execute_result"
    }
   ],
   "source": [
    "df5 = df.VALUE.replace(np.nan,0)\n",
    "df5.iloc[[5916,5917,5976]]"
   ]
  },
  {
   "cell_type": "markdown",
   "metadata": {
    "collapsed": true
   },
   "source": [
    "### 2.4 Save Data\n",
    "\n",
    "It is very important to save your work before you shut down this notebook. Otherwise everything will be lost.\n",
    "\n",
    "Like loading local data, we have many data files to save.\n",
    "\n",
    "Here we take csv as an example."
   ]
  },
  {
   "cell_type": "code",
   "execution_count": 78,
   "metadata": {
    "collapsed": true
   },
   "outputs": [],
   "source": [
    "df.to_csv('LIBOR.csv')"
   ]
  },
  {
   "cell_type": "code",
   "execution_count": 79,
   "metadata": {
    "collapsed": true
   },
   "outputs": [],
   "source": [
    "df_save = pd.read_table('LIBOR.csv', sep = ',')"
   ]
  },
  {
   "cell_type": "code",
   "execution_count": 80,
   "metadata": {},
   "outputs": [
    {
     "data": {
      "text/html": [
       "<div>\n",
       "<style>\n",
       "    .dataframe thead tr:only-child th {\n",
       "        text-align: right;\n",
       "    }\n",
       "\n",
       "    .dataframe thead th {\n",
       "        text-align: left;\n",
       "    }\n",
       "\n",
       "    .dataframe tbody tr th {\n",
       "        vertical-align: top;\n",
       "    }\n",
       "</style>\n",
       "<table border=\"1\" class=\"dataframe\">\n",
       "  <thead>\n",
       "    <tr style=\"text-align: right;\">\n",
       "      <th></th>\n",
       "      <th>Unnamed: 0</th>\n",
       "      <th>DATE</th>\n",
       "      <th>VALUE</th>\n",
       "      <th>RETURN_2010</th>\n",
       "    </tr>\n",
       "  </thead>\n",
       "  <tbody>\n",
       "    <tr>\n",
       "      <th>6164</th>\n",
       "      <td>6164</td>\n",
       "      <td>2013-05-24</td>\n",
       "      <td>2.867</td>\n",
       "      <td>0.003494</td>\n",
       "    </tr>\n",
       "    <tr>\n",
       "      <th>6165</th>\n",
       "      <td>6165</td>\n",
       "      <td>2013-05-28</td>\n",
       "      <td>2.863</td>\n",
       "      <td>-0.001396</td>\n",
       "    </tr>\n",
       "    <tr>\n",
       "      <th>6166</th>\n",
       "      <td>6166</td>\n",
       "      <td>2013-05-29</td>\n",
       "      <td>2.861</td>\n",
       "      <td>-0.000699</td>\n",
       "    </tr>\n",
       "    <tr>\n",
       "      <th>6167</th>\n",
       "      <td>6167</td>\n",
       "      <td>2013-05-30</td>\n",
       "      <td>2.861</td>\n",
       "      <td>0.000000</td>\n",
       "    </tr>\n",
       "    <tr>\n",
       "      <th>6168</th>\n",
       "      <td>6168</td>\n",
       "      <td>2013-05-31</td>\n",
       "      <td>2.865</td>\n",
       "      <td>0.001397</td>\n",
       "    </tr>\n",
       "  </tbody>\n",
       "</table>\n",
       "</div>"
      ],
      "text/plain": [
       "      Unnamed: 0        DATE  VALUE  RETURN_2010\n",
       "6164        6164  2013-05-24  2.867     0.003494\n",
       "6165        6165  2013-05-28  2.863    -0.001396\n",
       "6166        6166  2013-05-29  2.861    -0.000699\n",
       "6167        6167  2013-05-30  2.861     0.000000\n",
       "6168        6168  2013-05-31  2.865     0.001397"
      ]
     },
     "execution_count": 80,
     "metadata": {},
     "output_type": "execute_result"
    }
   ],
   "source": [
    "df_save.tail()"
   ]
  },
  {
   "cell_type": "code",
   "execution_count": null,
   "metadata": {
    "collapsed": true
   },
   "outputs": [],
   "source": []
  }
 ],
 "metadata": {
  "kernelspec": {
   "display_name": "Python 3",
   "language": "python",
   "name": "python3"
  },
  "language_info": {
   "codemirror_mode": {
    "name": "ipython",
    "version": 3
   },
   "file_extension": ".py",
   "mimetype": "text/x-python",
   "name": "python",
   "nbconvert_exporter": "python",
   "pygments_lexer": "ipython3",
   "version": "3.6.2"
  }
 },
 "nbformat": 4,
 "nbformat_minor": 2
}
