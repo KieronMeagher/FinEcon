{
 "cells": [
  {
   "cell_type": "markdown",
   "metadata": {
    "collapsed": true
   },
   "source": [
    "# Risk, Random Numbers and Monte Carlo Method\n",
    "\n",
    "We can model risk in finance by random numbers. \n",
    "\n",
    "For example, we don't know the exact return of a risky asset ex ante. We can model the return of the risky asset as random numbers.\n",
    "\n",
    "To find the closed form solution could be a daunting task even the model involving risk is very simple. \n",
    "\n",
    "Monte Carlo method provides a tractable way to explore the influence of risk in our model.\n",
    "\n",
    "By repeatedly sampling, we can obtain the numerical results."
   ]
  },
  {
   "cell_type": "code",
   "execution_count": 1,
   "metadata": {
    "collapsed": true
   },
   "outputs": [],
   "source": [
    "# We can always import the necessary libraries at the beginning.\n",
    "# Every time you restart this notebook, you may get started from this cell.\n",
    "\n",
    "import pandas as pd\n",
    "import numpy as np\n",
    "import matplotlib.pyplot as plt\n",
    "import random\n",
    "import pandas_datareader.data as web\n"
   ]
  },
  {
   "cell_type": "markdown",
   "metadata": {},
   "source": [
    "# 1. Random Numbers\n",
    "\n",
    "To model risk and to use Monte Carlo method, we need to generate random numbers.\n",
    "\n",
    "The library, `random`, provides various random number generators.\n",
    "\n",
    "We can also use `NumPy` to generate random numbers.\n",
    "\n",
    "Let's play with random numbers first.\n"
   ]
  },
  {
   "cell_type": "markdown",
   "metadata": {},
   "source": [
    "## 1.1 Basic Idea: Distribution and Parameters\n",
    "\n",
    "Try to run the following cell several times. What do you find?"
   ]
  },
  {
   "cell_type": "code",
   "execution_count": 2,
   "metadata": {},
   "outputs": [
    {
     "data": {
      "text/plain": [
       "0.4180259435761814"
      ]
     },
     "execution_count": 2,
     "metadata": {},
     "output_type": "execute_result"
    }
   ],
   "source": [
    "# Here we generate a random number from [0,1) by random\n",
    "\n",
    "random.random()"
   ]
  },
  {
   "cell_type": "code",
   "execution_count": 3,
   "metadata": {},
   "outputs": [
    {
     "data": {
      "text/plain": [
       "0.836421074506657"
      ]
     },
     "execution_count": 3,
     "metadata": {},
     "output_type": "execute_result"
    }
   ],
   "source": [
    "# Here we generate a random number from [0,1) by NumPy\n",
    "\n",
    "np.random.rand()"
   ]
  },
  {
   "cell_type": "markdown",
   "metadata": {},
   "source": [
    "You may find that the result of the cell above always changes.\n",
    "\n",
    "We don't know what the next result will be. That's why we call it \"random numbers\".\n",
    "\n",
    "The distribution matters. We can specify the distribution we need."
   ]
  },
  {
   "cell_type": "code",
   "execution_count": 4,
   "metadata": {},
   "outputs": [
    {
     "data": {
      "text/plain": [
       "1.8968479437923857"
      ]
     },
     "execution_count": 4,
     "metadata": {},
     "output_type": "execute_result"
    }
   ],
   "source": [
    "# Here we specify the parameters of the uniform distribution by random\n",
    "# random.uniform(a,b) gives a random number follows the uniform distribution \n",
    "# the result is a number between a and b.\n",
    "\n",
    "random.uniform(1,2)"
   ]
  },
  {
   "cell_type": "code",
   "execution_count": 5,
   "metadata": {},
   "outputs": [
    {
     "data": {
      "text/plain": [
       "1.7597312246393817"
      ]
     },
     "execution_count": 5,
     "metadata": {},
     "output_type": "execute_result"
    }
   ],
   "source": [
    "# Here we specify the parameters of the uniform distribution by NumPy\n",
    "# random.uniform(a,b) gives a random number follows the uniform distribution \n",
    "# the result is a number between a and b.\n",
    "\n",
    "np.random.uniform(1,2)"
   ]
  },
  {
   "cell_type": "markdown",
   "metadata": {},
   "source": [
    "You can not only change the parameters, but also specify a different distribution."
   ]
  },
  {
   "cell_type": "code",
   "execution_count": 6,
   "metadata": {},
   "outputs": [
    {
     "data": {
      "text/plain": [
       "0.6806219976755847"
      ]
     },
     "execution_count": 6,
     "metadata": {},
     "output_type": "execute_result"
    }
   ],
   "source": [
    "# random.gauss(mu, sigma) gives a random number follows the normal distribution by random\n",
    "# the parameter mu is the expectation (or expected value, mean, average)\n",
    "# the parameter sigma is the standard deviation (or the square root of the variance)\n",
    "\n",
    "random.gauss(0,1)"
   ]
  },
  {
   "cell_type": "code",
   "execution_count": 7,
   "metadata": {},
   "outputs": [
    {
     "data": {
      "text/plain": [
       "0.8559898446807315"
      ]
     },
     "execution_count": 7,
     "metadata": {},
     "output_type": "execute_result"
    }
   ],
   "source": [
    "# random.gauss(mu, sigma) gives a random number follows the normal distribution by NumPy\n",
    "# the parameter mu is the expectation (or expected value, mean, average)\n",
    "# the parameter sigma is the standard deviation (or the square root of the variance)\n",
    "\n",
    "np.random.normal(0,1)"
   ]
  },
  {
   "cell_type": "markdown",
   "metadata": {},
   "source": [
    "## 1.2 Random Numbers\n",
    "\n",
    "We already know how to generate one random number.\n",
    "\n",
    "But in practice, we may need many random numbers.\n",
    "\n",
    "How to generate, say, 100 random numbers?\n",
    "\n",
    "In the following examples, we use `NumPy` only."
   ]
  },
  {
   "cell_type": "code",
   "execution_count": 8,
   "metadata": {
    "scrolled": true
   },
   "outputs": [
    {
     "data": {
      "text/plain": [
       "array([  6.04960576e+00,   1.48107367e+01,   1.14042115e+01,\n",
       "         1.48052923e+01,   1.79742927e+01,   1.35292742e+01,\n",
       "         2.75206237e+01,   1.23355509e+01,  -1.10255592e+01,\n",
       "        -3.11959548e+00,  -1.97541558e+00,  -1.22978639e+01,\n",
       "         1.06918978e+01,  -3.83681864e+00,   2.36370967e+01,\n",
       "        -1.05521628e+01,   3.70942687e+00,   7.18499263e+00,\n",
       "         1.53111643e+01,   1.28328979e+01,   2.43622638e+00,\n",
       "         1.08215766e+01,   1.74832624e+00,   1.26112464e+01,\n",
       "         5.71650403e+00,   5.47710786e-01,   3.18958531e+01,\n",
       "         2.01886055e+01,   2.73093109e+01,   1.06511257e+01,\n",
       "         8.12500558e+00,   8.23284275e+00,   9.72350106e+00,\n",
       "         8.03330009e+00,   2.34214204e+01,   4.28979164e+00,\n",
       "         3.00627772e+01,  -1.00968042e+01,   1.15064311e+01,\n",
       "        -5.57766629e-01,  -3.38284276e+00,   1.12074784e+01,\n",
       "         8.07805923e+00,   1.33481778e+01,   1.17676100e+01,\n",
       "         1.47588361e+01,   1.11715975e+01,   4.18533377e+00,\n",
       "         3.41088489e+00,   1.66895165e+00,   2.18314608e+01,\n",
       "         1.76761033e+01,   2.30836135e+00,   1.44760072e+01,\n",
       "         1.53861171e+01,   7.93429731e+00,  -3.55345166e+00,\n",
       "        -3.24151570e+00,   1.55000827e+01,   3.69898696e+00,\n",
       "         9.11386298e+00,   1.52656066e+01,   2.31510534e+01,\n",
       "         9.74652398e+00,  -6.60949438e-01,   1.53898618e+01,\n",
       "         2.51142869e+01,   1.44333728e+01,   4.03380349e+00,\n",
       "        -9.94987847e+00,   1.81355004e+01,  -6.63320431e-03,\n",
       "         1.50788065e+01,   1.94555310e+01,   5.29481278e+00,\n",
       "         5.25911767e-01,   1.23297050e+01,   1.87563954e+01,\n",
       "         3.46869232e+01,   2.22758836e+00,  -4.81446626e+00,\n",
       "         8.04997387e-01,   4.79464342e+00,   1.91945778e+01,\n",
       "         4.80684704e+00,   5.69654970e+00,   3.62719119e+00,\n",
       "         2.75666977e+01,  -1.31489589e+01,   2.91618200e-01,\n",
       "        -2.81937323e+00,   1.48518826e+01,   9.43885063e+00,\n",
       "         2.17244381e+01,   1.11004286e+01,   3.54328882e+00,\n",
       "         2.70663287e+01,   8.05984282e+00,   3.60120912e+00,\n",
       "         9.09662957e+00])"
      ]
     },
     "execution_count": 8,
     "metadata": {},
     "output_type": "execute_result"
    }
   ],
   "source": [
    "# np.random.normal(expectation, standard deviation, size)\n",
    "\n",
    "np.random.normal(10, 10, 100)"
   ]
  },
  {
   "cell_type": "code",
   "execution_count": 9,
   "metadata": {
    "scrolled": true
   },
   "outputs": [
    {
     "data": {
      "text/plain": [
       "array([ 0.68830082, -1.32893914, -0.44600894,  0.57919504,  0.63533934,\n",
       "       -0.54864248,  2.00445696,  0.17897735,  1.29506148, -1.65713348,\n",
       "        1.08635873, -0.35777524,  1.42109784,  0.39645633,  0.05205079,\n",
       "        0.70673742,  0.9072352 ,  1.50496353, -1.13645989, -0.32782769,\n",
       "        0.29018847, -0.48702912,  1.34108743, -0.05179918, -0.20424709,\n",
       "        0.37547169,  0.28455347,  0.55388899,  1.14144221,  0.42324278,\n",
       "       -0.32067731, -1.5369651 ,  1.02142132,  0.20636091, -1.08701883,\n",
       "       -0.09611202, -1.26095715, -0.39661426,  0.93468935,  0.7526582 ,\n",
       "       -0.23213362, -0.3344059 ,  0.33501274,  0.2491582 ,  0.28646331,\n",
       "       -1.13337421, -1.92815326, -0.98192027,  0.33804122,  0.24934537,\n",
       "        2.23573403, -0.60525642, -1.25067597,  0.36164142,  0.64405285,\n",
       "        0.28765236, -0.26467927,  0.53955388,  0.40285085, -1.19950209,\n",
       "        0.9189286 , -0.07740018,  1.29037124,  0.68192724,  0.42149197,\n",
       "       -0.08646615,  1.46842958, -1.13566891, -1.20214113, -0.81247191,\n",
       "        1.16517604,  0.21054856, -0.15033345, -1.03459104,  0.03943947,\n",
       "        0.83498391, -0.31440552, -0.00706351, -0.87973495,  0.57635286,\n",
       "       -0.62168115, -0.15641517, -0.80786855, -1.03593486,  0.30844229,\n",
       "        0.53828719, -1.9537174 , -1.19763548, -1.03418249, -1.34482689,\n",
       "       -0.82704611, -1.01273404,  0.94933212, -0.58814325,  0.22800192,\n",
       "       -1.61743429,  0.07347456,  0.86042631,  0.24604939,  1.14371172])"
      ]
     },
     "execution_count": 9,
     "metadata": {},
     "output_type": "execute_result"
    }
   ],
   "source": [
    "# For standard normal distribution, N(0,1)\n",
    "# Just specify the size is enough\n",
    "# np.random.standard_normal(size)\n",
    "\n",
    "np.random.standard_normal(100)"
   ]
  },
  {
   "cell_type": "code",
   "execution_count": 10,
   "metadata": {
    "scrolled": true
   },
   "outputs": [
    {
     "data": {
      "image/png": "[encoded data removed]",
      "text/plain": [
       "<matplotlib.figure.Figure at 0x10df1cfd0>"
      ]
     },
     "metadata": {},
     "output_type": "display_data"
    }
   ],
   "source": [
    "# histogram is a good way to show the distribution\n",
    "\n",
    "# first, generate the random numbers\n",
    "x = np.random.standard_normal(10000)\n",
    "\n",
    "# second, plot the histogram with bins = 100\n",
    "# the more bins you got, the smoothier the histogram could be\n",
    "plt.hist(x,bins=100)\n",
    "plt.show()"
   ]
  },
  {
   "cell_type": "markdown",
   "metadata": {},
   "source": [
    "## 1.3 Advanced: Multivariate Normal Distribution\n",
    "\n",
    "In previous examples, we have only one random variable in each distribution.\n",
    "\n",
    "We can also apply the multivariate distribution for multiple random variables.\n",
    "\n",
    "Here we take the multivariate normal distribution as an example. You can also try other multivariate distributions.\n",
    "\n",
    "Suppose we have two random variables, $x$ and $y$, and the expectations of $x$ and $y$ are $\\mu_x=0$ and $\\mu_y=0$, respectively.\n",
    "\n",
    "Let the variance of $x$ and $y$ be $\\sigma^2_x=1$ and $\\sigma^2_y=1$, respectively.\n",
    "\n",
    "The tricky part comes from the correlation, $\\rho$, of $x$ and $y$. Notice that we always have $\\rho_{xy} = \\rho_{yx} = \\rho$.\n",
    "\n",
    "Then the covariance matrix, $cov$, is \n",
    "\\\\[ cov = \\left[\n",
    "  \\begin{array}{2 2}\n",
    "    \\sigma^2_x &   \\rho_{xy} \\\\\n",
    "    \\rho_{yx} & \\sigma^2_y\n",
    "  \\end{array} \\right] = \\left[\n",
    "  \\begin{array}{2 2}\n",
    "    1 & \\rho \\\\\n",
    "    \\rho & 1\n",
    "  \\end{array} \\right]\n",
    " \\\\]\n",
    "\n",
    "\n",
    "Mathematically, the joint distribution of $x$ and $y$ is $N(\\mu_x,\\mu_y,\\sigma_x,\\sigma_y,\\rho_{xy})$.\n",
    "\n",
    "As exercises, you may also try different settings of parameters (expectations, covariance matrices)."
   ]
  },
  {
   "cell_type": "code",
   "execution_count": 11,
   "metadata": {},
   "outputs": [
    {
     "data": {
      "image/png": "[encoded data removed]",
      "text/plain": [
       "<matplotlib.figure.Figure at 0x11130cd30>"
      ]
     },
     "metadata": {},
     "output_type": "display_data"
    }
   ],
   "source": [
    "# first, set the expectations and covariance matrix\n",
    "# assume that the correlation is zero in this example\n",
    "ex = [0,0]\n",
    "cov = [[1,0],[0,1]]\n",
    "\n",
    "# second, generate random number for x and y \n",
    "# from the multivariate normal distribution\n",
    "# '.T' is the transpose to facilitate plot\n",
    "\n",
    "# np.random.multivariate_normal(expectation array, covariance matrix, size)\n",
    "x, y = np.random.multivariate_normal(ex, cov, 5000).T\n",
    "\n",
    "# finally, obtain the scatter plot (a good way to show correlation)\n",
    "# '*' denotes the shape of scatter points\n",
    "# 'equal' makes a balanced plot\n",
    "plt.plot(x, y, '*')\n",
    "plt.axis('equal')\n",
    "plt.show()"
   ]
  },
  {
   "cell_type": "markdown",
   "metadata": {},
   "source": [
    "Change the value of correlation.\n",
    "What do you find?"
   ]
  },
  {
   "cell_type": "code",
   "execution_count": 12,
   "metadata": {},
   "outputs": [
    {
     "data": {
      "image/png": "[encoded data removed]",
      "text/plain": [
       "<matplotlib.figure.Figure at 0x1115b5908>"
      ]
     },
     "metadata": {},
     "output_type": "display_data"
    }
   ],
   "source": [
    "# first, set the expectations and covariance matrix\n",
    "# assume that the correlation is 0.5 in this example\n",
    "ex = [0,0]\n",
    "cov = [[1,0.5],[0.5,1]]\n",
    "\n",
    "# second, generate random number for x and y \n",
    "# from the multivariate normal distribution\n",
    "# '.T' is the transpose to facilitate plot\n",
    "\n",
    "# np.random.multivariate_normal(expectation array, covariance matrix, size)\n",
    "x, y = np.random.multivariate_normal(ex, cov, 5000).T\n",
    "\n",
    "# finally, obtain the scatter plot (a good way to show correlation)\n",
    "# 'x' denotes the shape of scatter points\n",
    "# 'equal' makes a balanced plot\n",
    "plt.plot(x, y, 'x', color='coral')\n",
    "plt.axis('equal')\n",
    "plt.show()"
   ]
  },
  {
   "cell_type": "markdown",
   "metadata": {},
   "source": [
    "# 2. Examples of Risky Assets\n",
    "\n",
    "In this section, we apply Monte Carlo method to risky assets.\n",
    "\n"
   ]
  },
  {
   "cell_type": "markdown",
   "metadata": {},
   "source": [
    "## 2.1 Example: Two Risky Assets with $\\rho=0$\n",
    "\n",
    "Assume these risky assets follow normal distribution.\n",
    "\n",
    "We consider the portofolio of two risky assets, where the weights are $w_1$ and $w_2$, respectively.\n",
    "\n",
    "The expected returns of these two risky assets are $E[r_1]$ and $E[r_2]$, respectively. \n",
    "\n",
    "The variance of returns are $\\sigma^2_1$ and $\\sigma^2_2$, respectively.\n",
    "\n",
    "Hence, the expectation and variance of the return of portofolio are $$E[r_p]=w_1E[r_1]+w_2E[r_2]$$ and $$\\sigma^2_p=w^2_1 \\sigma^2_1 + 2 w_1 w_2 \\rho \\sigma_1 \\sigma_2 + w^2_2 \\sigma^2_2$$ respectively.\n",
    "\n",
    "Notice that the correlation of two risky assets can be any $\\rho \\in [-1,1]$.\n",
    "\n",
    "In this example, the correlation of these two risky assests is $\\rho = 0$.\n",
    "\n",
    "Let $E[r_1]=0.04$, $E[r_2]=0.08$, $\\sigma^2_1=0.06$, $\\sigma^2_2=0.1$."
   ]
  },
  {
   "cell_type": "code",
   "execution_count": 13,
   "metadata": {
    "scrolled": true
   },
   "outputs": [],
   "source": [
    "# For two risky assets\n",
    "# first, generate random numbers\n",
    "#     you can also generate random numbers separately \n",
    "#     since the correlation is zero in this example\n",
    "\n",
    "ex = [0.04, 0.08]\n",
    "cov = [[0.06,0], [0,0.1]]\n",
    "size = 10000\n",
    "\n",
    "# .T is to transpose\n",
    "# we have to transpose it to meet the dimension of x and y\n",
    "# here we return two arrays of random numbers\n",
    "x, y = np.random.multivariate_normal(ex, cov, size).T\n",
    "# the type of x and y is given by type(x) \n",
    "# x.shape gives the size of array\n"
   ]
  },
  {
   "cell_type": "code",
   "execution_count": 14,
   "metadata": {},
   "outputs": [
    {
     "data": {
      "image/png": "[encoded data removed]",
      "text/plain": [
       "<matplotlib.figure.Figure at 0x11151bf28>"
      ]
     },
     "metadata": {},
     "output_type": "display_data"
    }
   ],
   "source": [
    "# second, obtain the histogram of two random variables\n",
    "\n",
    "# plt.subplots(number of rows, number of columns, \n",
    "#              sharey = if share the y-axis, sharex = if share the x-axis)\n",
    "\n",
    "# it return an instance of Figure and an array of (or a single) \n",
    "#        Axes (array or elements in the array)\n",
    "\n",
    "# fig is the name of the entire plot\n",
    "# ax1 and ax2 denote the two subplots, respectively\n",
    "# (ax1,ax2) unpack the array Axes\n",
    "# here we have two subplots\n",
    "fig, (ax1, ax2) = plt.subplots(1, 2, sharey=True, sharex=True)\n",
    "# fig, axes = plt.subplots(1, 2, sharey=True, sharex=True)\n",
    "\n",
    "# here draw the first graph with ax1\n",
    "ax1.hist(x, bins=100, color='green')\n",
    "# axes[0].hist(x, bins=100, color='green')\n",
    "\n",
    "# here draw the second graph with ax2\n",
    "ax2.hist(y, bins=100, color='salmon')\n",
    "# axes[1].hist(y, bins=100, color='salmon')\n",
    "\n",
    "# .show() displays a figure. When running in ipython \n",
    "#     with its pylab mode, display all figures and return to the ipython prompt.\n",
    "plt.show()\n",
    "# fig\n",
    "# Note: plt.show(fig) also works,\n",
    "#       but plt.show(ax1) doesn't work!"
   ]
  },
  {
   "cell_type": "code",
   "execution_count": 15,
   "metadata": {},
   "outputs": [
    {
     "data": {
      "image/png": "[encoded data removed]",
      "text/plain": [
       "<matplotlib.figure.Figure at 0x111861b00>"
      ]
     },
     "execution_count": 15,
     "metadata": {},
     "output_type": "execute_result"
    }
   ],
   "source": [
    "# alternative ways to plot\n",
    "# you can also make axes as array \n",
    "\n",
    "fig, axes = plt.subplots(1, 2, sharey=True, sharex=True)\n",
    "\n",
    "# axes[0] denotes the first element in array axes\n",
    "axes[0].hist(x, bins=100, color='green')\n",
    "axes[0].set_title('x')\n",
    "\n",
    "# axes[1] denotes the second element in array axes\n",
    "axes[1].hist(y, bins=100, color='salmon')\n",
    "axes[1].set_title('y')\n",
    "\n",
    "# you can use fig instead of plt.show()\n",
    "fig"
   ]
  },
  {
   "cell_type": "markdown",
   "metadata": {},
   "source": [
    "### 2.1.1 Analytic Results\n",
    "\n",
    "In the following example, we show how to generate the analytic results of expectations and standard deviations by formulas."
   ]
  },
  {
   "cell_type": "markdown",
   "metadata": {},
   "source": [
    "You can employ the formulas to a specific weight."
   ]
  },
  {
   "cell_type": "code",
   "execution_count": 16,
   "metadata": {},
   "outputs": [
    {
     "name": "stdout",
     "output_type": "stream",
     "text": [
      "The expectation is ER =  0.06 \n",
      " The standard deviation is STD =  0.2\n"
     ]
    }
   ],
   "source": [
    "# For one specific portofolio of two risky assets\n",
    "# first, set the weights of each asset\n",
    "# you can change w1 as you like\n",
    "\n",
    "weight = [0.5, 0.5]\n",
    "\n",
    "# second, check the expectation and variance of the return for this portofolio\n",
    "# Notice that the correlation here is just zero\n",
    "\n",
    "ER = np.sum(ex * np.transpose(weight))\n",
    "STD = np.sqrt(np.dot(np.transpose(weight), np.dot(cov, weight)))\n",
    "\n",
    "# third, print the result\n",
    "\n",
    "print('The expectation is ER = ', round(ER,2), '\\n','The standard deviation is STD = ', round(STD,2))"
   ]
  },
  {
   "cell_type": "markdown",
   "metadata": {},
   "source": [
    "You can also apply the formulas to multiple weights by the `for loop`."
   ]
  },
  {
   "cell_type": "code",
   "execution_count": 19,
   "metadata": {},
   "outputs": [
    {
     "data": {
      "image/png": "[encoded data removed]",
      "text/plain": [
       "<matplotlib.figure.Figure at 0x111cd6940>"
      ]
     },
     "metadata": {},
     "output_type": "display_data"
    }
   ],
   "source": [
    "# For multiple weights, or combinations, of two risky assets in the portofolio\n",
    "# We can use a for loop to generate all expectations and standard deviation\n",
    "\n",
    "# set up array to store results\n",
    "X = np.zeros((2, 100))\n",
    "\n",
    "# for loop of different weights\n",
    "for i in range(0, 100):\n",
    "    # generate a weight\n",
    "    weight = [i/100, 1-i/100]\n",
    "    # compute expectation by formula\n",
    "    X[1,i] = np.sum(ex * np.transpose(weight))\n",
    "    # compute standard deviation by formula\n",
    "    X[0,i] = np.sqrt(np.dot(np.transpose(weight), np.dot(cov, weight)))\n",
    "\n",
    "# plot standard deviation and expectation \n",
    "plt.plot(X[0,:],X[1,:])\n",
    "# label x-axis (you can use latex style)\n",
    "plt.xlabel('$\\sigma_p$')\n",
    "# label y-axis (you can use latex style)\n",
    "plt.ylabel('$\\mu_p$')\n",
    "\n",
    "plt.show()"
   ]
  },
  {
   "cell_type": "markdown",
   "metadata": {},
   "source": [
    "### 2.1.2 Simulation Results\n",
    "\n",
    "In the following example, we show how to generate simulation results by Monte Carlo method.\n",
    "\n",
    "You don't have to apply formulas to compute the expectations and standard deviations. \n",
    "\n",
    "That's why we need Monte Carlo method: sometimes the formula is very complex or the analytic result even doesn't exist!\n",
    "\n",
    "Notice that although every time you draw from the same underlying distribution, the empirical distribution may change because of the randomnness."
   ]
  },
  {
   "cell_type": "code",
   "execution_count": 20,
   "metadata": {
    "collapsed": true
   },
   "outputs": [],
   "source": [
    "# For two risky assets and the returns are x and y\n",
    "# first, set parameters\n",
    "\n",
    "# parameters for random numbers\n",
    "ex = [0.04, 0.08]\n",
    "cov = [[0.06,0], [0,0.1]]\n",
    "size = 10000\n",
    "\n",
    "# parameter for loop\n",
    "# L1 for loop on weight\n",
    "L1 = 100\n",
    "# L2 for loop on sampling\n",
    "L2 = 10"
   ]
  },
  {
   "cell_type": "code",
   "execution_count": 21,
   "metadata": {},
   "outputs": [],
   "source": [
    "# second, compute the empirical mean and variance \n",
    "#          by the x and y\n",
    "\n",
    "# set up array to store results\n",
    "# X1 for analytical results\n",
    "X1 = np.zeros((2, L1))\n",
    "# X2 for simulations\n",
    "X2 = np.zeros((2, L1*L2))\n",
    "# X3 for Monte Carlo results\n",
    "X3 = np.zeros((2, L1))\n",
    "\n",
    "# for loop of different weights\n",
    "for i in range(0, L1):\n",
    "    # generate a weight\n",
    "    weight = i/L1\n",
    "    # compute expectation by formula\n",
    "    X1[1,i] = weight*ex[0] + (1-weight)*ex[1]\n",
    "    # compute standard deviation by formula\n",
    "    X1[0,i] = np.sqrt((weight**2)*cov[0][0] + ((1-weight)**2)*cov[1][1])\n",
    "\n",
    "    # for each weight, get a new sample\n",
    "    for j in range(0,L2):\n",
    "        # draw samples from normal distribution\n",
    "        x, y = np.random.multivariate_normal(ex, cov, size).T\n",
    "        # generate the portoflio w.r.t weight\n",
    "        ptf = weight*x + (1-weight)*y\n",
    "        # compute the mean return for each sample w.r.t each weight\n",
    "        X2[1,j+i*L2] = ptf.mean()\n",
    "        # compute the std return for each sample w.r.t each weight\n",
    "        X2[0,j+i*L2] = ptf.std()\n",
    "    \n",
    "    # calculate Monte Carlo results from simulation for each weight\n",
    "    X3[1,i] = X2[1, i*L2 : (i+1)*L2].mean()\n",
    "    X3[0,i] = X2[0, i*L2 : (i+1)*L2].mean()\n",
    "        "
   ]
  },
  {
   "cell_type": "code",
   "execution_count": 22,
   "metadata": {},
   "outputs": [
    {
     "data": {
      "image/png": "[encoded data removed]",
      "text/plain": [
       "<matplotlib.figure.Figure at 0x112c9c4e0>"
      ]
     },
     "metadata": {},
     "output_type": "display_data"
    }
   ],
   "source": [
    "# Third, plot standard deviation and expectation \n",
    "\n",
    "# plot standard deviation and expectation \n",
    "plt.plot(X1[0,:],X1[1,:], color='red', label='Analytic Result')\n",
    "plt.scatter(X2[0,:],X2[1,:], label='Simulation Result')\n",
    "plt.plot(X3[0,:],X3[1,:], color='yellow', label='Monte Carlo Result')\n",
    "\n",
    "# set the legend of plot\n",
    "plt.legend(bbox_to_anchor=(1.05, 1), loc=2, borderaxespad=0.)\n",
    "\n",
    "# label x-axis (you can use tex expression)\n",
    "plt.xlabel('$\\sigma_p$')\n",
    "# label y-axis (you can use tex expression)\n",
    "plt.ylabel('$\\mu_p$')\n",
    "\n",
    "# set the title of plot\n",
    "plt.title('Monte Carlo Method')\n",
    "\n",
    "plt.show()"
   ]
  },
  {
   "cell_type": "markdown",
   "metadata": {},
   "source": [
    "## 2.2 Example: Three Risky Assests with $\\rho \\neq 0$\n",
    "\n",
    "In this example, the correlation of these three risky assests (stocks) is nonzero.\n",
    "\n",
    "We use the real world financial data in this example."
   ]
  },
  {
   "cell_type": "markdown",
   "metadata": {},
   "source": [
    "Note: <span style=\"color:red\">**data_reader doesn't work in EdStem**</span>.\n",
    "\n",
    "You may download the notebook and run the following cell on your device with data_reader installed.\n",
    "\n",
    "Please uncomment the following cell before you run it."
   ]
  },
  {
   "cell_type": "code",
   "execution_count": null,
   "metadata": {},
   "outputs": [],
   "source": [
    "## Note: data_reader doesn't work in EdStem\n",
    "## if you have already install the data_reader library\n",
    "## you can import data_reader as web\n",
    "## and fetch data from website\n",
    "\n",
    "## list of stocks in portfolio\n",
    "\n",
    "#stocks = ['AAPL','MSFT','GOOGL']\n",
    " \n",
    "## download daily price data for each of the stocks in the portfolio\n",
    "\n",
    "#data = web.DataReader(stocks, data_source='yahoo', start='01/01/2015')['Adj Close']\n"
   ]
  },
  {
   "cell_type": "markdown",
   "metadata": {},
   "source": [
    "For EdStem, try the dataset instead."
   ]
  },
  {
   "cell_type": "code",
   "execution_count": 23,
   "metadata": {
    "collapsed": true
   },
   "outputs": [],
   "source": [
    "# If you run this notebook on EdStem\n",
    "# please try the dataset instead\n",
    "# Risky_Assets.csv \n",
    "# this data file contains the stock price\n",
    "\n",
    "# index_col = 'Date' \n",
    "# here we make the column Date as an index\n",
    "\n",
    "data = pd.read_table('Risky_Assets.csv', sep = ',', index_col = 'Date')\n"
   ]
  },
  {
   "cell_type": "code",
   "execution_count": null,
   "metadata": {},
   "outputs": [],
   "source": [
    "data"
   ]
  },
  {
   "cell_type": "code",
   "execution_count": 24,
   "metadata": {},
   "outputs": [],
   "source": [
    "# generate returns of stock prices\n",
    "\n",
    "# convert daily stock prices into daily returns\n",
    "returns = data.pct_change()\n",
    " \n",
    "# calculate mean daily return and covariance of daily returns\n",
    "mean_daily_returns = returns.mean()\n",
    "cov_matrix = returns.cov()"
   ]
  },
  {
   "cell_type": "code",
   "execution_count": 25,
   "metadata": {},
   "outputs": [
    {
     "data": {
      "text/plain": [
       "AAPL    -0.000458\n",
       "GOOGL   -0.000806\n",
       "MSFT    -0.000747\n",
       "dtype: float64"
      ]
     },
     "execution_count": 25,
     "metadata": {},
     "output_type": "execute_result"
    }
   ],
   "source": [
    "mean_daily_returns"
   ]
  },
  {
   "cell_type": "code",
   "execution_count": 26,
   "metadata": {},
   "outputs": [
    {
     "data": {
      "text/html": [
       "<div>\n",
       "<style>\n",
       "    .dataframe thead tr:only-child th {\n",
       "        text-align: right;\n",
       "    }\n",
       "\n",
       "    .dataframe thead th {\n",
       "        text-align: left;\n",
       "    }\n",
       "\n",
       "    .dataframe tbody tr th {\n",
       "        vertical-align: top;\n",
       "    }\n",
       "</style>\n",
       "<table border=\"1\" class=\"dataframe\">\n",
       "  <thead>\n",
       "    <tr style=\"text-align: right;\">\n",
       "      <th></th>\n",
       "      <th>AAPL</th>\n",
       "      <th>GOOGL</th>\n",
       "      <th>MSFT</th>\n",
       "    </tr>\n",
       "  </thead>\n",
       "  <tbody>\n",
       "    <tr>\n",
       "      <th>AAPL</th>\n",
       "      <td>0.000213</td>\n",
       "      <td>0.000087</td>\n",
       "      <td>0.000104</td>\n",
       "    </tr>\n",
       "    <tr>\n",
       "      <th>GOOGL</th>\n",
       "      <td>0.000087</td>\n",
       "      <td>0.000190</td>\n",
       "      <td>0.000115</td>\n",
       "    </tr>\n",
       "    <tr>\n",
       "      <th>MSFT</th>\n",
       "      <td>0.000104</td>\n",
       "      <td>0.000115</td>\n",
       "      <td>0.000202</td>\n",
       "    </tr>\n",
       "  </tbody>\n",
       "</table>\n",
       "</div>"
      ],
      "text/plain": [
       "           AAPL     GOOGL      MSFT\n",
       "AAPL   0.000213  0.000087  0.000104\n",
       "GOOGL  0.000087  0.000190  0.000115\n",
       "MSFT   0.000104  0.000115  0.000202"
      ]
     },
     "execution_count": 26,
     "metadata": {},
     "output_type": "execute_result"
    }
   ],
   "source": [
    "# Notice that the correlation between stocks is not zero.\n",
    "cov_matrix"
   ]
  },
  {
   "cell_type": "code",
   "execution_count": 27,
   "metadata": {
    "collapsed": true
   },
   "outputs": [],
   "source": [
    "# set up for portfolio\n",
    "\n",
    "# set number of runs of random portfolio weights\n",
    "num_portfolios = 1000\n",
    " \n",
    "# set up array to hold results\n",
    "results = np.zeros((2,num_portfolios))"
   ]
  },
  {
   "cell_type": "code",
   "execution_count": 28,
   "metadata": {
    "collapsed": true,
    "scrolled": true
   },
   "outputs": [],
   "source": [
    "# explore different portfolios by for loop\n",
    "for i in range(num_portfolios):\n",
    "    # select random weights for portfolio holdings\n",
    "    # if you have more than two assets in the portfolio\n",
    "    # randomly drawing weights is better than grid search\n",
    "    weights = np.random.random(3)\n",
    "    # rebalance weights to sum to 1\n",
    "    # a /= b : (new) a = (old) a / b\n",
    "    weights /= np.sum(weights)\n",
    " \n",
    "    # calculate portfolio return and volatility\n",
    "    #     252 is the (rough) number of trading days in each year\n",
    "    #     in this way we get annualised return and standard deviation\n",
    "    portfolio_return = np.sum(mean_daily_returns * weights) * 252\n",
    "    portfolio_std_dev = np.sqrt(np.dot(weights.T,np.dot(cov_matrix, weights))) * np.sqrt(252)\n",
    " \n",
    "    # store results in results array\n",
    "    results[0,i] = portfolio_return\n",
    "    results[1,i] = portfolio_std_dev"
   ]
  },
  {
   "cell_type": "code",
   "execution_count": 29,
   "metadata": {},
   "outputs": [
    {
     "data": {
      "image/png": "[encoded data removed]",
      "text/plain": [
       "<matplotlib.figure.Figure at 0x112e15320>"
      ]
     },
     "metadata": {},
     "output_type": "display_data"
    }
   ],
   "source": [
    "# convert results array to Pandas DataFrame\n",
    "results_frame = pd.DataFrame(results.T,columns=['ret','stdev'])\n",
    " \n",
    "# create scatter plot \n",
    "plt.scatter(results_frame.stdev,results_frame.ret)\n",
    "plt.xlabel('$\\sigma_p$')\n",
    "plt.ylabel('$\\mu_p$')\n",
    "plt.title('Efficient Frontier')\n",
    "plt.show()"
   ]
  },
  {
   "cell_type": "code",
   "execution_count": null,
   "metadata": {
    "collapsed": true
   },
   "outputs": [],
   "source": []
  }
 ],
 "metadata": {
  "kernelspec": {
   "display_name": "Python 3",
   "language": "python",
   "name": "python3"
  },
  "language_info": {
   "codemirror_mode": {
    "name": "ipython",
    "version": 3
   },
   "file_extension": ".py",
   "mimetype": "text/x-python",
   "name": "python",
   "nbconvert_exporter": "python",
   "pygments_lexer": "ipython3",
   "version": "3.6.1"
  }
 },
 "nbformat": 4,
 "nbformat_minor": 2
}
