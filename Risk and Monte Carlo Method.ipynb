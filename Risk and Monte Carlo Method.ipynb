{
 "cells": [
  {
   "cell_type": "markdown",
   "metadata": {
    "collapsed": true
   },
   "source": [
    "# Risk, Random Numbers and Monte Carlo Method\n",
    "\n",
    "We can model risk in finance by random numbers. \n",
    "\n",
    "For example, we don't know the exact return of a risky asset ex ante. We can model the return of the risky asset as random numbers.\n",
    "\n",
    "To find the closed form solution could be a daunting task even the model involving risk is very simple. \n",
    "\n",
    "Monte Carlo method provides a tractable way to explore the influence of risk in our model.\n",
    "\n",
    "By repeatedly sampling, we can obtain the numerical results."
   ]
  },
  {
   "cell_type": "code",
   "execution_count": 1,
   "metadata": {
    "collapsed": true
   },
   "outputs": [],
   "source": [
    "# We can always import the necessary libraries at the beginning.\n",
    "# Every time you restart this notebook, you may get started from this cell.\n",
    "\n",
    "import pandas as pd\n",
    "import numpy as np\n",
    "import matplotlib.pyplot as plt\n",
    "import random\n",
    "import pandas_datareader.data as web\n"
   ]
  },
  {
   "cell_type": "markdown",
   "metadata": {},
   "source": [
    "# 1. Random Numbers\n",
    "\n",
    "To model risk and to use Monte Carlo method, we need to generate random numbers.\n",
    "\n",
    "The library, `random`, provides various random number generators.\n",
    "\n",
    "We can also use `NumPy` to generate random numbers.\n",
    "\n",
    "Let's play with random numbers first.\n"
   ]
  },
  {
   "cell_type": "markdown",
   "metadata": {},
   "source": [
    "## 1.1 Basic Idea: Distribution and Parameters\n",
    "\n",
    "Try to run the following cell several times. What do you find?"
   ]
  },
  {
   "cell_type": "code",
   "execution_count": 2,
   "metadata": {},
   "outputs": [
    {
     "data": {
      "text/plain": [
       "0.33314814939469783"
      ]
     },
     "execution_count": 2,
     "metadata": {},
     "output_type": "execute_result"
    }
   ],
   "source": [
    "# Here we generate a random number from [0,1) by random\n",
    "\n",
    "random.random()"
   ]
  },
  {
   "cell_type": "code",
   "execution_count": 3,
   "metadata": {},
   "outputs": [
    {
     "data": {
      "text/plain": [
       "0.8053311165285467"
      ]
     },
     "execution_count": 3,
     "metadata": {},
     "output_type": "execute_result"
    }
   ],
   "source": [
    "# Here we generate a random number from [0,1) by NumPy\n",
    "\n",
    "np.random.rand()"
   ]
  },
  {
   "cell_type": "markdown",
   "metadata": {},
   "source": [
    "You may find that the result of the cell above always changes.\n",
    "\n",
    "We don't know what the next result will be. That's why we call it \"random numbers\".\n",
    "\n",
    "The distribution matters. We can specify the distribution we need."
   ]
  },
  {
   "cell_type": "code",
   "execution_count": 4,
   "metadata": {},
   "outputs": [
    {
     "data": {
      "text/plain": [
       "1.776686906256163"
      ]
     },
     "execution_count": 4,
     "metadata": {},
     "output_type": "execute_result"
    }
   ],
   "source": [
    "# Here we specify the parameters of the uniform distribution by random\n",
    "# random.uniform(a,b) gives a random number follows the uniform distribution \n",
    "# the result is a number between a and b.\n",
    "\n",
    "random.uniform(1,2)"
   ]
  },
  {
   "cell_type": "code",
   "execution_count": 5,
   "metadata": {},
   "outputs": [
    {
     "data": {
      "text/plain": [
       "1.3866199031264375"
      ]
     },
     "execution_count": 5,
     "metadata": {},
     "output_type": "execute_result"
    }
   ],
   "source": [
    "# Here we specify the parameters of the uniform distribution by NumPy\n",
    "# random.uniform(a,b) gives a random number follows the uniform distribution \n",
    "# the result is a number between a and b.\n",
    "\n",
    "np.random.uniform(1,2)"
   ]
  },
  {
   "cell_type": "markdown",
   "metadata": {},
   "source": [
    "You can not only change the parameters, but also specify a different distribution."
   ]
  },
  {
   "cell_type": "code",
   "execution_count": 6,
   "metadata": {},
   "outputs": [
    {
     "data": {
      "text/plain": [
       "0.7620702069811464"
      ]
     },
     "execution_count": 6,
     "metadata": {},
     "output_type": "execute_result"
    }
   ],
   "source": [
    "# random.gauss(mu, sigma) gives a random number follows the normal distribution by random\n",
    "# the parameter mu is the expectation (or expected value, mean, average)\n",
    "# the parameter sigma is the standard deviation (or the square root of the variance)\n",
    "\n",
    "random.gauss(0,1)"
   ]
  },
  {
   "cell_type": "code",
   "execution_count": 7,
   "metadata": {},
   "outputs": [
    {
     "data": {
      "text/plain": [
       "-0.15960966162856322"
      ]
     },
     "execution_count": 7,
     "metadata": {},
     "output_type": "execute_result"
    }
   ],
   "source": [
    "# random.gauss(mu, sigma) gives a random number follows the normal distribution by NumPy\n",
    "# the parameter mu is the expectation (or expected value, mean, average)\n",
    "# the parameter sigma is the standard deviation (or the square root of the variance)\n",
    "\n",
    "np.random.normal(0,1)"
   ]
  },
  {
   "cell_type": "markdown",
   "metadata": {},
   "source": [
    "## 1.2 Random Numbers\n",
    "\n",
    "We already know how to generate one random number.\n",
    "\n",
    "But in practice, we may need many random numbers.\n",
    "\n",
    "How to generate, say, 100 random numbers?\n",
    "\n",
    "In the following examples, we use `NumPy` only."
   ]
  },
  {
   "cell_type": "code",
   "execution_count": 8,
   "metadata": {
    "scrolled": true
   },
   "outputs": [
    {
     "data": {
      "text/plain": [
       "array([  9.51715387,  16.39117533,   8.88472683,   6.07531624,\n",
       "         9.14761737,  23.75807919,   6.97417496,  10.3788335 ,\n",
       "         6.45125605,  20.4358739 ,   5.19956294,  28.52417757,\n",
       "        -0.46526238,   1.11316543,   1.84373798,   1.45310509,\n",
       "         2.94579496,  15.99427271,  14.08365607,  13.3311968 ,\n",
       "        14.62705006,  -9.7396752 ,  22.57287457,  23.88140329,\n",
       "         5.54472901,  26.18302757,  -2.17094988,  -3.15579851,\n",
       "        20.28457017,  17.93653872,  -8.72115202,  -3.56258329,\n",
       "         9.46068418,   2.07626338,   7.14010635,  13.8447608 ,\n",
       "        18.75491592,  11.54221365,  22.06704233,   8.41766316,\n",
       "        -4.12290903,  12.44238812,  26.89269536,  30.976572  ,\n",
       "         8.20732829,  20.41140046,  12.73234215,  23.22336094,\n",
       "        -0.82926535,   3.72528931,   5.60068039,  17.18282643,\n",
       "         2.96231215,  -1.38197015,  17.07039892,   4.65702908,\n",
       "        14.33430549, -16.41074441,  19.6373709 ,  27.75593297,\n",
       "        22.61027957,   6.81490799,  32.32987181,  -2.13814685,\n",
       "         9.78764341,   8.29626955,   3.48988804,   5.46181458,\n",
       "        16.87367943,  12.84634786,  -3.55337631,  27.23319347,\n",
       "        18.12962051,   7.22626665,   5.64251852,  14.05620915,\n",
       "         6.84961875,   8.03840516,   3.54752819,  20.97051264,\n",
       "        11.70711078,  18.52397153,   8.5701206 ,  18.0783605 ,\n",
       "        -3.73806473,  22.86357124,  35.79213354,  18.64733944,\n",
       "        21.10767242,   8.13433704,   6.32806351,   7.60971868,\n",
       "         5.32714824,  13.87286123,  13.48879043,   8.46882251,\n",
       "        17.88006796,  23.20427137,  -0.74972068,   5.01785419])"
      ]
     },
     "execution_count": 8,
     "metadata": {},
     "output_type": "execute_result"
    }
   ],
   "source": [
    "# np.random.normal(expectation, standard deviation, size)\n",
    "\n",
    "np.random.normal(10, 10, 100)"
   ]
  },
  {
   "cell_type": "code",
   "execution_count": 9,
   "metadata": {
    "scrolled": true
   },
   "outputs": [
    {
     "data": {
      "text/plain": [
       "array([ -4.02042578e-01,   6.16157711e-01,   2.03848958e+00,\n",
       "        -1.31909286e+00,  -1.85470945e+00,  -2.06929125e+00,\n",
       "         9.51970798e-01,  -4.78894034e-01,   4.67492959e-01,\n",
       "         1.35744599e-01,   2.17721490e-01,   1.52164398e-01,\n",
       "        -2.10783011e-01,   3.42421817e-01,  -1.77909365e+00,\n",
       "         1.21671914e+00,   1.60827458e+00,  -7.32156721e-01,\n",
       "        -5.79736921e-01,   6.73716416e-01,   1.25270303e+00,\n",
       "         2.31166308e+00,  -1.41681588e+00,   6.32504617e-02,\n",
       "         6.24889465e-01,   4.51086430e-01,  -1.35181108e+00,\n",
       "        -4.57519816e-01,  -1.62088413e+00,   4.27193352e-01,\n",
       "         3.54690897e-01,   9.56041906e-01,   5.83855785e-01,\n",
       "         1.26223281e+00,   7.05491296e-01,  -7.84422607e-01,\n",
       "        -1.90868419e-03,  -1.20240044e+00,   2.12893366e-01,\n",
       "         1.09969820e+00,   4.57241920e-01,   2.11162926e-01,\n",
       "         3.06129168e-01,  -4.55084866e-01,  -7.16544133e-01,\n",
       "        -3.55140335e-01,  -2.67138469e-02,   3.07411866e-01,\n",
       "        -1.36127971e+00,   2.09380041e-01,  -7.06037588e-02,\n",
       "        -5.32439185e-01,  -2.73262076e-01,   1.85040105e+00,\n",
       "        -1.30684984e+00,   1.93990464e+00,   9.60672394e-01,\n",
       "        -4.07503123e-01,  -1.09084527e+00,   1.05104323e+00,\n",
       "        -3.64973812e-01,   4.51118475e-01,   5.16315597e-01,\n",
       "        -2.36921673e-01,  -1.92099132e+00,  -1.72979153e-01,\n",
       "        -7.72137464e-05,   5.02291387e-01,  -1.86574303e+00,\n",
       "        -5.80701215e-01,   9.62055834e-01,   1.55700379e+00,\n",
       "         2.33507318e-02,   1.16285120e+00,   1.67140417e+00,\n",
       "         1.19481560e+00,  -1.50563095e+00,   4.36417797e-01,\n",
       "         2.71269344e-01,  -4.21807842e-01,  -2.17798822e+00,\n",
       "         1.20497518e+00,  -4.65711174e-01,  -1.47938151e+00,\n",
       "        -1.77125278e+00,  -4.36555758e-01,   1.16243354e+00,\n",
       "        -2.10436511e-01,   1.24384274e+00,  -1.22813682e+00,\n",
       "        -1.55938686e+00,   5.89669865e-01,   3.13826829e-01,\n",
       "        -1.05307831e+00,   1.14061474e+00,  -1.11652805e+00,\n",
       "        -9.36438014e-01,  -9.75636816e-01,   3.68185429e-01,\n",
       "        -1.38241046e+00])"
      ]
     },
     "execution_count": 9,
     "metadata": {},
     "output_type": "execute_result"
    }
   ],
   "source": [
    "# For standard normal distribution, N(0,1)\n",
    "# Just specify the size is enough\n",
    "# np.random.standard_normal(size)\n",
    "\n",
    "np.random.standard_normal(100)"
   ]
  },
  {
   "cell_type": "code",
   "execution_count": 10,
   "metadata": {
    "scrolled": true
   },
   "outputs": [
    {
     "data": {
      "image/png": "[encoded data removed]",
      "text/plain": [
       "<matplotlib.figure.Figure at 0x117144390>"
      ]
     },
     "metadata": {},
     "output_type": "display_data"
    }
   ],
   "source": [
    "# histogram is a good way to show the distribution\n",
    "\n",
    "# first, generate the random numbers\n",
    "x = np.random.standard_normal(10000)\n",
    "\n",
    "# second, plot the histogram with bins = 100\n",
    "# the more bins you got, the smoothier the histogram could be\n",
    "plt.hist(x,bins=100)\n",
    "plt.show()"
   ]
  },
  {
   "cell_type": "markdown",
   "metadata": {},
   "source": [
    "## 1.3 Advanced: Multivariate Normal Distribution\n",
    "\n",
    "In previous examples, we have only one random variable in each distribution.\n",
    "\n",
    "We can also apply the multivariate distribution for multiple random variables.\n",
    "\n",
    "Here we take the multivariate normal distribution as an example. You can also try other multivariate distributions.\n",
    "\n",
    "Suppose we have two random variables, $x$ and $y$, and the expectations of $x$ and $y$ are $\\mu_x=0$ and $\\mu_y=0$, respectively.\n",
    "\n",
    "Let the variance of $x$ and $y$ be $\\sigma^2_x=1$ and $\\sigma^2_y=1$, respectively.\n",
    "\n",
    "The tricky part comes from the correlation, $\\rho$, of $x$ and $y$. Notice that we always have $\\rho_{xy} = \\rho_{yx} = \\rho$.\n",
    "\n",
    "Then the covariance matrix, $cov$, is \n",
    "\\\\[ cov = \\left[\n",
    "  \\begin{array}{2 2}\n",
    "    \\sigma^2_x &   \\rho_{xy} \\\\\n",
    "    \\rho_{yx} & \\sigma^2_y\n",
    "  \\end{array} \\right] = \\left[\n",
    "  \\begin{array}{2 2}\n",
    "    1 & \\rho \\\\\n",
    "    \\rho & 1\n",
    "  \\end{array} \\right]\n",
    " \\\\]\n",
    "\n",
    "\n",
    "Mathematically, the joint distribution of $x$ and $y$ is $N(\\mu_x,\\mu_y,\\sigma_x,\\sigma_y,\\rho_{xy})$.\n",
    "\n",
    "As exercises, you may also try different settings of parameters (expectations, covariance matrices)."
   ]
  },
  {
   "cell_type": "code",
   "execution_count": 11,
   "metadata": {},
   "outputs": [
    {
     "data": {
      "image/png": "[encoded data removed]",
      "text/plain": [
       "<matplotlib.figure.Figure at 0x11ba92f98>"
      ]
     },
     "metadata": {},
     "output_type": "display_data"
    }
   ],
   "source": [
    "# first, set the expectations and covariance matrix\n",
    "# assume that the correlation is zero in this example\n",
    "ex = [0,0]\n",
    "cov = [[1,0],[0,1]]\n",
    "\n",
    "# second, generate random number for x and y \n",
    "# from the multivariate normal distribution\n",
    "# '.T' is the transpose to facilitate plot\n",
    "\n",
    "# np.random.multivariate_normal(expectation array, covariance matrix, size)\n",
    "x, y = np.random.multivariate_normal(ex, cov, 5000).T\n",
    "\n",
    "# finally, obtain the scatter plot (a good way to show correlation)\n",
    "# '*' denotes the shape of scatter points\n",
    "# 'equal' makes a balanced plot\n",
    "plt.plot(x, y, '*')\n",
    "plt.axis('equal')\n",
    "plt.show()"
   ]
  },
  {
   "cell_type": "markdown",
   "metadata": {},
   "source": [
    "Change the value of correlation.\n",
    "What do you find?"
   ]
  },
  {
   "cell_type": "code",
   "execution_count": 12,
   "metadata": {},
   "outputs": [
    {
     "data": {
      "image/png": "[encoded data removed]",
      "text/plain": [
       "<matplotlib.figure.Figure at 0x1186ba160>"
      ]
     },
     "metadata": {},
     "output_type": "display_data"
    }
   ],
   "source": [
    "# first, set the expectations and covariance matrix\n",
    "# assume that the correlation is 0.5 in this example\n",
    "ex = [0,0]\n",
    "cov = [[1,0.5],[0.5,1]]\n",
    "\n",
    "# second, generate random number for x and y \n",
    "# from the multivariate normal distribution\n",
    "# '.T' is the transpose to facilitate plot\n",
    "\n",
    "# np.random.multivariate_normal(expectation array, covariance matrix, size)\n",
    "x, y = np.random.multivariate_normal(ex, cov, 5000).T\n",
    "\n",
    "# finally, obtain the scatter plot (a good way to show correlation)\n",
    "# 'x' denotes the shape of scatter points\n",
    "# 'equal' makes a balanced plot\n",
    "plt.plot(x, y, 'x', color='coral')\n",
    "plt.axis('equal')\n",
    "plt.show()"
   ]
  },
  {
   "cell_type": "markdown",
   "metadata": {},
   "source": [
    "# 2. Examples of Risky Assets\n",
    "\n",
    "In this section, we apply Monte Carlo method to risky assets.\n",
    "\n"
   ]
  },
  {
   "cell_type": "markdown",
   "metadata": {},
   "source": [
    "## 2.1 Example: Two Risky Assets with $\\rho=0$\n",
    "\n",
    "Assume these risky assets follow normal distribution.\n",
    "\n",
    "We consider the portofolio of two risky assets, where the weights are $w_1$ and $w_2$, respectively.\n",
    "\n",
    "The expected returns of these two risky assets are $E[r_1]$ and $E[r_2]$, respectively. \n",
    "\n",
    "The variance of returns are $\\sigma^2_1$ and $\\sigma^2_2$, respectively.\n",
    "\n",
    "Hence, the expectation and variance of the return of portofolio are $$E[r_p]=w_1E[r_1]+w_2E[r_2]$$ and $$\\sigma^2_p=w^2_1 \\sigma^2_1 + 2 w_1 w_2 \\rho \\sigma_1 \\sigma_2 + w^2_2 \\sigma^2_2$$ respectively.\n",
    "\n",
    "Notice that the correlation of two risky assets can be any $\\rho \\in [-1,1]$.\n",
    "\n",
    "In this example, the correlation of these two risky assests is $\\rho = 0$.\n",
    "\n",
    "Let $E[r_1]=0.04$, $E[r_2]=0.08$, $\\sigma^2_1=0.06$, $\\sigma^2_2=0.1$."
   ]
  },
  {
   "cell_type": "code",
   "execution_count": 13,
   "metadata": {},
   "outputs": [
    {
     "data": {
      "image/png": "[encoded data removed]",
      "text/plain": [
       "<matplotlib.figure.Figure at 0x11bd25198>"
      ]
     },
     "metadata": {},
     "output_type": "display_data"
    }
   ],
   "source": [
    "# For two risky assets\n",
    "# first, generate random numbers\n",
    "#     you can also generate random numbers separately \n",
    "#     since the correlation is zero in this example\n",
    "\n",
    "ex = [0.04, 0.08]\n",
    "cov = [[0.06,0], [0,0.1]]\n",
    "size = 10000\n",
    "\n",
    "x, y = np.random.multivariate_normal(ex, cov, size).T\n",
    "\n",
    "# second, obtain the histogram of two random variables\n",
    "# plt.subplots(number of row, number of column, \n",
    "#              sharey = if share the y-axis, sharex = if share the x-axis)\n",
    "fig, (ax1, ax2) = plt.subplots(1, 2, sharey=True, sharex=True)\n",
    "ax1.hist(x, bins=100, color='green')\n",
    "ax2.hist(y, bins=100, color='salmon')\n",
    "plt.show()"
   ]
  },
  {
   "cell_type": "markdown",
   "metadata": {},
   "source": [
    "### 2.1.1 Analytic Results\n",
    "\n",
    "In the following example, we show how to generate the analytic results of expectations and standard deviations by formulas."
   ]
  },
  {
   "cell_type": "markdown",
   "metadata": {},
   "source": [
    "You can employ the formulas to a specific weight."
   ]
  },
  {
   "cell_type": "code",
   "execution_count": 14,
   "metadata": {},
   "outputs": [
    {
     "name": "stdout",
     "output_type": "stream",
     "text": [
      "The expectation is ER =  0.06 \n",
      " The standard deviation is STD =  0.2\n"
     ]
    }
   ],
   "source": [
    "# For one specific portofolio of two risky assets\n",
    "# first, set the weights of each asset\n",
    "# you can change w1 as you like\n",
    "\n",
    "weight = [0.5, 0.5]\n",
    "\n",
    "# second, check the expectation and variance of the return for this portofolio\n",
    "# Notice that the correlation here is just zero\n",
    "\n",
    "ER = np.sum(ex * np.transpose(weight))\n",
    "STD = np.sqrt(np.dot(np.transpose(weight), np.dot(cov, weight)))\n",
    "\n",
    "# third, print the result\n",
    "\n",
    "print('The expectation is ER = ', round(ER,2), '\\n','The standard deviation is STD = ', round(STD,2))"
   ]
  },
  {
   "cell_type": "markdown",
   "metadata": {},
   "source": [
    "You can also apply the formulas to multiple weights by the `for loop`."
   ]
  },
  {
   "cell_type": "code",
   "execution_count": 15,
   "metadata": {},
   "outputs": [
    {
     "data": {
      "image/png": "[encoded data removed]",
      "text/plain": [
       "<matplotlib.figure.Figure at 0x11c046a58>"
      ]
     },
     "metadata": {},
     "output_type": "display_data"
    }
   ],
   "source": [
    "# For multiple weights, or combinations, of two risky assets in the portofolio\n",
    "# We can use a for loop to generate all expectations and standard deviation\n",
    "\n",
    "# set up array to store results\n",
    "X = np.zeros((2, 100))\n",
    "\n",
    "# for loop of different weights\n",
    "for i in range(0, 100):\n",
    "    # generate a weight\n",
    "    weight = [i/100, 1-i/100]\n",
    "    # compute expectation by formula\n",
    "    X[1,i] = np.sum(ex * np.transpose(weight))\n",
    "    # compute standard deviation by formula\n",
    "    X[0,i] = np.sqrt(np.dot(np.transpose(weight), np.dot(cov, weight)))\n",
    "\n",
    "# plot standard deviation and expectation \n",
    "plt.plot(X[0,:],X[1,:])\n",
    "# label x-axis (you can use latex style)\n",
    "plt.xlabel('$\\sigma_p$')\n",
    "# label y-axis (you can use latex style)\n",
    "plt.ylabel('$\\mu_p$')\n",
    "plt.show()"
   ]
  },
  {
   "cell_type": "markdown",
   "metadata": {},
   "source": [
    "### 2.1.2 Simulation Results\n",
    "\n",
    "In the following example, we show how to generate simulation results by Monte Carlo method.\n",
    "\n",
    "You don't have to apply formulas to compute the expectations and standard deviations. \n",
    "\n",
    "That's why we need Monte Carlo method: sometimes the formula is very complex or the analytic result even doesn't exist!\n",
    "\n",
    "Notice that although every time you draw from the same underlying distribution, the empirical distribution may change because of the randomnness."
   ]
  },
  {
   "cell_type": "code",
   "execution_count": 16,
   "metadata": {
    "collapsed": true
   },
   "outputs": [],
   "source": [
    "# For two risky assets and the returns are x and y\n",
    "# first, set parameters\n",
    "\n",
    "# parameters for random numbers\n",
    "ex = [0.04, 0.08]\n",
    "cov = [[0.06,0], [0,0.1]]\n",
    "size = 10000\n",
    "\n",
    "# parameter for loop\n",
    "# L1 for loop on weight\n",
    "L1 = 100\n",
    "# L2 for loop on sampling\n",
    "L2 = 10"
   ]
  },
  {
   "cell_type": "code",
   "execution_count": 17,
   "metadata": {},
   "outputs": [],
   "source": [
    "# second, compute the empirical mean and variance \n",
    "#          by the x and y\n",
    "\n",
    "# set up array to store results\n",
    "# X1 for analytical results\n",
    "X1 = np.zeros((2, L1))\n",
    "# X2 for simulations\n",
    "X2 = np.zeros((2, L1*L2))\n",
    "# X3 for Monte Carlo results\n",
    "X3 = np.zeros((2, L1))\n",
    "\n",
    "# for loop of different weights\n",
    "for i in range(0, L1):\n",
    "    # generate a weight\n",
    "    weight = i/L1\n",
    "    # compute expectation by formula\n",
    "    X1[1,i] = weight*ex[0] + (1-weight)*ex[1]\n",
    "    # compute standard deviation by formula\n",
    "    X1[0,i] = np.sqrt((weight**2)*cov[0][0] + ((1-weight)**2)*cov[1][1])\n",
    "\n",
    "    # for each weight, get a new sample\n",
    "    for j in range(0,L2):\n",
    "        # draw samples from normal distribution\n",
    "        x, y = np.random.multivariate_normal(ex, cov, size).T\n",
    "        # generate the portoflio w.r.t weight\n",
    "        ptf = weight*x + (1-weight)*y\n",
    "        # compute the mean return\n",
    "        X2[1,j+i*L2] = ptf.mean()\n",
    "        # compute the std return\n",
    "        X2[0,j+i*L2] = ptf.std()\n",
    "    \n",
    "    # calculate Monte Carlo results from simulation\n",
    "    X3[1,i] = X2[1, i*L2 : (i+1)*L2].mean()\n",
    "    X3[0,i] = X2[0, i*L2 : (i+1)*L2].mean()\n",
    "        "
   ]
  },
  {
   "cell_type": "code",
   "execution_count": 18,
   "metadata": {},
   "outputs": [
    {
     "data": {
      "image/png": "[encoded data removed]",
      "text/plain": [
       "<matplotlib.figure.Figure at 0x11bb69be0>"
      ]
     },
     "metadata": {},
     "output_type": "display_data"
    }
   ],
   "source": [
    "# Third, plot standard deviation and expectation \n",
    "\n",
    "# plot standard deviation and expectation \n",
    "plt.plot(X1[0,:],X1[1,:], color='red', label='Analytic Result')\n",
    "plt.scatter(X2[0,:],X2[1,:], label='Simulation Result')\n",
    "plt.plot(X3[0,:],X3[1,:], color='yellow', label='Monte Carlo Result')\n",
    "\n",
    "# set the legend of plot\n",
    "plt.legend(bbox_to_anchor=(1.05, 1), loc=2, borderaxespad=0.)\n",
    "\n",
    "# label x-axis (you can use latex style)\n",
    "plt.xlabel('$\\sigma_p$')\n",
    "# label y-axis (you can use latex style)\n",
    "plt.ylabel('$\\mu_p$')\n",
    "\n",
    "# set the title of plot\n",
    "plt.title('Monte Carlo Method')\n",
    "\n",
    "plt.show()"
   ]
  },
  {
   "cell_type": "markdown",
   "metadata": {},
   "source": [
    "## 2.2 Example: Three Risky Assests with $\\rho \\neq 0$\n",
    "\n",
    "In this example, the correlation of these three risky assests (stocks) is nonzero.\n",
    "\n",
    "We use the real world financial data in this example."
   ]
  },
  {
   "cell_type": "code",
   "execution_count": 19,
   "metadata": {
    "collapsed": true
   },
   "outputs": [],
   "source": [
    "# fetch data from website\n",
    "\n",
    "# list of stocks in portfolio\n",
    "stocks = ['AAPL','MSFT','GOOGL']\n",
    " \n",
    "# download daily price data for each of the stocks in the portfolio\n",
    "data = web.DataReader(stocks, data_source='yahoo', start='01/01/2015')['Adj Close']"
   ]
  },
  {
   "cell_type": "code",
   "execution_count": 20,
   "metadata": {
    "collapsed": true
   },
   "outputs": [],
   "source": [
    "# generate returns of stock prices\n",
    "\n",
    "# convert daily stock prices into daily returns\n",
    "returns = data.pct_change()\n",
    " \n",
    "# calculate mean daily return and covariance of daily returns\n",
    "mean_daily_returns = returns.mean()\n",
    "cov_matrix = returns.cov()"
   ]
  },
  {
   "cell_type": "code",
   "execution_count": 21,
   "metadata": {},
   "outputs": [
    {
     "data": {
      "text/plain": [
       "AAPL    -0.000458\n",
       "GOOGL   -0.000806\n",
       "MSFT    -0.000747\n",
       "dtype: float64"
      ]
     },
     "execution_count": 21,
     "metadata": {},
     "output_type": "execute_result"
    }
   ],
   "source": [
    "mean_daily_returns"
   ]
  },
  {
   "cell_type": "code",
   "execution_count": 22,
   "metadata": {},
   "outputs": [
    {
     "data": {
      "text/html": [
       "<div>\n",
       "<style>\n",
       "    .dataframe thead tr:only-child th {\n",
       "        text-align: right;\n",
       "    }\n",
       "\n",
       "    .dataframe thead th {\n",
       "        text-align: left;\n",
       "    }\n",
       "\n",
       "    .dataframe tbody tr th {\n",
       "        vertical-align: top;\n",
       "    }\n",
       "</style>\n",
       "<table border=\"1\" class=\"dataframe\">\n",
       "  <thead>\n",
       "    <tr style=\"text-align: right;\">\n",
       "      <th></th>\n",
       "      <th>AAPL</th>\n",
       "      <th>GOOGL</th>\n",
       "      <th>MSFT</th>\n",
       "    </tr>\n",
       "  </thead>\n",
       "  <tbody>\n",
       "    <tr>\n",
       "      <th>AAPL</th>\n",
       "      <td>0.000213</td>\n",
       "      <td>0.000087</td>\n",
       "      <td>0.000104</td>\n",
       "    </tr>\n",
       "    <tr>\n",
       "      <th>GOOGL</th>\n",
       "      <td>0.000087</td>\n",
       "      <td>0.000190</td>\n",
       "      <td>0.000115</td>\n",
       "    </tr>\n",
       "    <tr>\n",
       "      <th>MSFT</th>\n",
       "      <td>0.000104</td>\n",
       "      <td>0.000115</td>\n",
       "      <td>0.000202</td>\n",
       "    </tr>\n",
       "  </tbody>\n",
       "</table>\n",
       "</div>"
      ],
      "text/plain": [
       "           AAPL     GOOGL      MSFT\n",
       "AAPL   0.000213  0.000087  0.000104\n",
       "GOOGL  0.000087  0.000190  0.000115\n",
       "MSFT   0.000104  0.000115  0.000202"
      ]
     },
     "execution_count": 22,
     "metadata": {},
     "output_type": "execute_result"
    }
   ],
   "source": [
    "# Notice that the correlation between stocks is not zero.\n",
    "cov_matrix"
   ]
  },
  {
   "cell_type": "code",
   "execution_count": 23,
   "metadata": {
    "collapsed": true
   },
   "outputs": [],
   "source": [
    "# set up for portfolio\n",
    "\n",
    "# set number of runs of random portfolio weights\n",
    "num_portfolios = 1000\n",
    " \n",
    "# set up array to hold results\n",
    "results = np.zeros((2,num_portfolios))"
   ]
  },
  {
   "cell_type": "code",
   "execution_count": 24,
   "metadata": {
    "collapsed": true,
    "scrolled": true
   },
   "outputs": [],
   "source": [
    "# explore different portfolios by for loop\n",
    "for i in range(num_portfolios):\n",
    "    #select random weights for portfolio holdings\n",
    "    weights = np.random.random(3)\n",
    "    #rebalance weights to sum to 1\n",
    "    weights /= np.sum(weights)\n",
    " \n",
    "    #calculate portfolio return and volatility\n",
    "    portfolio_return = np.sum(mean_daily_returns * weights) * 252\n",
    "    portfolio_std_dev = np.sqrt(np.dot(weights.T,np.dot(cov_matrix, weights))) * np.sqrt(252)\n",
    " \n",
    "    #store results in results array\n",
    "    results[0,i] = portfolio_return\n",
    "    results[1,i] = portfolio_std_dev"
   ]
  },
  {
   "cell_type": "code",
   "execution_count": 25,
   "metadata": {},
   "outputs": [
    {
     "data": {
      "image/png": "[encoded data removed]",
      "text/plain": [
       "<matplotlib.figure.Figure at 0x11d0ad5f8>"
      ]
     },
     "metadata": {},
     "output_type": "display_data"
    }
   ],
   "source": [
    "# convert results array to Pandas DataFrame\n",
    "results_frame = pd.DataFrame(results.T,columns=['ret','stdev'])\n",
    " \n",
    "# create scatter plot \n",
    "plt.scatter(results_frame.stdev,results_frame.ret)\n",
    "plt.xlabel('$\\sigma_p$')\n",
    "plt.ylabel('$\\mu_p$')\n",
    "plt.title('Efficient Frontier')\n",
    "plt.show()"
   ]
  },
  {
   "cell_type": "code",
   "execution_count": null,
   "metadata": {
    "collapsed": true
   },
   "outputs": [],
   "source": []
  }
 ],
 "metadata": {
  "kernelspec": {
   "display_name": "Python 3",
   "language": "python",
   "name": "python3"
  },
  "language_info": {
   "codemirror_mode": {
    "name": "ipython",
    "version": 3
   },
   "file_extension": ".py",
   "mimetype": "text/x-python",
   "name": "python",
   "nbconvert_exporter": "python",
   "pygments_lexer": "ipython3",
   "version": "3.6.1"
  }
 },
 "nbformat": 4,
 "nbformat_minor": 2
}
